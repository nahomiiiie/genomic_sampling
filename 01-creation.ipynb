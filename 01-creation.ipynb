{
 "cells": [
  {
   "cell_type": "markdown",
   "id": "130da0f2",
   "metadata": {},
   "source": [
    "# 01-Creation\n",
    "\n",
    "Things to do:\n",
    "1. Initialize root case\n",
    "    1. take in FASTA file from directory\n",
    "    2. save FASTA sequence as array of characters\n",
    "    3. intitialize community, date\n",
    "2. Create descendent communities\n",
    "    1. Set number of people in each communitiy\n",
    "    2. look at SIR rates  - when infected \n",
    "        1. infecting x in A - Poisson\n",
    "        2. infection x in B - Poisson\n",
    "        3. recovering and leaving R - Gaussian? IDK\n",
    "        4. select person from each community randomly based on rate\n",
    "    3. At infection, look at mutation formula and pass onto reciever\n",
    "    \n",
    "TODO:\n",
    " *  figure out community size x data structure - prob dictionary\n",
    " *  how to pick community?\n",
    " *  function to actually mutate sequence\n",
    "    "
   ]
  },
  {
   "cell_type": "markdown",
   "id": "53ee722e",
   "metadata": {},
   "source": [
    "# 0. Setup"
   ]
  },
  {
   "cell_type": "code",
   "execution_count": 4,
   "id": "72d46411",
   "metadata": {},
   "outputs": [],
   "source": [
    "import numpy as np\n",
    "import scipy.stats as stats\n",
    "import scipy.special as ssp\n",
    "import matplotlib.pyplot as plt\n",
    "import pandas as pd\n",
    "import random\n",
    "import datetime\n",
    "import seaborn as sns\n",
    "\n",
    "from Bio import SeqIO\n"
   ]
  },
  {
   "cell_type": "code",
   "execution_count": null,
   "id": "91f97f1c-57ce-4690-b5e6-0316c0cf9aae",
   "metadata": {},
   "outputs": [],
   "source": [
    "#RUN ME TO COLLECT PRESET DATA\n",
    "agents = pd.read_csv('sus_all.csv')\n",
    "gnm = pd.read_csv('all.csv')"
   ]
  },
  {
   "cell_type": "code",
   "execution_count": 5,
   "id": "b42572a8",
   "metadata": {},
   "outputs": [
    {
     "data": {
      "text/plain": [
       "23"
      ]
     },
     "execution_count": 5,
     "metadata": {},
     "output_type": "execute_result"
    }
   ],
   "source": [
    "np.random.binomial(99,.25)"
   ]
  },
  {
   "cell_type": "markdown",
   "id": "13fa3002",
   "metadata": {},
   "source": [
    "## 0.1 Functions"
   ]
  },
  {
   "cell_type": "code",
   "execution_count": 6,
   "id": "5b22b56e",
   "metadata": {},
   "outputs": [],
   "source": [
    "#from functions import num_infected\n",
    "def num_infected(rate, Sus_I):\n",
    "#inner beta, intra beta, arrays of indices for inside and outside group\n",
    "#returns: arrays of index numbers for those selected\n",
    "    I_inf = []\n",
    "\n",
    "    \n",
    "    num_in = int(np.random.poisson(rate))\n",
    "    #print('num in: ' + str(num_in))\n",
    "    #print('num out: ' + str(num_out))\n",
    "    \n",
    "    for i in range(num_in):\n",
    "        if len(Sus_I) == 0:\n",
    "            break\n",
    "        I_inf.append(random.choice(Sus_I))\n",
    "    return I_inf\n",
    "                     \n"
   ]
  },
  {
   "cell_type": "code",
   "execution_count": 7,
   "id": "933ed671",
   "metadata": {},
   "outputs": [],
   "source": [
    "#==============================================================================\n",
    "# mutation https://www.nature.com/articles/s41467-020-19818-2 - clock rate\n",
    "#==============================================================================\n",
    "\n",
    "def agent_mut_num(rate=0.419):\n",
    "#adds mutationfor every 3 transmissions\n",
    "#returns: number of mutations\n",
    "    mymut = np.random.poisson(rate)\n",
    "    return mymut\n",
    "\n",
    "\n",
    "def spot_mutation(num, seq):\n",
    "#one mutation for every 2-3 transmissions\n",
    "#returns: new sequence\n",
    "    swap = random.sample(range(len(seq)), num)\n",
    "    seq1=seq.copy()\n",
    "    for i in swap:\n",
    "        conversion = ['A', 'C', 'T', 'G']\n",
    "        spot = seq1[i]\n",
    "        conversion.remove(spot)\n",
    "        seq1[i] = random.choice(conversion)\n",
    "    return seq1"
   ]
  },
  {
   "cell_type": "code",
   "execution_count": 8,
   "id": "499e75c5",
   "metadata": {},
   "outputs": [],
   "source": [
    "def spot_mutation_int(num, seq):\n",
    "#one mutation for every 2-3 transmissions\n",
    "#returns: new sequence\n",
    "    swap = random.sample(range(len(seq)), num)\n",
    "    seq1=seq.copy()\n",
    "    for i in swap:\n",
    "        print(i)\n",
    "        conversion = [0, 1, 2, 3]\n",
    "        spot = seq1[i]\n",
    "        conversion.remove(spot)\n",
    "        seq1[i] = random.choice(conversion)\n",
    "    return seq1"
   ]
  },
  {
   "cell_type": "code",
   "execution_count": 9,
   "id": "80c6d3d9",
   "metadata": {},
   "outputs": [],
   "source": [
    "w = [1,1,1,2,2,3,0,0,0,0,3,2,1,3,3,3,1]\n",
    "v = w.copy()"
   ]
  },
  {
   "cell_type": "code",
   "execution_count": 10,
   "id": "f7bb4548",
   "metadata": {},
   "outputs": [
    {
     "name": "stdout",
     "output_type": "stream",
     "text": [
      "11\n"
     ]
    },
    {
     "data": {
      "text/plain": [
       "False"
      ]
     },
     "execution_count": 10,
     "metadata": {},
     "output_type": "execute_result"
    }
   ],
   "source": [
    "v= spot_mutation_int(agent_mut_num(2),w)\n",
    "np.array_equal(v,w)"
   ]
  },
  {
   "cell_type": "code",
   "execution_count": 11,
   "id": "f42e14cc",
   "metadata": {},
   "outputs": [
    {
     "data": {
      "text/plain": [
       "False"
      ]
     },
     "execution_count": 11,
     "metadata": {},
     "output_type": "execute_result"
    }
   ],
   "source": [
    "np.array_equal(v,w)"
   ]
  },
  {
   "cell_type": "code",
   "execution_count": 12,
   "id": "9510d463",
   "metadata": {},
   "outputs": [
    {
     "data": {
      "text/plain": [
       "35"
      ]
     },
     "execution_count": 12,
     "metadata": {},
     "output_type": "execute_result"
    }
   ],
   "source": [
    "agent_mut_num(30)"
   ]
  },
  {
   "cell_type": "code",
   "execution_count": 13,
   "id": "0f472cb2",
   "metadata": {},
   "outputs": [],
   "source": [
    "#==============================================================================\n",
    "# recovery \n",
    "#==============================================================================\n",
    "\n",
    "def recovery_odds(k=1,theta=10):\n",
    "#gamma functoin - time until next event\n",
    "                     #k is number of events (one)\n",
    "                     #theta is avg num days to infection (10)\n",
    "#returns: time in days until recovery. save and then check if infection day is higher than that\n",
    "    day = round(np.random.gamma(k, theta, 1)[0])\n",
    "    return day"
   ]
  },
  {
   "cell_type": "code",
   "execution_count": 17,
   "id": "1c99e584-8aac-43d4-a017-393b9ffbdbdf",
   "metadata": {},
   "outputs": [
    {
     "data": {
      "text/plain": [
       "{'base_case': SeqRecord(seq=Seq('ATTAAAGGTTTATACCTTCCCAGGTAACAAACCAACCAACTTTCGATCTCTTGT...AAA'), id='base_case', name='base_case', description='base_case', dbxrefs=[])}"
      ]
     },
     "execution_count": 17,
     "metadata": {},
     "output_type": "execute_result"
    }
   ],
   "source": [
    "base"
   ]
  },
  {
   "cell_type": "code",
   "execution_count": 18,
   "id": "4ba6558a",
   "metadata": {},
   "outputs": [],
   "source": [
    "base = SeqIO.to_dict(SeqIO.parse('11/data/reference.fasta', 'fasta'))\n",
    "ref= base['G22670']\n",
    "refseq = np.array(ref)"
   ]
  },
  {
   "cell_type": "code",
   "execution_count": 19,
   "id": "e1b04e5b",
   "metadata": {},
   "outputs": [],
   "source": [
    "refseq2 = []\n",
    "dik={}\n",
    "dik['A'] = 0\n",
    "dik['C'] = 1\n",
    "dik['T'] = 2\n",
    "dik['G'] = 3\n",
    "for a in refseq:\n",
    "    refseq2.append(dik[a])"
   ]
  },
  {
   "cell_type": "code",
   "execution_count": 20,
   "id": "1ba9146a",
   "metadata": {},
   "outputs": [],
   "source": [
    "refseq2 = np.array(refseq2).T"
   ]
  },
  {
   "cell_type": "markdown",
   "id": "5039bed2",
   "metadata": {},
   "source": [
    "## 0.2 Time Steps\n",
    "* chosing to run for 31 days\n",
    "* [equation](https://cse.cs.ucsb.edu/sites/default/files/publications/NewTau052.pdf)  for determining Tau: IGNORING ME - ASK IN GROUP MEETING"
   ]
  },
  {
   "cell_type": "code",
   "execution_count": 21,
   "id": "c3facb99",
   "metadata": {},
   "outputs": [],
   "source": [
    "times = np.arange(0,31)\n"
   ]
  },
  {
   "cell_type": "markdown",
   "id": "106b4ece",
   "metadata": {},
   "source": [
    "# 1. Initializing Cases/Agents"
   ]
  },
  {
   "cell_type": "code",
   "execution_count": 53,
   "id": "efc36ca1",
   "metadata": {},
   "outputs": [],
   "source": [
    "allseq = {}"
   ]
  },
  {
   "cell_type": "markdown",
   "id": "c8f39b95",
   "metadata": {},
   "source": [
    "### 1.1 Community Stat\n",
    "    start initalize all communities and starting state of susceptible"
   ]
  },
  {
   "cell_type": "code",
   "execution_count": 54,
   "id": "d8f8225b",
   "metadata": {},
   "outputs": [],
   "source": [
    "char = ['accession','location','state','infection_date','index_ID','descendants', 'recovery']\n",
    "agents = pd.DataFrame(columns=char, index=range(1000))\n",
    "\n",
    "agents['state'] = 'S'\n",
    "    #initiialize all as Susceptible - 'S'\n",
    "agents['location'] = np.random.binomial(1,0.5,1000) \n",
    "    #random 50/50 to be in location A vs B. multinomial if more communitis\n",
    "#agents['location'] = [ chr(x+65) for x in agents.location]\n",
    "    #convert numerical binomial to char. 0 - A, 1- B...///////////\n",
    "agents['descendants'] = [[]] * agents.shape[0]\n",
    "    \n",
    "#don't need to save sequence here, save to dict w key as accession"
   ]
  },
  {
   "cell_type": "markdown",
   "id": "cc6491f0",
   "metadata": {},
   "source": [
    "### 1.2 Initial I"
   ]
  },
  {
   "cell_type": "code",
   "execution_count": 55,
   "id": "80ae62b9",
   "metadata": {},
   "outputs": [
    {
     "data": {
      "text/html": [
       "<div>\n",
       "<style scoped>\n",
       "    .dataframe tbody tr th:only-of-type {\n",
       "        vertical-align: middle;\n",
       "    }\n",
       "\n",
       "    .dataframe tbody tr th {\n",
       "        vertical-align: top;\n",
       "    }\n",
       "\n",
       "    .dataframe thead th {\n",
       "        text-align: right;\n",
       "    }\n",
       "</style>\n",
       "<table border=\"1\" class=\"dataframe\">\n",
       "  <thead>\n",
       "    <tr style=\"text-align: right;\">\n",
       "      <th></th>\n",
       "      <th>accession</th>\n",
       "      <th>location</th>\n",
       "      <th>state</th>\n",
       "      <th>infection_date</th>\n",
       "      <th>index_ID</th>\n",
       "      <th>descendants</th>\n",
       "      <th>recovery</th>\n",
       "    </tr>\n",
       "  </thead>\n",
       "  <tbody>\n",
       "    <tr>\n",
       "      <th>0</th>\n",
       "      <td>1000</td>\n",
       "      <td>1</td>\n",
       "      <td>I</td>\n",
       "      <td>2020-03-01</td>\n",
       "      <td>NaN</td>\n",
       "      <td>[]</td>\n",
       "      <td>2020-03-24</td>\n",
       "    </tr>\n",
       "    <tr>\n",
       "      <th>1</th>\n",
       "      <td>NaN</td>\n",
       "      <td>1</td>\n",
       "      <td>S</td>\n",
       "      <td>NaN</td>\n",
       "      <td>NaN</td>\n",
       "      <td>[]</td>\n",
       "      <td>NaN</td>\n",
       "    </tr>\n",
       "    <tr>\n",
       "      <th>2</th>\n",
       "      <td>NaN</td>\n",
       "      <td>1</td>\n",
       "      <td>S</td>\n",
       "      <td>NaN</td>\n",
       "      <td>NaN</td>\n",
       "      <td>[]</td>\n",
       "      <td>NaN</td>\n",
       "    </tr>\n",
       "    <tr>\n",
       "      <th>3</th>\n",
       "      <td>NaN</td>\n",
       "      <td>0</td>\n",
       "      <td>S</td>\n",
       "      <td>NaN</td>\n",
       "      <td>NaN</td>\n",
       "      <td>[]</td>\n",
       "      <td>NaN</td>\n",
       "    </tr>\n",
       "    <tr>\n",
       "      <th>4</th>\n",
       "      <td>NaN</td>\n",
       "      <td>1</td>\n",
       "      <td>S</td>\n",
       "      <td>NaN</td>\n",
       "      <td>NaN</td>\n",
       "      <td>[]</td>\n",
       "      <td>NaN</td>\n",
       "    </tr>\n",
       "    <tr>\n",
       "      <th>...</th>\n",
       "      <td>...</td>\n",
       "      <td>...</td>\n",
       "      <td>...</td>\n",
       "      <td>...</td>\n",
       "      <td>...</td>\n",
       "      <td>...</td>\n",
       "      <td>...</td>\n",
       "    </tr>\n",
       "    <tr>\n",
       "      <th>995</th>\n",
       "      <td>NaN</td>\n",
       "      <td>0</td>\n",
       "      <td>S</td>\n",
       "      <td>NaN</td>\n",
       "      <td>NaN</td>\n",
       "      <td>[]</td>\n",
       "      <td>NaN</td>\n",
       "    </tr>\n",
       "    <tr>\n",
       "      <th>996</th>\n",
       "      <td>NaN</td>\n",
       "      <td>1</td>\n",
       "      <td>S</td>\n",
       "      <td>NaN</td>\n",
       "      <td>NaN</td>\n",
       "      <td>[]</td>\n",
       "      <td>NaN</td>\n",
       "    </tr>\n",
       "    <tr>\n",
       "      <th>997</th>\n",
       "      <td>NaN</td>\n",
       "      <td>0</td>\n",
       "      <td>S</td>\n",
       "      <td>NaN</td>\n",
       "      <td>NaN</td>\n",
       "      <td>[]</td>\n",
       "      <td>NaN</td>\n",
       "    </tr>\n",
       "    <tr>\n",
       "      <th>998</th>\n",
       "      <td>NaN</td>\n",
       "      <td>1</td>\n",
       "      <td>S</td>\n",
       "      <td>NaN</td>\n",
       "      <td>NaN</td>\n",
       "      <td>[]</td>\n",
       "      <td>NaN</td>\n",
       "    </tr>\n",
       "    <tr>\n",
       "      <th>999</th>\n",
       "      <td>NaN</td>\n",
       "      <td>1</td>\n",
       "      <td>S</td>\n",
       "      <td>NaN</td>\n",
       "      <td>NaN</td>\n",
       "      <td>[]</td>\n",
       "      <td>NaN</td>\n",
       "    </tr>\n",
       "  </tbody>\n",
       "</table>\n",
       "<p>1000 rows × 7 columns</p>\n",
       "</div>"
      ],
      "text/plain": [
       "    accession  location state infection_date index_ID descendants    recovery\n",
       "0        1000         1     I     2020-03-01      NaN          []  2020-03-24\n",
       "1         NaN         1     S            NaN      NaN          []         NaN\n",
       "2         NaN         1     S            NaN      NaN          []         NaN\n",
       "3         NaN         0     S            NaN      NaN          []         NaN\n",
       "4         NaN         1     S            NaN      NaN          []         NaN\n",
       "..        ...       ...   ...            ...      ...         ...         ...\n",
       "995       NaN         0     S            NaN      NaN          []         NaN\n",
       "996       NaN         1     S            NaN      NaN          []         NaN\n",
       "997       NaN         0     S            NaN      NaN          []         NaN\n",
       "998       NaN         1     S            NaN      NaN          []         NaN\n",
       "999       NaN         1     S            NaN      NaN          []         NaN\n",
       "\n",
       "[1000 rows x 7 columns]"
      ]
     },
     "execution_count": 55,
     "metadata": {},
     "output_type": "execute_result"
    }
   ],
   "source": [
    "agents.at[0, 'accession'] = int(1000)\n",
    "agents.at[0, 'state'] = 'I'\n",
    "agents.at[0, 'infection_date'] = datetime.date.fromisoformat('2020-03-01')\n",
    "k =  round(np.random.exponential(10))\n",
    "agents.at[0,'recovery'] = datetime.date.fromisoformat('2020-03-01') + datetime.timedelta(days=k)\n",
    "allseq[1000] = refseq\n",
    "agents\n"
   ]
  },
  {
   "cell_type": "code",
   "execution_count": 56,
   "id": "860bb6cb",
   "metadata": {},
   "outputs": [
    {
     "data": {
      "text/plain": [
       "{1000: array(['A', 'T', 'T', ..., 'A', 'A', 'A'], dtype='<U1')}"
      ]
     },
     "execution_count": 56,
     "metadata": {},
     "output_type": "execute_result"
    }
   ],
   "source": [
    "allseq"
   ]
  },
  {
   "cell_type": "code",
   "execution_count": 57,
   "id": "bfa0f9c8",
   "metadata": {},
   "outputs": [
    {
     "data": {
      "text/plain": [
       "0"
      ]
     },
     "execution_count": 57,
     "metadata": {},
     "output_type": "execute_result"
    }
   ],
   "source": [
    "agent_mut_num(10*.081)\n"
   ]
  },
  {
   "cell_type": "markdown",
   "id": "1a671bd9",
   "metadata": {},
   "source": [
    "### 1.3 Infection"
   ]
  },
  {
   "cell_type": "code",
   "execution_count": 58,
   "id": "b4db1922",
   "metadata": {},
   "outputs": [
    {
     "name": "stdout",
     "output_type": "stream",
     "text": [
      "today 0\n",
      "today 1\n",
      "today 2\n",
      "today 3\n",
      "today 4\n",
      "today 5\n",
      "today 6\n",
      "today 7\n",
      "today 8\n",
      "today 9\n",
      "today 10\n",
      "today 11\n",
      "today 12\n",
      "today 13\n",
      "today 14\n",
      "today 15\n",
      "today 16\n",
      "today 17\n",
      "today 18\n",
      "today 19\n",
      "today 20\n",
      "today 21\n",
      "today 22\n",
      "today 23\n",
      "today 24\n",
      "today 25\n",
      "today 26\n",
      "today 27\n",
      "today 28\n",
      "today 29\n",
      "today 30\n"
     ]
    }
   ],
   "source": [
    "for day in times:\n",
    "    step = int(day)\n",
    "    hoy = datetime.date.fromisoformat('2020-03-01') + datetime.timedelta(days=step)\n",
    "    sus = agents[agents.state==\"S\"]\n",
    "    inf = agents[agents.state==\"I\"]\n",
    "\n",
    "    for ii in inf.T:\n",
    "        #print(ii)\n",
    "        if agents.iloc[ii].recovery == hoy:\n",
    "            agents.at[ii, 'state'] = 'R'\n",
    "            break\n",
    "        com = agents.iloc[ii].location\n",
    "        ins = num_infected(0.3, sus[sus.location==com].index)\n",
    "        for i in ins:\n",
    "            ID =  random.randint(1,9999)\n",
    "            indID = agents.iloc[ii].accession\n",
    "            day_sick = round(np.random.exponential(10))\n",
    "            agents.at[i, 'accession'] = ID\n",
    "            agents.at[i, 'state'] = \"I\"\n",
    "            agents.at[i, 'infection_date'] = hoy\n",
    "            agents.at[i, 'index_ID'] = indID\n",
    "            agents.at[i, 'recovery'] = hoy + datetime.timedelta(days=day_sick)\n",
    "            #agents.at[ii, 'descendants'] = np.append(i) #this is logic is so wrong skskkssk fix\n",
    "            allseq[ID] = spot_mutation(agent_mut_num(day_sick*.081), allseq[indID])\n",
    "            #day_sick*.081\n",
    "            \n",
    "            \n",
    "        outs = num_infected(0.15, sus[sus.location!=com].index)\n",
    "        for o in outs:\n",
    "            ID =  random.randint(1,9999)\n",
    "            indID = agents.iloc[ii].accession\n",
    "            day_sick = round(np.random.exponential(10))\n",
    "            agents.at[o, 'accession'] = ID\n",
    "            agents.at[o, 'state'] = \"I\"\n",
    "            agents.at[o, 'infection_date'] = hoy\n",
    "            agents.at[o, 'index_ID'] = indID\n",
    "            agents.at[o, 'recovery'] = hoy + datetime.timedelta(days=day_sick)\n",
    "            #agents.at[ii, 'descendants'] = np.append(o) #this is logic is so wrong skskkssk fix\n",
    "            #day_sick*.081\n",
    "            allseq[ID] = spot_mutation(agent_mut_num(day_sick*.081), allseq[indID])\n",
    "        #print(ins)\n",
    "        #print(outs)\n",
    "    print(\"today \" + str(day))\n",
    "    \n",
    "    \n"
   ]
  },
  {
   "cell_type": "code",
   "execution_count": 59,
   "id": "8bc29a21",
   "metadata": {},
   "outputs": [
    {
     "data": {
      "text/html": [
       "<div>\n",
       "<style scoped>\n",
       "    .dataframe tbody tr th:only-of-type {\n",
       "        vertical-align: middle;\n",
       "    }\n",
       "\n",
       "    .dataframe tbody tr th {\n",
       "        vertical-align: top;\n",
       "    }\n",
       "\n",
       "    .dataframe thead th {\n",
       "        text-align: right;\n",
       "    }\n",
       "</style>\n",
       "<table border=\"1\" class=\"dataframe\">\n",
       "  <thead>\n",
       "    <tr style=\"text-align: right;\">\n",
       "      <th></th>\n",
       "      <th>accession</th>\n",
       "      <th>location</th>\n",
       "      <th>state</th>\n",
       "      <th>infection_date</th>\n",
       "      <th>index_ID</th>\n",
       "      <th>descendants</th>\n",
       "      <th>recovery</th>\n",
       "    </tr>\n",
       "  </thead>\n",
       "  <tbody>\n",
       "    <tr>\n",
       "      <th>0</th>\n",
       "      <td>1000</td>\n",
       "      <td>1</td>\n",
       "      <td>R</td>\n",
       "      <td>2020-03-01</td>\n",
       "      <td>NaN</td>\n",
       "      <td>[]</td>\n",
       "      <td>2020-03-24</td>\n",
       "    </tr>\n",
       "    <tr>\n",
       "      <th>1</th>\n",
       "      <td>NaN</td>\n",
       "      <td>1</td>\n",
       "      <td>S</td>\n",
       "      <td>NaN</td>\n",
       "      <td>NaN</td>\n",
       "      <td>[]</td>\n",
       "      <td>NaN</td>\n",
       "    </tr>\n",
       "    <tr>\n",
       "      <th>2</th>\n",
       "      <td>NaN</td>\n",
       "      <td>1</td>\n",
       "      <td>S</td>\n",
       "      <td>NaN</td>\n",
       "      <td>NaN</td>\n",
       "      <td>[]</td>\n",
       "      <td>NaN</td>\n",
       "    </tr>\n",
       "    <tr>\n",
       "      <th>3</th>\n",
       "      <td>NaN</td>\n",
       "      <td>0</td>\n",
       "      <td>S</td>\n",
       "      <td>NaN</td>\n",
       "      <td>NaN</td>\n",
       "      <td>[]</td>\n",
       "      <td>NaN</td>\n",
       "    </tr>\n",
       "    <tr>\n",
       "      <th>4</th>\n",
       "      <td>NaN</td>\n",
       "      <td>1</td>\n",
       "      <td>S</td>\n",
       "      <td>NaN</td>\n",
       "      <td>NaN</td>\n",
       "      <td>[]</td>\n",
       "      <td>NaN</td>\n",
       "    </tr>\n",
       "    <tr>\n",
       "      <th>...</th>\n",
       "      <td>...</td>\n",
       "      <td>...</td>\n",
       "      <td>...</td>\n",
       "      <td>...</td>\n",
       "      <td>...</td>\n",
       "      <td>...</td>\n",
       "      <td>...</td>\n",
       "    </tr>\n",
       "    <tr>\n",
       "      <th>995</th>\n",
       "      <td>NaN</td>\n",
       "      <td>0</td>\n",
       "      <td>S</td>\n",
       "      <td>NaN</td>\n",
       "      <td>NaN</td>\n",
       "      <td>[]</td>\n",
       "      <td>NaN</td>\n",
       "    </tr>\n",
       "    <tr>\n",
       "      <th>996</th>\n",
       "      <td>NaN</td>\n",
       "      <td>1</td>\n",
       "      <td>S</td>\n",
       "      <td>NaN</td>\n",
       "      <td>NaN</td>\n",
       "      <td>[]</td>\n",
       "      <td>NaN</td>\n",
       "    </tr>\n",
       "    <tr>\n",
       "      <th>997</th>\n",
       "      <td>6304</td>\n",
       "      <td>0</td>\n",
       "      <td>I</td>\n",
       "      <td>2020-03-18</td>\n",
       "      <td>2896</td>\n",
       "      <td>[]</td>\n",
       "      <td>2020-03-29</td>\n",
       "    </tr>\n",
       "    <tr>\n",
       "      <th>998</th>\n",
       "      <td>NaN</td>\n",
       "      <td>1</td>\n",
       "      <td>S</td>\n",
       "      <td>NaN</td>\n",
       "      <td>NaN</td>\n",
       "      <td>[]</td>\n",
       "      <td>NaN</td>\n",
       "    </tr>\n",
       "    <tr>\n",
       "      <th>999</th>\n",
       "      <td>NaN</td>\n",
       "      <td>1</td>\n",
       "      <td>S</td>\n",
       "      <td>NaN</td>\n",
       "      <td>NaN</td>\n",
       "      <td>[]</td>\n",
       "      <td>NaN</td>\n",
       "    </tr>\n",
       "  </tbody>\n",
       "</table>\n",
       "<p>1000 rows × 7 columns</p>\n",
       "</div>"
      ],
      "text/plain": [
       "    accession  location state infection_date index_ID descendants    recovery\n",
       "0        1000         1     R     2020-03-01      NaN          []  2020-03-24\n",
       "1         NaN         1     S            NaN      NaN          []         NaN\n",
       "2         NaN         1     S            NaN      NaN          []         NaN\n",
       "3         NaN         0     S            NaN      NaN          []         NaN\n",
       "4         NaN         1     S            NaN      NaN          []         NaN\n",
       "..        ...       ...   ...            ...      ...         ...         ...\n",
       "995       NaN         0     S            NaN      NaN          []         NaN\n",
       "996       NaN         1     S            NaN      NaN          []         NaN\n",
       "997      6304         0     I     2020-03-18     2896          []  2020-03-29\n",
       "998       NaN         1     S            NaN      NaN          []         NaN\n",
       "999       NaN         1     S            NaN      NaN          []         NaN\n",
       "\n",
       "[1000 rows x 7 columns]"
      ]
     },
     "execution_count": 59,
     "metadata": {},
     "output_type": "execute_result"
    }
   ],
   "source": [
    "agents"
   ]
  },
  {
   "cell_type": "code",
   "execution_count": 60,
   "id": "af3d1973",
   "metadata": {},
   "outputs": [],
   "source": [
    "strains = []\n",
    "i = 22670\n",
    "for a in agents.index:\n",
    "    strains.append('G{num}'.format(num=i))\n",
    "    i+=1\n",
    "agents['strain']=strains\n",
    "agents['region'] = ['North America'] * len(agents.index)\n",
    "agents['country'] = ['USA'] * len(agents.index)"
   ]
  },
  {
   "cell_type": "markdown",
   "id": "db3ea58e",
   "metadata": {},
   "source": [
    "# 2. Summary Info"
   ]
  },
  {
   "cell_type": "code",
   "execution_count": 61,
   "id": "226b1900",
   "metadata": {},
   "outputs": [
    {
     "data": {
      "text/html": [
       "<div>\n",
       "<style scoped>\n",
       "    .dataframe tbody tr th:only-of-type {\n",
       "        vertical-align: middle;\n",
       "    }\n",
       "\n",
       "    .dataframe tbody tr th {\n",
       "        vertical-align: top;\n",
       "    }\n",
       "\n",
       "    .dataframe thead th {\n",
       "        text-align: right;\n",
       "    }\n",
       "</style>\n",
       "<table border=\"1\" class=\"dataframe\">\n",
       "  <thead>\n",
       "    <tr style=\"text-align: right;\">\n",
       "      <th></th>\n",
       "      <th>accession</th>\n",
       "      <th>location</th>\n",
       "      <th>state</th>\n",
       "      <th>infection_date</th>\n",
       "      <th>index_ID</th>\n",
       "      <th>descendants</th>\n",
       "      <th>recovery</th>\n",
       "      <th>strain</th>\n",
       "      <th>region</th>\n",
       "      <th>country</th>\n",
       "    </tr>\n",
       "  </thead>\n",
       "  <tbody>\n",
       "    <tr>\n",
       "      <th>0</th>\n",
       "      <td>1000</td>\n",
       "      <td>1</td>\n",
       "      <td>R</td>\n",
       "      <td>2020-03-01</td>\n",
       "      <td>NaN</td>\n",
       "      <td>[]</td>\n",
       "      <td>2020-03-24</td>\n",
       "      <td>G22670</td>\n",
       "      <td>North America</td>\n",
       "      <td>USA</td>\n",
       "    </tr>\n",
       "    <tr>\n",
       "      <th>1</th>\n",
       "      <td>NaN</td>\n",
       "      <td>1</td>\n",
       "      <td>S</td>\n",
       "      <td>NaN</td>\n",
       "      <td>NaN</td>\n",
       "      <td>[]</td>\n",
       "      <td>NaN</td>\n",
       "      <td>G22671</td>\n",
       "      <td>North America</td>\n",
       "      <td>USA</td>\n",
       "    </tr>\n",
       "    <tr>\n",
       "      <th>2</th>\n",
       "      <td>NaN</td>\n",
       "      <td>1</td>\n",
       "      <td>S</td>\n",
       "      <td>NaN</td>\n",
       "      <td>NaN</td>\n",
       "      <td>[]</td>\n",
       "      <td>NaN</td>\n",
       "      <td>G22672</td>\n",
       "      <td>North America</td>\n",
       "      <td>USA</td>\n",
       "    </tr>\n",
       "    <tr>\n",
       "      <th>3</th>\n",
       "      <td>NaN</td>\n",
       "      <td>0</td>\n",
       "      <td>S</td>\n",
       "      <td>NaN</td>\n",
       "      <td>NaN</td>\n",
       "      <td>[]</td>\n",
       "      <td>NaN</td>\n",
       "      <td>G22673</td>\n",
       "      <td>North America</td>\n",
       "      <td>USA</td>\n",
       "    </tr>\n",
       "    <tr>\n",
       "      <th>4</th>\n",
       "      <td>NaN</td>\n",
       "      <td>1</td>\n",
       "      <td>S</td>\n",
       "      <td>NaN</td>\n",
       "      <td>NaN</td>\n",
       "      <td>[]</td>\n",
       "      <td>NaN</td>\n",
       "      <td>G22674</td>\n",
       "      <td>North America</td>\n",
       "      <td>USA</td>\n",
       "    </tr>\n",
       "    <tr>\n",
       "      <th>...</th>\n",
       "      <td>...</td>\n",
       "      <td>...</td>\n",
       "      <td>...</td>\n",
       "      <td>...</td>\n",
       "      <td>...</td>\n",
       "      <td>...</td>\n",
       "      <td>...</td>\n",
       "      <td>...</td>\n",
       "      <td>...</td>\n",
       "      <td>...</td>\n",
       "    </tr>\n",
       "    <tr>\n",
       "      <th>995</th>\n",
       "      <td>NaN</td>\n",
       "      <td>0</td>\n",
       "      <td>S</td>\n",
       "      <td>NaN</td>\n",
       "      <td>NaN</td>\n",
       "      <td>[]</td>\n",
       "      <td>NaN</td>\n",
       "      <td>G23665</td>\n",
       "      <td>North America</td>\n",
       "      <td>USA</td>\n",
       "    </tr>\n",
       "    <tr>\n",
       "      <th>996</th>\n",
       "      <td>NaN</td>\n",
       "      <td>1</td>\n",
       "      <td>S</td>\n",
       "      <td>NaN</td>\n",
       "      <td>NaN</td>\n",
       "      <td>[]</td>\n",
       "      <td>NaN</td>\n",
       "      <td>G23666</td>\n",
       "      <td>North America</td>\n",
       "      <td>USA</td>\n",
       "    </tr>\n",
       "    <tr>\n",
       "      <th>997</th>\n",
       "      <td>6304</td>\n",
       "      <td>0</td>\n",
       "      <td>I</td>\n",
       "      <td>2020-03-18</td>\n",
       "      <td>2896</td>\n",
       "      <td>[]</td>\n",
       "      <td>2020-03-29</td>\n",
       "      <td>G23667</td>\n",
       "      <td>North America</td>\n",
       "      <td>USA</td>\n",
       "    </tr>\n",
       "    <tr>\n",
       "      <th>998</th>\n",
       "      <td>NaN</td>\n",
       "      <td>1</td>\n",
       "      <td>S</td>\n",
       "      <td>NaN</td>\n",
       "      <td>NaN</td>\n",
       "      <td>[]</td>\n",
       "      <td>NaN</td>\n",
       "      <td>G23668</td>\n",
       "      <td>North America</td>\n",
       "      <td>USA</td>\n",
       "    </tr>\n",
       "    <tr>\n",
       "      <th>999</th>\n",
       "      <td>NaN</td>\n",
       "      <td>1</td>\n",
       "      <td>S</td>\n",
       "      <td>NaN</td>\n",
       "      <td>NaN</td>\n",
       "      <td>[]</td>\n",
       "      <td>NaN</td>\n",
       "      <td>G23669</td>\n",
       "      <td>North America</td>\n",
       "      <td>USA</td>\n",
       "    </tr>\n",
       "  </tbody>\n",
       "</table>\n",
       "<p>1000 rows × 10 columns</p>\n",
       "</div>"
      ],
      "text/plain": [
       "    accession  location state infection_date index_ID descendants    recovery  \\\n",
       "0        1000         1     R     2020-03-01      NaN          []  2020-03-24   \n",
       "1         NaN         1     S            NaN      NaN          []         NaN   \n",
       "2         NaN         1     S            NaN      NaN          []         NaN   \n",
       "3         NaN         0     S            NaN      NaN          []         NaN   \n",
       "4         NaN         1     S            NaN      NaN          []         NaN   \n",
       "..        ...       ...   ...            ...      ...         ...         ...   \n",
       "995       NaN         0     S            NaN      NaN          []         NaN   \n",
       "996       NaN         1     S            NaN      NaN          []         NaN   \n",
       "997      6304         0     I     2020-03-18     2896          []  2020-03-29   \n",
       "998       NaN         1     S            NaN      NaN          []         NaN   \n",
       "999       NaN         1     S            NaN      NaN          []         NaN   \n",
       "\n",
       "     strain         region country  \n",
       "0    G22670  North America     USA  \n",
       "1    G22671  North America     USA  \n",
       "2    G22672  North America     USA  \n",
       "3    G22673  North America     USA  \n",
       "4    G22674  North America     USA  \n",
       "..      ...            ...     ...  \n",
       "995  G23665  North America     USA  \n",
       "996  G23666  North America     USA  \n",
       "997  G23667  North America     USA  \n",
       "998  G23668  North America     USA  \n",
       "999  G23669  North America     USA  \n",
       "\n",
       "[1000 rows x 10 columns]"
      ]
     },
     "execution_count": 61,
     "metadata": {},
     "output_type": "execute_result"
    }
   ],
   "source": [
    "agents"
   ]
  },
  {
   "cell_type": "code",
   "execution_count": null,
   "id": "f36e2ad4",
   "metadata": {},
   "outputs": [],
   "source": []
  },
  {
   "cell_type": "code",
   "execution_count": 62,
   "id": "a8cbcf75",
   "metadata": {},
   "outputs": [
    {
     "data": {
      "image/png": "[encoded data removed]",
      "text/plain": [
       "<Figure size 432x288 with 1 Axes>"
      ]
     },
     "metadata": {
      "needs_background": "light"
     },
     "output_type": "display_data"
    }
   ],
   "source": [
    "agents.index_ID.plot.hist(bins=20, rwidth=0.9,\n",
    "                   color='#607c8e')\n",
    "plt.ylabel=('Frequency')\n",
    "plt.xlabel=('Infector')"
   ]
  },
  {
   "cell_type": "code",
   "execution_count": 63,
   "id": "174f3bac",
   "metadata": {},
   "outputs": [],
   "source": [
    "tot=0\n",
    "for a in allseq:\n",
    "    for j in allseq:\n",
    "        if np.array_equal(allseq[a], allseq[j]):\n",
    "            tot+=1\n"
   ]
  },
  {
   "cell_type": "code",
   "execution_count": 64,
   "id": "25e080d4",
   "metadata": {},
   "outputs": [
    {
     "data": {
      "text/plain": [
       "1482"
      ]
     },
     "execution_count": 64,
     "metadata": {},
     "output_type": "execute_result"
    }
   ],
   "source": [
    "tot"
   ]
  },
  {
   "cell_type": "code",
   "execution_count": 65,
   "id": "3aff5dc2",
   "metadata": {},
   "outputs": [],
   "source": [
    "all = len(allseq)"
   ]
  },
  {
   "cell_type": "code",
   "execution_count": 66,
   "id": "d752829d",
   "metadata": {},
   "outputs": [
    {
     "data": {
      "text/plain": [
       "170"
      ]
     },
     "execution_count": 66,
     "metadata": {},
     "output_type": "execute_result"
    }
   ],
   "source": [
    "all"
   ]
  },
  {
   "cell_type": "code",
   "execution_count": 67,
   "id": "0624b04b",
   "metadata": {},
   "outputs": [
    {
     "data": {
      "text/plain": [
       "'Percent of equal sequences: '"
      ]
     },
     "metadata": {},
     "output_type": "display_data"
    },
    {
     "data": {
      "text/plain": [
       "10.316742081447964"
      ]
     },
     "metadata": {},
     "output_type": "display_data"
    }
   ],
   "source": [
    "display('Percent of equal sequences: ')\n",
    "display(tot*100/(all*(all-1)/2))"
   ]
  },
  {
   "cell_type": "code",
   "execution_count": null,
   "id": "7af57650",
   "metadata": {},
   "outputs": [],
   "source": []
  },
  {
   "cell_type": "code",
   "execution_count": 68,
   "id": "e9c02427",
   "metadata": {},
   "outputs": [
    {
     "data": {
      "text/html": [
       "<div>\n",
       "<style scoped>\n",
       "    .dataframe tbody tr th:only-of-type {\n",
       "        vertical-align: middle;\n",
       "    }\n",
       "\n",
       "    .dataframe tbody tr th {\n",
       "        vertical-align: top;\n",
       "    }\n",
       "\n",
       "    .dataframe thead th {\n",
       "        text-align: right;\n",
       "    }\n",
       "</style>\n",
       "<table border=\"1\" class=\"dataframe\">\n",
       "  <thead>\n",
       "    <tr style=\"text-align: right;\">\n",
       "      <th></th>\n",
       "      <th>accession</th>\n",
       "      <th>location</th>\n",
       "      <th>state</th>\n",
       "      <th>infection_date</th>\n",
       "      <th>index_ID</th>\n",
       "      <th>descendants</th>\n",
       "      <th>recovery</th>\n",
       "      <th>strain</th>\n",
       "      <th>region</th>\n",
       "      <th>country</th>\n",
       "    </tr>\n",
       "  </thead>\n",
       "  <tbody>\n",
       "    <tr>\n",
       "      <th>0</th>\n",
       "      <td>1000</td>\n",
       "      <td>1</td>\n",
       "      <td>R</td>\n",
       "      <td>2020-03-01</td>\n",
       "      <td>NaN</td>\n",
       "      <td>[]</td>\n",
       "      <td>2020-03-24</td>\n",
       "      <td>G22670</td>\n",
       "      <td>North America</td>\n",
       "      <td>USA</td>\n",
       "    </tr>\n",
       "    <tr>\n",
       "      <th>1</th>\n",
       "      <td>NaN</td>\n",
       "      <td>1</td>\n",
       "      <td>S</td>\n",
       "      <td>NaN</td>\n",
       "      <td>NaN</td>\n",
       "      <td>[]</td>\n",
       "      <td>NaN</td>\n",
       "      <td>G22671</td>\n",
       "      <td>North America</td>\n",
       "      <td>USA</td>\n",
       "    </tr>\n",
       "    <tr>\n",
       "      <th>2</th>\n",
       "      <td>NaN</td>\n",
       "      <td>1</td>\n",
       "      <td>S</td>\n",
       "      <td>NaN</td>\n",
       "      <td>NaN</td>\n",
       "      <td>[]</td>\n",
       "      <td>NaN</td>\n",
       "      <td>G22672</td>\n",
       "      <td>North America</td>\n",
       "      <td>USA</td>\n",
       "    </tr>\n",
       "    <tr>\n",
       "      <th>3</th>\n",
       "      <td>NaN</td>\n",
       "      <td>0</td>\n",
       "      <td>S</td>\n",
       "      <td>NaN</td>\n",
       "      <td>NaN</td>\n",
       "      <td>[]</td>\n",
       "      <td>NaN</td>\n",
       "      <td>G22673</td>\n",
       "      <td>North America</td>\n",
       "      <td>USA</td>\n",
       "    </tr>\n",
       "    <tr>\n",
       "      <th>4</th>\n",
       "      <td>NaN</td>\n",
       "      <td>1</td>\n",
       "      <td>S</td>\n",
       "      <td>NaN</td>\n",
       "      <td>NaN</td>\n",
       "      <td>[]</td>\n",
       "      <td>NaN</td>\n",
       "      <td>G22674</td>\n",
       "      <td>North America</td>\n",
       "      <td>USA</td>\n",
       "    </tr>\n",
       "    <tr>\n",
       "      <th>...</th>\n",
       "      <td>...</td>\n",
       "      <td>...</td>\n",
       "      <td>...</td>\n",
       "      <td>...</td>\n",
       "      <td>...</td>\n",
       "      <td>...</td>\n",
       "      <td>...</td>\n",
       "      <td>...</td>\n",
       "      <td>...</td>\n",
       "      <td>...</td>\n",
       "    </tr>\n",
       "    <tr>\n",
       "      <th>995</th>\n",
       "      <td>NaN</td>\n",
       "      <td>0</td>\n",
       "      <td>S</td>\n",
       "      <td>NaN</td>\n",
       "      <td>NaN</td>\n",
       "      <td>[]</td>\n",
       "      <td>NaN</td>\n",
       "      <td>G23665</td>\n",
       "      <td>North America</td>\n",
       "      <td>USA</td>\n",
       "    </tr>\n",
       "    <tr>\n",
       "      <th>996</th>\n",
       "      <td>NaN</td>\n",
       "      <td>1</td>\n",
       "      <td>S</td>\n",
       "      <td>NaN</td>\n",
       "      <td>NaN</td>\n",
       "      <td>[]</td>\n",
       "      <td>NaN</td>\n",
       "      <td>G23666</td>\n",
       "      <td>North America</td>\n",
       "      <td>USA</td>\n",
       "    </tr>\n",
       "    <tr>\n",
       "      <th>997</th>\n",
       "      <td>6304</td>\n",
       "      <td>0</td>\n",
       "      <td>I</td>\n",
       "      <td>2020-03-18</td>\n",
       "      <td>2896</td>\n",
       "      <td>[]</td>\n",
       "      <td>2020-03-29</td>\n",
       "      <td>G23667</td>\n",
       "      <td>North America</td>\n",
       "      <td>USA</td>\n",
       "    </tr>\n",
       "    <tr>\n",
       "      <th>998</th>\n",
       "      <td>NaN</td>\n",
       "      <td>1</td>\n",
       "      <td>S</td>\n",
       "      <td>NaN</td>\n",
       "      <td>NaN</td>\n",
       "      <td>[]</td>\n",
       "      <td>NaN</td>\n",
       "      <td>G23668</td>\n",
       "      <td>North America</td>\n",
       "      <td>USA</td>\n",
       "    </tr>\n",
       "    <tr>\n",
       "      <th>999</th>\n",
       "      <td>NaN</td>\n",
       "      <td>1</td>\n",
       "      <td>S</td>\n",
       "      <td>NaN</td>\n",
       "      <td>NaN</td>\n",
       "      <td>[]</td>\n",
       "      <td>NaN</td>\n",
       "      <td>G23669</td>\n",
       "      <td>North America</td>\n",
       "      <td>USA</td>\n",
       "    </tr>\n",
       "  </tbody>\n",
       "</table>\n",
       "<p>1000 rows × 10 columns</p>\n",
       "</div>"
      ],
      "text/plain": [
       "    accession  location state infection_date index_ID descendants    recovery  \\\n",
       "0        1000         1     R     2020-03-01      NaN          []  2020-03-24   \n",
       "1         NaN         1     S            NaN      NaN          []         NaN   \n",
       "2         NaN         1     S            NaN      NaN          []         NaN   \n",
       "3         NaN         0     S            NaN      NaN          []         NaN   \n",
       "4         NaN         1     S            NaN      NaN          []         NaN   \n",
       "..        ...       ...   ...            ...      ...         ...         ...   \n",
       "995       NaN         0     S            NaN      NaN          []         NaN   \n",
       "996       NaN         1     S            NaN      NaN          []         NaN   \n",
       "997      6304         0     I     2020-03-18     2896          []  2020-03-29   \n",
       "998       NaN         1     S            NaN      NaN          []         NaN   \n",
       "999       NaN         1     S            NaN      NaN          []         NaN   \n",
       "\n",
       "     strain         region country  \n",
       "0    G22670  North America     USA  \n",
       "1    G22671  North America     USA  \n",
       "2    G22672  North America     USA  \n",
       "3    G22673  North America     USA  \n",
       "4    G22674  North America     USA  \n",
       "..      ...            ...     ...  \n",
       "995  G23665  North America     USA  \n",
       "996  G23666  North America     USA  \n",
       "997  G23667  North America     USA  \n",
       "998  G23668  North America     USA  \n",
       "999  G23669  North America     USA  \n",
       "\n",
       "[1000 rows x 10 columns]"
      ]
     },
     "execution_count": 68,
     "metadata": {},
     "output_type": "execute_result"
    }
   ],
   "source": [
    "agents"
   ]
  },
  {
   "cell_type": "code",
   "execution_count": 69,
   "id": "65efe6b7",
   "metadata": {},
   "outputs": [
    {
     "data": {
      "text/plain": [
       "{'G22670': SeqRecord(seq=Seq('ATTAAAGGTTTATACCTTCCCAGGTAACAAACCAACCAACTTTCGATCTCTTGT...AAA'), id='G22670', name='G22670', description='G22670', dbxrefs=[])}"
      ]
     },
     "execution_count": 69,
     "metadata": {},
     "output_type": "execute_result"
    }
   ],
   "source": [
    "base"
   ]
  },
  {
   "cell_type": "markdown",
   "id": "970921bf",
   "metadata": {},
   "source": [
    "# 3. Selection"
   ]
  },
  {
   "cell_type": "markdown",
   "id": "062ef085",
   "metadata": {},
   "source": [
    "### 3.1 Demographic Info"
   ]
  },
  {
   "cell_type": "code",
   "execution_count": 70,
   "id": "4400089b",
   "metadata": {},
   "outputs": [],
   "source": [
    "gnm = agents[agents.state != 'S']"
   ]
  },
  {
   "cell_type": "code",
   "execution_count": 71,
   "id": "dfb3f2c0",
   "metadata": {},
   "outputs": [
    {
     "data": {
      "text/plain": [
       "170"
      ]
     },
     "execution_count": 71,
     "metadata": {},
     "output_type": "execute_result"
    }
   ],
   "source": [
    "len(allseq.keys())\n",
    "# all is number of cases\n",
    "#sample from half of all interested ones"
   ]
  },
  {
   "cell_type": "code",
   "execution_count": 72,
   "id": "9bc943c1",
   "metadata": {},
   "outputs": [
    {
     "data": {
      "text/plain": [
       "173"
      ]
     },
     "execution_count": 72,
     "metadata": {},
     "output_type": "execute_result"
    }
   ],
   "source": [
    "len(gnm.accession)"
   ]
  },
  {
   "cell_type": "code",
   "execution_count": 73,
   "id": "c4a6b3ae",
   "metadata": {},
   "outputs": [
    {
     "name": "stderr",
     "output_type": "stream",
     "text": [
      "<ipython-input-73-846e3f917e5a>:7: SettingWithCopyWarning: \n",
      "A value is trying to be set on a copy of a slice from a DataFrame.\n",
      "Try using .loc[row_indexer,col_indexer] = value instead\n",
      "\n",
      "See the caveats in the documentation: https://pandas.pydata.org/pandas-docs/stable/user_guide/indexing.html#returning-a-view-versus-a-copy\n",
      "  gnm['local'] = loca\n"
     ]
    }
   ],
   "source": [
    "loca= []\n",
    "conv = {}\n",
    "conv[0]='community A'\n",
    "conv[1] ='community B'\n",
    "for i in gnm.location:\n",
    "    loca.append(conv[i])\n",
    "gnm['local'] = loca"
   ]
  },
  {
   "cell_type": "code",
   "execution_count": 74,
   "id": "47311ac3",
   "metadata": {},
   "outputs": [
    {
     "data": {
      "text/html": [
       "<div>\n",
       "<style scoped>\n",
       "    .dataframe tbody tr th:only-of-type {\n",
       "        vertical-align: middle;\n",
       "    }\n",
       "\n",
       "    .dataframe tbody tr th {\n",
       "        vertical-align: top;\n",
       "    }\n",
       "\n",
       "    .dataframe thead th {\n",
       "        text-align: right;\n",
       "    }\n",
       "</style>\n",
       "<table border=\"1\" class=\"dataframe\">\n",
       "  <thead>\n",
       "    <tr style=\"text-align: right;\">\n",
       "      <th></th>\n",
       "      <th>accession</th>\n",
       "      <th>location</th>\n",
       "      <th>state</th>\n",
       "      <th>infection_date</th>\n",
       "      <th>index_ID</th>\n",
       "      <th>descendants</th>\n",
       "      <th>recovery</th>\n",
       "      <th>strain</th>\n",
       "      <th>region</th>\n",
       "      <th>country</th>\n",
       "      <th>local</th>\n",
       "    </tr>\n",
       "  </thead>\n",
       "  <tbody>\n",
       "    <tr>\n",
       "      <th>0</th>\n",
       "      <td>1000</td>\n",
       "      <td>1</td>\n",
       "      <td>R</td>\n",
       "      <td>2020-03-01</td>\n",
       "      <td>NaN</td>\n",
       "      <td>[]</td>\n",
       "      <td>2020-03-24</td>\n",
       "      <td>G22670</td>\n",
       "      <td>North America</td>\n",
       "      <td>USA</td>\n",
       "      <td>community B</td>\n",
       "    </tr>\n",
       "    <tr>\n",
       "      <th>7</th>\n",
       "      <td>2797</td>\n",
       "      <td>1</td>\n",
       "      <td>R</td>\n",
       "      <td>2020-03-14</td>\n",
       "      <td>4464</td>\n",
       "      <td>[]</td>\n",
       "      <td>2020-03-26</td>\n",
       "      <td>G22677</td>\n",
       "      <td>North America</td>\n",
       "      <td>USA</td>\n",
       "      <td>community B</td>\n",
       "    </tr>\n",
       "    <tr>\n",
       "      <th>10</th>\n",
       "      <td>896</td>\n",
       "      <td>0</td>\n",
       "      <td>R</td>\n",
       "      <td>2020-03-20</td>\n",
       "      <td>685</td>\n",
       "      <td>[]</td>\n",
       "      <td>2020-03-21</td>\n",
       "      <td>G22680</td>\n",
       "      <td>North America</td>\n",
       "      <td>USA</td>\n",
       "      <td>community A</td>\n",
       "    </tr>\n",
       "    <tr>\n",
       "      <th>12</th>\n",
       "      <td>8058</td>\n",
       "      <td>1</td>\n",
       "      <td>I</td>\n",
       "      <td>2020-03-31</td>\n",
       "      <td>5895</td>\n",
       "      <td>[]</td>\n",
       "      <td>2020-04-01</td>\n",
       "      <td>G22682</td>\n",
       "      <td>North America</td>\n",
       "      <td>USA</td>\n",
       "      <td>community B</td>\n",
       "    </tr>\n",
       "    <tr>\n",
       "      <th>23</th>\n",
       "      <td>1123</td>\n",
       "      <td>0</td>\n",
       "      <td>I</td>\n",
       "      <td>2020-03-18</td>\n",
       "      <td>3582</td>\n",
       "      <td>[]</td>\n",
       "      <td>2020-03-21</td>\n",
       "      <td>G22693</td>\n",
       "      <td>North America</td>\n",
       "      <td>USA</td>\n",
       "      <td>community A</td>\n",
       "    </tr>\n",
       "    <tr>\n",
       "      <th>...</th>\n",
       "      <td>...</td>\n",
       "      <td>...</td>\n",
       "      <td>...</td>\n",
       "      <td>...</td>\n",
       "      <td>...</td>\n",
       "      <td>...</td>\n",
       "      <td>...</td>\n",
       "      <td>...</td>\n",
       "      <td>...</td>\n",
       "      <td>...</td>\n",
       "      <td>...</td>\n",
       "    </tr>\n",
       "    <tr>\n",
       "      <th>972</th>\n",
       "      <td>941</td>\n",
       "      <td>1</td>\n",
       "      <td>I</td>\n",
       "      <td>2020-03-28</td>\n",
       "      <td>8083</td>\n",
       "      <td>[]</td>\n",
       "      <td>2020-03-30</td>\n",
       "      <td>G23642</td>\n",
       "      <td>North America</td>\n",
       "      <td>USA</td>\n",
       "      <td>community B</td>\n",
       "    </tr>\n",
       "    <tr>\n",
       "      <th>981</th>\n",
       "      <td>7349</td>\n",
       "      <td>1</td>\n",
       "      <td>I</td>\n",
       "      <td>2020-03-15</td>\n",
       "      <td>3765</td>\n",
       "      <td>[]</td>\n",
       "      <td>2020-04-12</td>\n",
       "      <td>G23651</td>\n",
       "      <td>North America</td>\n",
       "      <td>USA</td>\n",
       "      <td>community B</td>\n",
       "    </tr>\n",
       "    <tr>\n",
       "      <th>983</th>\n",
       "      <td>1994</td>\n",
       "      <td>0</td>\n",
       "      <td>I</td>\n",
       "      <td>2020-03-28</td>\n",
       "      <td>8083</td>\n",
       "      <td>[]</td>\n",
       "      <td>2020-03-28</td>\n",
       "      <td>G23653</td>\n",
       "      <td>North America</td>\n",
       "      <td>USA</td>\n",
       "      <td>community A</td>\n",
       "    </tr>\n",
       "    <tr>\n",
       "      <th>990</th>\n",
       "      <td>5936</td>\n",
       "      <td>1</td>\n",
       "      <td>I</td>\n",
       "      <td>2020-03-04</td>\n",
       "      <td>1000</td>\n",
       "      <td>[]</td>\n",
       "      <td>2020-03-06</td>\n",
       "      <td>G23660</td>\n",
       "      <td>North America</td>\n",
       "      <td>USA</td>\n",
       "      <td>community B</td>\n",
       "    </tr>\n",
       "    <tr>\n",
       "      <th>997</th>\n",
       "      <td>6304</td>\n",
       "      <td>0</td>\n",
       "      <td>I</td>\n",
       "      <td>2020-03-18</td>\n",
       "      <td>2896</td>\n",
       "      <td>[]</td>\n",
       "      <td>2020-03-29</td>\n",
       "      <td>G23667</td>\n",
       "      <td>North America</td>\n",
       "      <td>USA</td>\n",
       "      <td>community A</td>\n",
       "    </tr>\n",
       "  </tbody>\n",
       "</table>\n",
       "<p>173 rows × 11 columns</p>\n",
       "</div>"
      ],
      "text/plain": [
       "    accession  location state infection_date index_ID descendants    recovery  \\\n",
       "0        1000         1     R     2020-03-01      NaN          []  2020-03-24   \n",
       "7        2797         1     R     2020-03-14     4464          []  2020-03-26   \n",
       "10        896         0     R     2020-03-20      685          []  2020-03-21   \n",
       "12       8058         1     I     2020-03-31     5895          []  2020-04-01   \n",
       "23       1123         0     I     2020-03-18     3582          []  2020-03-21   \n",
       "..        ...       ...   ...            ...      ...         ...         ...   \n",
       "972       941         1     I     2020-03-28     8083          []  2020-03-30   \n",
       "981      7349         1     I     2020-03-15     3765          []  2020-04-12   \n",
       "983      1994         0     I     2020-03-28     8083          []  2020-03-28   \n",
       "990      5936         1     I     2020-03-04     1000          []  2020-03-06   \n",
       "997      6304         0     I     2020-03-18     2896          []  2020-03-29   \n",
       "\n",
       "     strain         region country        local  \n",
       "0    G22670  North America     USA  community B  \n",
       "7    G22677  North America     USA  community B  \n",
       "10   G22680  North America     USA  community A  \n",
       "12   G22682  North America     USA  community B  \n",
       "23   G22693  North America     USA  community A  \n",
       "..      ...            ...     ...          ...  \n",
       "972  G23642  North America     USA  community B  \n",
       "981  G23651  North America     USA  community B  \n",
       "983  G23653  North America     USA  community A  \n",
       "990  G23660  North America     USA  community B  \n",
       "997  G23667  North America     USA  community A  \n",
       "\n",
       "[173 rows x 11 columns]"
      ]
     },
     "execution_count": 74,
     "metadata": {},
     "output_type": "execute_result"
    }
   ],
   "source": [
    "gnm"
   ]
  },
  {
   "cell_type": "code",
   "execution_count": 75,
   "id": "93ab20da",
   "metadata": {},
   "outputs": [
    {
     "data": {
      "text/plain": [
       "(75, 11)"
      ]
     },
     "metadata": {},
     "output_type": "display_data"
    },
    {
     "data": {
      "text/plain": [
       "(98, 11)"
      ]
     },
     "metadata": {},
     "output_type": "display_data"
    }
   ],
   "source": [
    "gnmA = gnm[gnm.location==0]\n",
    "gnmB = gnm[gnm.location==1]\n",
    "display(gnmA.shape, gnmB.shape)"
   ]
  },
  {
   "cell_type": "markdown",
   "id": "90b068a4",
   "metadata": {},
   "source": [
    "# 4. Exporting"
   ]
  },
  {
   "cell_type": "code",
   "execution_count": 76,
   "id": "82264a7d-cd8b-4edf-9e6a-6eb8a0270207",
   "metadata": {},
   "outputs": [],
   "source": [
    "gnm.to_csv('sus_all.csv', sep='\\t')\n",
    "agents.to_csv('all_agents.csv', sep='\\t')"
   ]
  },
  {
   "cell_type": "code",
   "execution_count": 77,
   "id": "6ded9f71",
   "metadata": {},
   "outputs": [],
   "source": [
    "halfA = int(gnmA.shape[0] / 2)\n",
    "halfB = int(gnmB.shape[0] /2)\n",
    "fourthB = int(gnmB.shape[0] / 4)\n",
    "eighthB = int(gnmB.shape[0] /8)\n",
    "threefourthB = int(gnmB.shape[0] *3/4)"
   ]
  },
  {
   "cell_type": "code",
   "execution_count": 78,
   "id": "6399b797",
   "metadata": {},
   "outputs": [
    {
     "data": {
      "text/plain": [
       "49"
      ]
     },
     "metadata": {},
     "output_type": "display_data"
    },
    {
     "data": {
      "text/plain": [
       "24"
      ]
     },
     "metadata": {},
     "output_type": "display_data"
    },
    {
     "data": {
      "text/plain": [
       "12"
      ]
     },
     "metadata": {},
     "output_type": "display_data"
    },
    {
     "data": {
      "text/plain": [
       "73"
      ]
     },
     "metadata": {},
     "output_type": "display_data"
    },
    {
     "data": {
      "text/plain": [
       "'\\t'"
      ]
     },
     "metadata": {},
     "output_type": "display_data"
    },
    {
     "data": {
      "text/plain": [
       "37"
      ]
     },
     "metadata": {},
     "output_type": "display_data"
    }
   ],
   "source": [
    "display(halfB, fourthB, eighthB, threefourthB, \"\\t\")\n",
    "display(halfA)"
   ]
  },
  {
   "cell_type": "code",
   "execution_count": 79,
   "id": "9159f15d",
   "metadata": {},
   "outputs": [],
   "source": [
    "ratios = ['','11','12','14','23','21']"
   ]
  },
  {
   "cell_type": "code",
   "execution_count": 80,
   "id": "1adcf7c3",
   "metadata": {},
   "outputs": [],
   "source": [
    "gnm11 = gnmA.sample(frac=0.5, random_state=1).append(gnmB.sample(frac=0.5, random_state=1))\n",
    "gnm12 = gnmA.sample(frac=0.5, random_state=2).append(gnmB.sample(frac=0.25, random_state=2))\n",
    "gnm14 = gnmA.sample(frac=0.5, random_state=3).append(gnmB.sample(frac=(1/8), random_state=3))\n",
    "gnm23 = gnmA.sample(frac=0.5, random_state=4).append(gnmB.sample(frac=0.75, random_state=4))\n",
    "gnm21 = gnmA.sample(frac=0.5, random_state=5).append(gnmB)"
   ]
  },
  {
   "cell_type": "code",
   "execution_count": 81,
   "id": "1a032424",
   "metadata": {},
   "outputs": [
    {
     "data": {
      "text/plain": [
       "(87, 11)"
      ]
     },
     "metadata": {},
     "output_type": "display_data"
    },
    {
     "data": {
      "text/plain": [
       "86"
      ]
     },
     "metadata": {},
     "output_type": "display_data"
    },
    {
     "data": {
      "text/plain": [
       "(62, 11)"
      ]
     },
     "metadata": {},
     "output_type": "display_data"
    },
    {
     "data": {
      "text/plain": [
       "61"
      ]
     },
     "metadata": {},
     "output_type": "display_data"
    },
    {
     "data": {
      "text/plain": [
       "(50, 11)"
      ]
     },
     "metadata": {},
     "output_type": "display_data"
    },
    {
     "data": {
      "text/plain": [
       "49"
      ]
     },
     "metadata": {},
     "output_type": "display_data"
    },
    {
     "data": {
      "text/plain": [
       "(112, 11)"
      ]
     },
     "metadata": {},
     "output_type": "display_data"
    },
    {
     "data": {
      "text/plain": [
       "110"
      ]
     },
     "metadata": {},
     "output_type": "display_data"
    },
    {
     "data": {
      "text/plain": [
       "(136, 11)"
      ]
     },
     "metadata": {},
     "output_type": "display_data"
    },
    {
     "data": {
      "text/plain": [
       "135"
      ]
     },
     "metadata": {},
     "output_type": "display_data"
    }
   ],
   "source": [
    "display(gnm11.shape, halfA+halfB)\n",
    "display(gnm12.shape, halfA+fourthB)\n",
    "display(gnm14.shape, halfA+eighthB)\n",
    "display(gnm23.shape, halfA+threefourthB)\n",
    "display(gnm21.shape, halfA+gnmB.shape[0])"
   ]
  },
  {
   "cell_type": "code",
   "execution_count": 82,
   "id": "0459522c",
   "metadata": {},
   "outputs": [],
   "source": [
    "gnm.to_csv('background.tsv', sep='\\t', \n",
    "              columns=['strain', 'accession','infection_date','region','country','local'],\n",
    "             index=False)\n",
    "gnm11.to_csv('background11.tsv', sep='\\t', \n",
    "              columns=['strain', 'accession','infection_date','region','country','local'],\n",
    "             index=False)\n",
    "gnm12.to_csv('background12.tsv', sep='\\t', \n",
    "              columns=['strain', 'accession','infection_date','region','country','local'],\n",
    "             index=False)\n",
    "gnm14.to_csv('background14.tsv', sep='\\t', \n",
    "              columns=['strain', 'accession','infection_date','region','country','local'],\n",
    "             index=False)\n",
    "gnm23.to_csv('background23.tsv', sep='\\t', \n",
    "              columns=['strain', 'accession','infection_date','region','country','local'],\n",
    "             index=False)\n",
    "gnm21.to_csv('background21.tsv', sep='\\t', \n",
    "              columns=['strain', 'accession','infection_date','region','country','local'],\n",
    "             index=False)"
   ]
  },
  {
   "cell_type": "code",
   "execution_count": 83,
   "id": "bbc49558",
   "metadata": {},
   "outputs": [
    {
     "data": {
      "text/plain": [
       "dict_keys([1000, 2917, 9607, 5936, 198, 3106, 4546, 6608, 6911, 4676, 7922, 5353, 7036, 9990, 2997, 1479, 2240, 5757, 5890, 7069, 685, 5207, 7519, 2215, 2114, 4615, 4196, 4464, 2896, 110, 2854, 1721, 3722, 3823, 2808, 6470, 1198, 2126, 8539, 2363, 6073, 6176, 1817, 1823, 3765, 3570, 2797, 9051, 6412, 8358, 9013, 1838, 7012, 3655, 5829, 3582, 7349, 6551, 1720, 2172, 8257, 68, 7587, 6304, 339, 1123, 7514, 9201, 6219, 9887, 8676, 6422, 6074, 4507, 7003, 7948, 5895, 9382, 9046, 7546, 2381, 1586, 5311, 896, 2077, 7695, 4653, 4620, 5610, 6855, 5469, 5989, 8214, 4154, 1153, 7760, 5897, 2468, 7798, 8083, 675, 7918, 2603, 7828, 7563, 5823, 9529, 712, 2054, 3390, 9671, 2823, 9640, 850, 7683, 2337, 3804, 5646, 5104, 7590, 659, 831, 3538, 8045, 7621, 5122, 3418, 7197, 4717, 265, 4269, 9861, 2147, 5143, 9033, 663, 184, 3803, 6884, 8069, 2453, 165, 2306, 6822, 9412, 1994, 3441, 941, 123, 5845, 2606, 2006, 2193, 202, 1311, 2571, 8235, 1976, 3027, 1219, 8250, 7942, 4788, 8058, 5532, 6555, 4277, 7596, 3849, 7880])"
      ]
     },
     "execution_count": 83,
     "metadata": {},
     "output_type": "execute_result"
    }
   ],
   "source": [
    "allseq.keys()"
   ]
  },
  {
   "cell_type": "code",
   "execution_count": 84,
   "id": "621d6c42",
   "metadata": {},
   "outputs": [],
   "source": [
    "allrat = {}\n",
    "allrat['gnm'] = gnm\n",
    "allrat['gnm11'] = gnm11\n",
    "allrat['gnm12'] = gnm12\n",
    "allrat['gnm14'] = gnm14\n",
    "allrat['gnm23'] = gnm23\n",
    "allrat['gnm21'] = gnm21"
   ]
  },
  {
   "cell_type": "markdown",
   "id": "656d76d4",
   "metadata": {},
   "source": [
    "### 4.2 FASTA File"
   ]
  },
  {
   "cell_type": "code",
   "execution_count": 85,
   "id": "eda3ed76",
   "metadata": {},
   "outputs": [],
   "source": [
    "for a in ratios:\n",
    "    ofile = open(\"allseqs{rat}.txt\".format(rat=a), \"w\")\n",
    "\n",
    "    gnmclr = allrat['gnm{rat}'.format(rat=a)].reset_index()\n",
    "    for i in gnmclr.index:\n",
    "        me = allrat['gnm{rat}'.format(rat=a)].iloc[i]\n",
    "        ofile.write(\">\" + me.strain + \"\\n\" +''.join(allseq[me.accession]) + \"\\n\")\n",
    "\n",
    "        #do not forget to close it\n",
    "\n",
    "    ofile.close()"
   ]
  },
  {
   "cell_type": "code",
   "execution_count": 86,
   "id": "3ab42cd4",
   "metadata": {},
   "outputs": [
    {
     "name": "stdout",
     "output_type": "stream",
     "text": [
      "False\n"
     ]
    }
   ],
   "source": [
    "print(i in gnm.index)"
   ]
  },
  {
   "cell_type": "code",
   "execution_count": null,
   "id": "dd5e182c",
   "metadata": {},
   "outputs": [],
   "source": []
  },
  {
   "cell_type": "markdown",
   "id": "1992a0b6",
   "metadata": {},
   "source": [
    "# 5 Graphics/Analysis"
   ]
  },
  {
   "cell_type": "markdown",
   "id": "bd34d7a0",
   "metadata": {},
   "source": [
    "* still provide initial sequence - youngest count as root in random selection\n",
    "* see how many of correctly directed edges are present in constructed tree\n",
    "    * function of the two parameters - % correct\n",
    "    \n",
    "TODO:\n",
    "   * creation and running of snakemake\n",
    "   * function to determine ground truth - list of directed ages?\n",
    "   * in/out of nextstrain\n",
    "   * feed all to see how initially accurate nextstrain is\n",
    "   * install nesxstrain tools\n",
    "    \n",
    "    \n",
    "  .groupby for infector\n",
    "- how nextstrain may be off: initial pairs and compare to nexstrain\n",
    "- coun tnumber of pairs\n",
    "- divergence on nexstrain\n",
    "- examine the directed arrows to show who is infecting hwo\n",
    "* FIGURE OUT HOW TO INTERPRET TREE RESULTING FILE IN NEXTSTRAIN"
   ]
  },
  {
   "cell_type": "markdown",
   "id": "1bc022d0-0a2f-40a8-ada2-42da34a8c7b2",
   "metadata": {},
   "source": [
    "## 5.1 Directed Graph"
   ]
  },
  {
   "cell_type": "code",
   "execution_count": 153,
   "id": "eeb9d2c1-e2f5-4fb5-8afc-4b3ad1beda9d",
   "metadata": {},
   "outputs": [
    {
     "data": {
      "text/html": [
       "<div>\n",
       "<style scoped>\n",
       "    .dataframe tbody tr th:only-of-type {\n",
       "        vertical-align: middle;\n",
       "    }\n",
       "\n",
       "    .dataframe tbody tr th {\n",
       "        vertical-align: top;\n",
       "    }\n",
       "\n",
       "    .dataframe thead th {\n",
       "        text-align: right;\n",
       "    }\n",
       "</style>\n",
       "<table border=\"1\" class=\"dataframe\">\n",
       "  <thead>\n",
       "    <tr style=\"text-align: right;\">\n",
       "      <th></th>\n",
       "      <th>accession</th>\n",
       "      <th>location</th>\n",
       "      <th>state</th>\n",
       "      <th>infection_date</th>\n",
       "      <th>index_ID</th>\n",
       "      <th>descendants</th>\n",
       "      <th>recovery</th>\n",
       "      <th>strain</th>\n",
       "      <th>region</th>\n",
       "      <th>country</th>\n",
       "      <th>local</th>\n",
       "    </tr>\n",
       "  </thead>\n",
       "  <tbody>\n",
       "    <tr>\n",
       "      <th>0</th>\n",
       "      <td>1000</td>\n",
       "      <td>1</td>\n",
       "      <td>R</td>\n",
       "      <td>2020-03-01</td>\n",
       "      <td>NaN</td>\n",
       "      <td>[]</td>\n",
       "      <td>2020-03-24</td>\n",
       "      <td>G22670</td>\n",
       "      <td>North America</td>\n",
       "      <td>USA</td>\n",
       "      <td>community B</td>\n",
       "    </tr>\n",
       "    <tr>\n",
       "      <th>7</th>\n",
       "      <td>2797</td>\n",
       "      <td>1</td>\n",
       "      <td>R</td>\n",
       "      <td>2020-03-14</td>\n",
       "      <td>4464</td>\n",
       "      <td>[]</td>\n",
       "      <td>2020-03-26</td>\n",
       "      <td>G22677</td>\n",
       "      <td>North America</td>\n",
       "      <td>USA</td>\n",
       "      <td>community B</td>\n",
       "    </tr>\n",
       "    <tr>\n",
       "      <th>10</th>\n",
       "      <td>896</td>\n",
       "      <td>0</td>\n",
       "      <td>R</td>\n",
       "      <td>2020-03-20</td>\n",
       "      <td>685</td>\n",
       "      <td>[]</td>\n",
       "      <td>2020-03-21</td>\n",
       "      <td>G22680</td>\n",
       "      <td>North America</td>\n",
       "      <td>USA</td>\n",
       "      <td>community A</td>\n",
       "    </tr>\n",
       "    <tr>\n",
       "      <th>12</th>\n",
       "      <td>8058</td>\n",
       "      <td>1</td>\n",
       "      <td>I</td>\n",
       "      <td>2020-03-31</td>\n",
       "      <td>5895</td>\n",
       "      <td>[]</td>\n",
       "      <td>2020-04-01</td>\n",
       "      <td>G22682</td>\n",
       "      <td>North America</td>\n",
       "      <td>USA</td>\n",
       "      <td>community B</td>\n",
       "    </tr>\n",
       "    <tr>\n",
       "      <th>23</th>\n",
       "      <td>1123</td>\n",
       "      <td>0</td>\n",
       "      <td>I</td>\n",
       "      <td>2020-03-18</td>\n",
       "      <td>3582</td>\n",
       "      <td>[]</td>\n",
       "      <td>2020-03-21</td>\n",
       "      <td>G22693</td>\n",
       "      <td>North America</td>\n",
       "      <td>USA</td>\n",
       "      <td>community A</td>\n",
       "    </tr>\n",
       "    <tr>\n",
       "      <th>...</th>\n",
       "      <td>...</td>\n",
       "      <td>...</td>\n",
       "      <td>...</td>\n",
       "      <td>...</td>\n",
       "      <td>...</td>\n",
       "      <td>...</td>\n",
       "      <td>...</td>\n",
       "      <td>...</td>\n",
       "      <td>...</td>\n",
       "      <td>...</td>\n",
       "      <td>...</td>\n",
       "    </tr>\n",
       "    <tr>\n",
       "      <th>972</th>\n",
       "      <td>941</td>\n",
       "      <td>1</td>\n",
       "      <td>I</td>\n",
       "      <td>2020-03-28</td>\n",
       "      <td>8083</td>\n",
       "      <td>[]</td>\n",
       "      <td>2020-03-30</td>\n",
       "      <td>G23642</td>\n",
       "      <td>North America</td>\n",
       "      <td>USA</td>\n",
       "      <td>community B</td>\n",
       "    </tr>\n",
       "    <tr>\n",
       "      <th>981</th>\n",
       "      <td>7349</td>\n",
       "      <td>1</td>\n",
       "      <td>I</td>\n",
       "      <td>2020-03-15</td>\n",
       "      <td>3765</td>\n",
       "      <td>[]</td>\n",
       "      <td>2020-04-12</td>\n",
       "      <td>G23651</td>\n",
       "      <td>North America</td>\n",
       "      <td>USA</td>\n",
       "      <td>community B</td>\n",
       "    </tr>\n",
       "    <tr>\n",
       "      <th>983</th>\n",
       "      <td>1994</td>\n",
       "      <td>0</td>\n",
       "      <td>I</td>\n",
       "      <td>2020-03-28</td>\n",
       "      <td>8083</td>\n",
       "      <td>[]</td>\n",
       "      <td>2020-03-28</td>\n",
       "      <td>G23653</td>\n",
       "      <td>North America</td>\n",
       "      <td>USA</td>\n",
       "      <td>community A</td>\n",
       "    </tr>\n",
       "    <tr>\n",
       "      <th>990</th>\n",
       "      <td>5936</td>\n",
       "      <td>1</td>\n",
       "      <td>I</td>\n",
       "      <td>2020-03-04</td>\n",
       "      <td>1000</td>\n",
       "      <td>[]</td>\n",
       "      <td>2020-03-06</td>\n",
       "      <td>G23660</td>\n",
       "      <td>North America</td>\n",
       "      <td>USA</td>\n",
       "      <td>community B</td>\n",
       "    </tr>\n",
       "    <tr>\n",
       "      <th>997</th>\n",
       "      <td>6304</td>\n",
       "      <td>0</td>\n",
       "      <td>I</td>\n",
       "      <td>2020-03-18</td>\n",
       "      <td>2896</td>\n",
       "      <td>[]</td>\n",
       "      <td>2020-03-29</td>\n",
       "      <td>G23667</td>\n",
       "      <td>North America</td>\n",
       "      <td>USA</td>\n",
       "      <td>community A</td>\n",
       "    </tr>\n",
       "  </tbody>\n",
       "</table>\n",
       "<p>173 rows × 11 columns</p>\n",
       "</div>"
      ],
      "text/plain": [
       "    accession  location state infection_date index_ID descendants    recovery  \\\n",
       "0        1000         1     R     2020-03-01      NaN          []  2020-03-24   \n",
       "7        2797         1     R     2020-03-14     4464          []  2020-03-26   \n",
       "10        896         0     R     2020-03-20      685          []  2020-03-21   \n",
       "12       8058         1     I     2020-03-31     5895          []  2020-04-01   \n",
       "23       1123         0     I     2020-03-18     3582          []  2020-03-21   \n",
       "..        ...       ...   ...            ...      ...         ...         ...   \n",
       "972       941         1     I     2020-03-28     8083          []  2020-03-30   \n",
       "981      7349         1     I     2020-03-15     3765          []  2020-04-12   \n",
       "983      1994         0     I     2020-03-28     8083          []  2020-03-28   \n",
       "990      5936         1     I     2020-03-04     1000          []  2020-03-06   \n",
       "997      6304         0     I     2020-03-18     2896          []  2020-03-29   \n",
       "\n",
       "     strain         region country        local  \n",
       "0    G22670  North America     USA  community B  \n",
       "7    G22677  North America     USA  community B  \n",
       "10   G22680  North America     USA  community A  \n",
       "12   G22682  North America     USA  community B  \n",
       "23   G22693  North America     USA  community A  \n",
       "..      ...            ...     ...          ...  \n",
       "972  G23642  North America     USA  community B  \n",
       "981  G23651  North America     USA  community B  \n",
       "983  G23653  North America     USA  community A  \n",
       "990  G23660  North America     USA  community B  \n",
       "997  G23667  North America     USA  community A  \n",
       "\n",
       "[173 rows x 11 columns]"
      ]
     },
     "execution_count": 153,
     "metadata": {},
     "output_type": "execute_result"
    }
   ],
   "source": [
    "gnm"
   ]
  },
  {
   "cell_type": "code",
   "execution_count": 101,
   "id": "6628448c-3fe2-4691-8278-00b9dd1e4e01",
   "metadata": {},
   "outputs": [],
   "source": [
    "import networkx as nx\n",
    "from matplotlib.pyplot import figure"
   ]
  },
  {
   "cell_type": "code",
   "execution_count": 110,
   "id": "294305a9-1691-4efe-b23c-72d7a3bc2230",
   "metadata": {},
   "outputs": [
    {
     "data": {
      "text/plain": [
       "Index(['accession', 'location', 'state', 'infection_date', 'index_ID',\n",
       "       'descendants', 'recovery', 'strain', 'region', 'country', 'local'],\n",
       "      dtype='object')"
      ]
     },
     "execution_count": 110,
     "metadata": {},
     "output_type": "execute_result"
    }
   ],
   "source": [
    "gnm.columns"
   ]
  },
  {
   "cell_type": "code",
   "execution_count": 142,
   "id": "39aec1c2-1f54-4c3a-8a06-6c1212f4c1ff",
   "metadata": {},
   "outputs": [],
   "source": [
    "G = nx.MultiDiGraph\n",
    "G = nx.from_pandas_edgelist(gnm, 'accession', 'index_ID')\n",
    "G.remove_node(np.nan)"
   ]
  },
  {
   "cell_type": "code",
   "execution_count": 149,
   "id": "2b83e5c5-8d96-4548-b5a0-1d4900e7220f",
   "metadata": {},
   "outputs": [
    {
     "data": {
      "image/png": "[encoded data removed]",
      "text/plain": [
       "<Figure size 1440x720 with 1 Axes>"
      ]
     },
     "metadata": {},
     "output_type": "display_data"
    }
   ],
   "source": [
    "figure(figsize=(20, 10))\n",
    "nx.draw(G, with_labels=True, node_size=1500, node_color=\"skyblue\", pos=nx.kamada_kawai_layout(G,scale = 1.5))"
   ]
  },
  {
   "cell_type": "code",
   "execution_count": 151,
   "id": "74a359b9-b209-40b4-86c1-fdafe7f6f539",
   "metadata": {},
   "outputs": [
    {
     "data": {
      "text/html": [
       "<div>\n",
       "<style scoped>\n",
       "    .dataframe tbody tr th:only-of-type {\n",
       "        vertical-align: middle;\n",
       "    }\n",
       "\n",
       "    .dataframe tbody tr th {\n",
       "        vertical-align: top;\n",
       "    }\n",
       "\n",
       "    .dataframe thead th {\n",
       "        text-align: right;\n",
       "    }\n",
       "</style>\n",
       "<table border=\"1\" class=\"dataframe\">\n",
       "  <thead>\n",
       "    <tr style=\"text-align: right;\">\n",
       "      <th></th>\n",
       "      <th>accession</th>\n",
       "      <th>location</th>\n",
       "      <th>state</th>\n",
       "      <th>infection_date</th>\n",
       "      <th>index_ID</th>\n",
       "      <th>descendants</th>\n",
       "      <th>recovery</th>\n",
       "      <th>strain</th>\n",
       "      <th>region</th>\n",
       "      <th>country</th>\n",
       "      <th>local</th>\n",
       "    </tr>\n",
       "  </thead>\n",
       "  <tbody>\n",
       "    <tr>\n",
       "      <th>63</th>\n",
       "      <td>5895</td>\n",
       "      <td>0</td>\n",
       "      <td>I</td>\n",
       "      <td>2020-03-20</td>\n",
       "      <td>6551</td>\n",
       "      <td>[]</td>\n",
       "      <td>2020-04-05</td>\n",
       "      <td>G22733</td>\n",
       "      <td>North America</td>\n",
       "      <td>USA</td>\n",
       "      <td>community A</td>\n",
       "    </tr>\n",
       "  </tbody>\n",
       "</table>\n",
       "</div>"
      ],
      "text/plain": [
       "   accession  location state infection_date index_ID descendants    recovery  \\\n",
       "63      5895         0     I     2020-03-20     6551          []  2020-04-05   \n",
       "\n",
       "    strain         region country        local  \n",
       "63  G22733  North America     USA  community A  "
      ]
     },
     "execution_count": 151,
     "metadata": {},
     "output_type": "execute_result"
    }
   ],
   "source": [
    "gnm[gnm.accession==5895]"
   ]
  },
  {
   "cell_type": "code",
   "execution_count": 152,
   "id": "1dcd7938-b3da-41a5-8473-7a3eb0ef69da",
   "metadata": {},
   "outputs": [
    {
     "data": {
      "text/plain": [
       "'nextstrain build --cpus 1 genomic_sampling/__'"
      ]
     },
     "execution_count": 152,
     "metadata": {},
     "output_type": "execute_result"
    }
   ],
   "source": [
    "'conda activate nextstrain'\n",
    "'nextstrain build --cpus 1 genomic_sampling/__'"
   ]
  },
  {
   "cell_type": "markdown",
   "id": "e1317dd7-0f76-42de-93c4-f3ca4da6880e",
   "metadata": {},
   "source": [
    "# 6. Generated Tree vs Simualted"
   ]
  },
  {
   "cell_type": "code",
   "execution_count": 162,
   "id": "5211b5d5-68e0-469c-a3fa-579c0a0af0c5",
   "metadata": {},
   "outputs": [],
   "source": [
    "import baltic as bt\n",
    "import json\n",
    "from Bio import Phylo"
   ]
  },
  {
   "cell_type": "code",
   "execution_count": 322,
   "id": "baa0c78c-b0bd-4f11-9535-389f25fe5127",
   "metadata": {},
   "outputs": [],
   "source": [
    "def to_adjacency_matrix(tree):\n",
    "    \"\"\"Create an adjacency matrix (NumPy array) from clades/branches in tree.\n",
    "\n",
    "    Also returns a list of all clades in tree (\"allclades\"), where the position\n",
    "    of each clade in the list corresponds to a row and column of the numpy\n",
    "    array: a cell (i,j) in the array is 1 if there is a branch from allclades[i]\n",
    "    to allclades[j], otherwise 0.\n",
    "\n",
    "    Returns a tuple of (allclades, adjacency_matrix) where allclades is a list\n",
    "    of clades and adjacency_matrix is a NumPy 2D array.\n",
    "    \"\"\"\n",
    "    allclades = list(tree.find_clades(order=\"level\"))\n",
    "    lookup = {}\n",
    "    for i, elem in enumerate(allclades):\n",
    "        lookup[elem] = i\n",
    "    adjmat = np.zeros((len(allclades), len(allclades)))\n",
    "    for parent in tree.find_clades(terminal=False, order=\"level\"):\n",
    "        for child in parent.clades:\n",
    "            adjmat[lookup[parent], lookup[child]] = 1\n",
    "    return (allclades, np.matrix(adjmat))"
   ]
  },
  {
   "cell_type": "code",
   "execution_count": null,
   "id": "083f3f83-5cab-4582-928e-087be386a333",
   "metadata": {},
   "outputs": [],
   "source": [
    "def see_pairs(tree):\n",
    "    \"\"\"Create an adjacency matrix (NumPy array) from clades/branches in tree.\n",
    "\n",
    "    Also returns a list of all clades in tree (\"allclades\"), where the position\n",
    "    of each clade in the list corresponds to a row and column of the numpy\n",
    "    array: a cell (i,j) in the array is 1 if there is a branch from allclades[i]\n",
    "    to allclades[j], otherwise 0.\n",
    "\n",
    "    Returns a tuple of (allclades, adjacency_matrix) where allclades is a list\n",
    "    of clades and adjacency_matrix is a NumPy 2D array.\n",
    "    \"\"\"\n",
    "    allclades = list(tree.find_clades(order=\"level\"))\n",
    "    lookup = {}\n",
    "    for i, elem in enumerate(allclades):\n",
    "        if str(elem.startswith('G')):\n",
    "            lookup[elem] = i\n",
    "    adjmat = np.zeros((len(lookup), len(lookup)))\n",
    "    for parent in tree.find_clades(terminal=False, order=\"level\"):\n",
    "        for child in parent.clades:\n",
    "            adjmat[lookup[parent], lookup[child]] = 1\n",
    "    return (allclades, np.matrix(adjmat))"
   ]
  },
  {
   "cell_type": "code",
   "execution_count": null,
   "id": "cbfd2ae8-4799-4070-aa66-04fdcd4d58ac",
   "metadata": {},
   "outputs": [],
   "source": [
    "allclades"
   ]
  },
  {
   "cell_type": "code",
   "execution_count": 356,
   "id": "107ce4a1-b43a-4e48-b698-ff0f3e1fc631",
   "metadata": {},
   "outputs": [],
   "source": [
    "lookup={}\n",
    "momkid=[]\n",
    "allclades = list(tree.find_clades(order=\"level\"))\n",
    "for i, elem in enumerate(allclades):\n",
    "        if str(elem).startswith('G'):\n",
    "            lookup[elem] = i\n",
    "            #print(i, elem)\n",
    "for parent in tree.find_clades(order=\"level\"):\n",
    "    #if parent.name.startswith('G'):\n",
    "    for child in parent.clades:\n",
    "        #if child.name.startswith('G'):\n",
    "        momkid.append((parent.name, child.name))\n"
   ]
  },
  {
   "cell_type": "code",
   "execution_count": 357,
   "id": "8739552a-ed44-46e6-afae-63079947596d",
   "metadata": {},
   "outputs": [
    {
     "data": {
      "text/plain": [
       "[('NODE_0000001', 'NODE_0000136'),\n",
       " ('NODE_0000001', 'NODE_0000130'),\n",
       " ('NODE_0000136', 'G23651'),\n",
       " ('NODE_0000136', 'G23052'),\n",
       " ('NODE_0000136', 'NODE_0000002'),\n",
       " ('NODE_0000136', 'NODE_0000145'),\n",
       " ('NODE_0000130', 'G23165'),\n",
       " ('NODE_0000130', 'NODE_0000031'),\n",
       " ('NODE_0000130', 'NODE_0000000'),\n",
       " ('NODE_0000002', 'NODE_0000003'),\n",
       " ('NODE_0000002', 'NODE_0000005'),\n",
       " ('NODE_0000145', 'NODE_0000009'),\n",
       " ('NODE_0000145', 'NODE_0000147'),\n",
       " ('NODE_0000031', 'NODE_0000032'),\n",
       " ('NODE_0000031', 'NODE_0000134'),\n",
       " ('NODE_0000000', 'base_case'),\n",
       " ('NODE_0000000', 'G23486'),\n",
       " ('NODE_0000000', 'G23380'),\n",
       " ('NODE_0000000', 'G23609'),\n",
       " ('NODE_0000000', 'NODE_0000099'),\n",
       " ('NODE_0000000', 'NODE_0000089'),\n",
       " ('NODE_0000000', 'NODE_0000105'),\n",
       " ('NODE_0000000', 'NODE_0000047'),\n",
       " ('NODE_0000000', 'NODE_0000066'),\n",
       " ('NODE_0000000', 'NODE_0000163'),\n",
       " ('NODE_0000003', 'G22702'),\n",
       " ('NODE_0000003', 'NODE_0000004'),\n",
       " ('NODE_0000005', 'G22757'),\n",
       " ('NODE_0000005', 'NODE_0000006'),\n",
       " ('NODE_0000009', 'G23625'),\n",
       " ('NODE_0000009', 'G22963'),\n",
       " ('NODE_0000147', 'G22850'),\n",
       " ('NODE_0000147', 'G23533'),\n",
       " ('NODE_0000147', 'NODE_0000148'),\n",
       " ('NODE_0000147', 'NODE_0000164'),\n",
       " ('NODE_0000147', 'NODE_0000020'),\n",
       " ('NODE_0000032', 'G23172'),\n",
       " ('NODE_0000032', 'G23226'),\n",
       " ('NODE_0000134', 'G23041'),\n",
       " ('NODE_0000134', 'NODE_0000135'),\n",
       " ('NODE_0000099', 'G23545'),\n",
       " ('NODE_0000099', 'NODE_0000048'),\n",
       " ('NODE_0000089', 'G22866'),\n",
       " ('NODE_0000089', 'G22824'),\n",
       " ('NODE_0000089', 'NODE_0000040'),\n",
       " ('NODE_0000105', 'G23209'),\n",
       " ('NODE_0000105', 'NODE_0000113'),\n",
       " ('NODE_0000105', 'NODE_0000114'),\n",
       " ('NODE_0000105', 'NODE_0000119'),\n",
       " ('NODE_0000105', 'NODE_0000079'),\n",
       " ('NODE_0000047', 'G23265'),\n",
       " ('NODE_0000047', 'G23660'),\n",
       " ('NODE_0000047', 'NODE_0000055'),\n",
       " ('NODE_0000047', 'NODE_0000063'),\n",
       " ('NODE_0000066', 'G23667'),\n",
       " ('NODE_0000066', 'G23017'),\n",
       " ('NODE_0000066', 'NODE_0000077'),\n",
       " ('NODE_0000066', 'NODE_0000067'),\n",
       " ('NODE_0000066', 'NODE_0000151'),\n",
       " ('NODE_0000163', 'G22670'),\n",
       " ('NODE_0000163', 'NODE_0000094'),\n",
       " ('NODE_0000004', 'G22796'),\n",
       " ('NODE_0000004', 'G22693'),\n",
       " ('NODE_0000006', 'G23344'),\n",
       " ('NODE_0000006', 'NODE_0000007'),\n",
       " ('NODE_0000148', 'G23488'),\n",
       " ('NODE_0000148', 'NODE_0000012'),\n",
       " ('NODE_0000164', 'G23123'),\n",
       " ('NODE_0000164', 'G23639'),\n",
       " ('NODE_0000164', 'G23356'),\n",
       " ('NODE_0000164', 'NODE_0000015'),\n",
       " ('NODE_0000020', 'NODE_0000021'),\n",
       " ('NODE_0000020', 'NODE_0000022'),\n",
       " ('NODE_0000135', 'G23116'),\n",
       " ('NODE_0000135', 'G23523'),\n",
       " ('NODE_0000048', 'G22768'),\n",
       " ('NODE_0000048', 'NODE_0000037'),\n",
       " ('NODE_0000040', 'G22873'),\n",
       " ('NODE_0000040', 'NODE_0000041'),\n",
       " ('NODE_0000113', 'G23525'),\n",
       " ('NODE_0000113', 'G23556'),\n",
       " ('NODE_0000114', 'G23102'),\n",
       " ('NODE_0000114', 'NODE_0000051'),\n",
       " ('NODE_0000119', 'G22886'),\n",
       " ('NODE_0000119', 'G22749'),\n",
       " ('NODE_0000119', 'NODE_0000078'),\n",
       " ('NODE_0000079', 'G22843'),\n",
       " ('NODE_0000079', 'NODE_0000053'),\n",
       " ('NODE_0000055', 'G22998'),\n",
       " ('NODE_0000055', 'NODE_0000061'),\n",
       " ('NODE_0000063', 'G23594'),\n",
       " ('NODE_0000063', 'NODE_0000064'),\n",
       " ('NODE_0000077', 'G23009'),\n",
       " ('NODE_0000077', 'G23284'),\n",
       " ('NODE_0000067', 'G23087'),\n",
       " ('NODE_0000067', 'NODE_0000143'),\n",
       " ('NODE_0000151', 'G22770'),\n",
       " ('NODE_0000151', 'NODE_0000082'),\n",
       " ('NODE_0000094', 'NODE_0000095'),\n",
       " ('NODE_0000094', 'NODE_0000108'),\n",
       " ('NODE_0000007', 'G22821'),\n",
       " ('NODE_0000007', 'G23254'),\n",
       " ('NODE_0000012', 'G22924'),\n",
       " ('NODE_0000012', 'NODE_0000013'),\n",
       " ('NODE_0000015', 'G23058'),\n",
       " ('NODE_0000015', 'NODE_0000016'),\n",
       " ('NODE_0000021', 'G22677'),\n",
       " ('NODE_0000021', 'G23377'),\n",
       " ('NODE_0000022', 'G22929'),\n",
       " ('NODE_0000022', 'NODE_0000023'),\n",
       " ('NODE_0000037', 'G23394'),\n",
       " ('NODE_0000037', 'NODE_0000038'),\n",
       " ('NODE_0000041', 'G22921'),\n",
       " ('NODE_0000041', 'NODE_0000043'),\n",
       " ('NODE_0000051', 'G22887'),\n",
       " ('NODE_0000051', 'G22711'),\n",
       " ('NODE_0000078', 'G23497'),\n",
       " ('NODE_0000078', 'G23474'),\n",
       " ('NODE_0000053', 'NODE_0000117'),\n",
       " ('NODE_0000053', 'NODE_0000056'),\n",
       " ('NODE_0000061', 'G22981'),\n",
       " ('NODE_0000061', 'NODE_0000062'),\n",
       " ('NODE_0000064', 'NODE_0000065'),\n",
       " ('NODE_0000064', 'NODE_0000068'),\n",
       " ('NODE_0000143', 'G22734'),\n",
       " ('NODE_0000143', 'NODE_0000080'),\n",
       " ('NODE_0000082', 'G22983'),\n",
       " ('NODE_0000082', 'NODE_0000083'),\n",
       " ('NODE_0000095', 'NODE_0000096'),\n",
       " ('NODE_0000095', 'NODE_0000097'),\n",
       " ('NODE_0000108', 'NODE_0000109'),\n",
       " ('NODE_0000108', 'NODE_0000110'),\n",
       " ('NODE_0000013', 'G22818'),\n",
       " ('NODE_0000013', 'G22838'),\n",
       " ('NODE_0000016', 'G22958'),\n",
       " ('NODE_0000016', 'NODE_0000017'),\n",
       " ('NODE_0000023', 'G22792'),\n",
       " ('NODE_0000023', 'NODE_0000024'),\n",
       " ('NODE_0000038', 'G23623'),\n",
       " ('NODE_0000038', 'G23607'),\n",
       " ('NODE_0000043', 'G23550'),\n",
       " ('NODE_0000043', 'NODE_0000044'),\n",
       " ('NODE_0000117', 'G23414'),\n",
       " ('NODE_0000117', 'G22910'),\n",
       " ('NODE_0000117', 'G22975'),\n",
       " ('NODE_0000056', 'NODE_0000057'),\n",
       " ('NODE_0000056', 'NODE_0000058'),\n",
       " ('NODE_0000062', 'G22814'),\n",
       " ('NODE_0000062', 'G22991'),\n",
       " ('NODE_0000065', 'G23517'),\n",
       " ('NODE_0000065', 'NODE_0000050'),\n",
       " ('NODE_0000068', 'NODE_0000069'),\n",
       " ('NODE_0000068', 'NODE_0000070'),\n",
       " ('NODE_0000080', 'G23038'),\n",
       " ('NODE_0000080', 'NODE_0000081'),\n",
       " ('NODE_0000083', 'NODE_0000084'),\n",
       " ('NODE_0000083', 'NODE_0000085'),\n",
       " ('NODE_0000096', 'G23189'),\n",
       " ('NODE_0000096', 'G23191'),\n",
       " ('NODE_0000097', 'NODE_0000098'),\n",
       " ('NODE_0000097', 'NODE_0000100'),\n",
       " ('NODE_0000109', 'G23101'),\n",
       " ('NODE_0000109', 'G22893'),\n",
       " ('NODE_0000110', 'NODE_0000111'),\n",
       " ('NODE_0000110', 'NODE_0000112'),\n",
       " ('NODE_0000017', 'G22733'),\n",
       " ('NODE_0000017', 'NODE_0000018'),\n",
       " ('NODE_0000024', 'G22708'),\n",
       " ('NODE_0000024', 'NODE_0000025'),\n",
       " ('NODE_0000044', 'NODE_0000045'),\n",
       " ('NODE_0000044', 'NODE_0000046'),\n",
       " ('NODE_0000057', 'G23054'),\n",
       " ('NODE_0000057', 'G22680'),\n",
       " ('NODE_0000058', 'G23253'),\n",
       " ('NODE_0000058', 'G22990'),\n",
       " ('NODE_0000050', 'G23122'),\n",
       " ('NODE_0000050', 'G23461'),\n",
       " ('NODE_0000069', 'G23591'),\n",
       " ('NODE_0000069', 'G22966'),\n",
       " ('NODE_0000070', 'G23575'),\n",
       " ('NODE_0000070', 'NODE_0000071'),\n",
       " ('NODE_0000081', 'G23479'),\n",
       " ('NODE_0000081', 'G23442'),\n",
       " ('NODE_0000084', 'G23346'),\n",
       " ('NODE_0000084', 'G22867'),\n",
       " ('NODE_0000085', 'NODE_0000086'),\n",
       " ('NODE_0000085', 'NODE_0000087'),\n",
       " ('NODE_0000098', 'G23557'),\n",
       " ('NODE_0000098', 'G23565'),\n",
       " ('NODE_0000100', 'NODE_0000101'),\n",
       " ('NODE_0000100', 'NODE_0000102'),\n",
       " ('NODE_0000111', 'G23500'),\n",
       " ('NODE_0000111', 'G23536'),\n",
       " ('NODE_0000112', 'NODE_0000115'),\n",
       " ('NODE_0000112', 'NODE_0000116'),\n",
       " ('NODE_0000018', 'G23246'),\n",
       " ('NODE_0000018', 'NODE_0000019'),\n",
       " ('NODE_0000025', 'G23287'),\n",
       " ('NODE_0000025', 'NODE_0000026'),\n",
       " ('NODE_0000045', 'G23236'),\n",
       " ('NODE_0000045', 'G23630'),\n",
       " ('NODE_0000046', 'G23068'),\n",
       " ('NODE_0000046', 'G23384'),\n",
       " ('NODE_0000071', 'NODE_0000072'),\n",
       " ('NODE_0000071', 'NODE_0000074'),\n",
       " ('NODE_0000086', 'G23330'),\n",
       " ('NODE_0000086', 'G23602'),\n",
       " ('NODE_0000087', 'G22890'),\n",
       " ('NODE_0000087', 'NODE_0000088'),\n",
       " ('NODE_0000101', 'G23336'),\n",
       " ('NODE_0000101', 'G23219'),\n",
       " ('NODE_0000102', 'NODE_0000103'),\n",
       " ('NODE_0000102', 'NODE_0000104'),\n",
       " ('NODE_0000115', 'G22880'),\n",
       " ('NODE_0000115', 'G23320'),\n",
       " ('NODE_0000116', 'NODE_0000118'),\n",
       " ('NODE_0000116', 'NODE_0000122'),\n",
       " ('NODE_0000019', 'G22682'),\n",
       " ('NODE_0000019', 'G23314'),\n",
       " ('NODE_0000026', 'NODE_0000027'),\n",
       " ('NODE_0000026', 'NODE_0000028'),\n",
       " ('NODE_0000072', 'G23296'),\n",
       " ('NODE_0000072', 'NODE_0000073'),\n",
       " ('NODE_0000074', 'G22870'),\n",
       " ('NODE_0000074', 'NODE_0000075'),\n",
       " ('NODE_0000088', 'NODE_0000090'),\n",
       " ('NODE_0000088', 'NODE_0000091'),\n",
       " ('NODE_0000103', 'G23285'),\n",
       " ('NODE_0000103', 'G23163'),\n",
       " ('NODE_0000104', 'NODE_0000106'),\n",
       " ('NODE_0000104', 'NODE_0000107'),\n",
       " ('NODE_0000118', 'NODE_0000120'),\n",
       " ('NODE_0000118', 'NODE_0000121'),\n",
       " ('NODE_0000122', 'NODE_0000124'),\n",
       " ('NODE_0000122', 'NODE_0000125'),\n",
       " ('NODE_0000027', 'G23096'),\n",
       " ('NODE_0000027', 'G23412'),\n",
       " ('NODE_0000028', 'G22964'),\n",
       " ('NODE_0000028', 'NODE_0000029'),\n",
       " ('NODE_0000073', 'G23354'),\n",
       " ('NODE_0000073', 'G23237'),\n",
       " ('NODE_0000075', 'G22742'),\n",
       " ('NODE_0000075', 'NODE_0000076'),\n",
       " ('NODE_0000090', 'G23128'),\n",
       " ('NODE_0000090', 'G22902'),\n",
       " ('NODE_0000091', 'NODE_0000092'),\n",
       " ('NODE_0000091', 'NODE_0000093'),\n",
       " ('NODE_0000106', 'G23459'),\n",
       " ('NODE_0000106', 'G23641'),\n",
       " ('NODE_0000107', 'G22872'),\n",
       " ('NODE_0000107', 'G23238'),\n",
       " ('NODE_0000120', 'G22782'),\n",
       " ('NODE_0000120', 'G23470'),\n",
       " ('NODE_0000121', 'G23333'),\n",
       " ('NODE_0000121', 'G23335'),\n",
       " ('NODE_0000124', 'G23511'),\n",
       " ('NODE_0000124', 'G23387'),\n",
       " ('NODE_0000125', 'NODE_0000126'),\n",
       " ('NODE_0000125', 'NODE_0000142'),\n",
       " ('NODE_0000029', 'G23566'),\n",
       " ('NODE_0000029', 'G22831'),\n",
       " ('NODE_0000076', 'G22939'),\n",
       " ('NODE_0000076', 'G23315'),\n",
       " ('NODE_0000092', 'G23297'),\n",
       " ('NODE_0000092', 'G23143'),\n",
       " ('NODE_0000093', 'G23653'),\n",
       " ('NODE_0000093', 'G23642'),\n",
       " ('NODE_0000126', 'NODE_0000128'),\n",
       " ('NODE_0000126', 'NODE_0000129'),\n",
       " ('NODE_0000142', 'NODE_0000039'),\n",
       " ('NODE_0000142', 'NODE_0000123'),\n",
       " ('NODE_0000128', 'G22756'),\n",
       " ('NODE_0000128', 'G23478'),\n",
       " ('NODE_0000129', 'NODE_0000131'),\n",
       " ('NODE_0000129', 'NODE_0000132'),\n",
       " ('NODE_0000039', 'NODE_0000144'),\n",
       " ('NODE_0000039', 'NODE_0000042'),\n",
       " ('NODE_0000123', 'G23157'),\n",
       " ('NODE_0000123', 'NODE_0000149'),\n",
       " ('NODE_0000123', 'NODE_0000127'),\n",
       " ('NODE_0000131', 'G23075'),\n",
       " ('NODE_0000131', 'G22914'),\n",
       " ('NODE_0000132', 'NODE_0000133'),\n",
       " ('NODE_0000132', 'NODE_0000137'),\n",
       " ('NODE_0000144', 'G23244'),\n",
       " ('NODE_0000144', 'NODE_0000146'),\n",
       " ('NODE_0000042', 'G22854'),\n",
       " ('NODE_0000042', 'G23542'),\n",
       " ('NODE_0000042', 'NODE_0000206'),\n",
       " ('NODE_0000149', 'G23047'),\n",
       " ('NODE_0000149', 'NODE_0000150'),\n",
       " ('NODE_0000127', 'G23524'),\n",
       " ('NODE_0000127', 'G22763'),\n",
       " ('NODE_0000127', 'NODE_0000152'),\n",
       " ('NODE_0000133', 'G23471'),\n",
       " ('NODE_0000133', 'NODE_0000034'),\n",
       " ('NODE_0000137', 'NODE_0000138'),\n",
       " ('NODE_0000137', 'NODE_0000139'),\n",
       " ('NODE_0000146', 'G23383'),\n",
       " ('NODE_0000146', 'G22712'),\n",
       " ('NODE_0000206', 'G23211'),\n",
       " ('NODE_0000206', 'G23571'),\n",
       " ('NODE_0000150', 'G23067'),\n",
       " ('NODE_0000150', 'G23032'),\n",
       " ('NODE_0000152', 'G23578'),\n",
       " ('NODE_0000152', 'G22837'),\n",
       " ('NODE_0000034', 'G23097'),\n",
       " ('NODE_0000034', 'G23147'),\n",
       " ('NODE_0000138', 'G22926'),\n",
       " ('NODE_0000138', 'G23142'),\n",
       " ('NODE_0000139', 'NODE_0000140'),\n",
       " ('NODE_0000139', 'NODE_0000141'),\n",
       " ('NODE_0000140', 'G23353'),\n",
       " ('NODE_0000140', 'G23499'),\n",
       " ('NODE_0000141', 'G23439'),\n",
       " ('NODE_0000141', 'G23631')]"
      ]
     },
     "execution_count": 357,
     "metadata": {},
     "output_type": "execute_result"
    }
   ],
   "source": [
    "momkid"
   ]
  },
  {
   "cell_type": "code",
   "execution_count": 359,
   "id": "66ba22e9-e052-4ff3-807f-944ba6ca8e3d",
   "metadata": {},
   "outputs": [],
   "source": [
    "myTree = bt.loadNewick(nwkpath)"
   ]
  },
  {
   "cell_type": "code",
   "execution_count": 363,
   "id": "2d6bc448-f91e-4bdf-b35f-c98ab1d4bb31",
   "metadata": {},
   "outputs": [
    {
     "name": "stdout",
     "output_type": "stream",
     "text": [
      "\n",
      "Tree height: 0.126479\n",
      "Tree length: 4.080466\n",
      "annotations present\n",
      "\n",
      "Numbers of objects in tree: 317 (143 nodes and 174 leaves)\n",
      "\n"
     ]
    }
   ],
   "source": [
    "myTree, myMeta = bt.loadJSON(genpath)"
   ]
  },
  {
   "cell_type": "code",
   "execution_count": 365,
   "id": "0cb60973-57d2-400d-9e59-6581eeb40ae0",
   "metadata": {},
   "outputs": [
    {
     "data": {
      "text/plain": [
       "\u001b[0;31mType:\u001b[0m        module\n",
       "\u001b[0;31mString form:\u001b[0m <module 'baltic' from '/opt/anaconda3/lib/python3.8/site-packages/baltic/__init__.py'>\n",
       "\u001b[0;31mFile:\u001b[0m        /opt/anaconda3/lib/python3.8/site-packages/baltic/__init__.py\n",
       "\u001b[0;31mDocstring:\u001b[0m   <no docstring>\n"
      ]
     },
     "metadata": {},
     "output_type": "display_data"
    }
   ],
   "source": []
  },
  {
   "cell_type": "code",
   "execution_count": 260,
   "id": "459e9812-8c2d-4247-a06c-0c9c62f3b8db",
   "metadata": {},
   "outputs": [],
   "source": [
    "genpath = '/Users/naarankin/research/CZB/sampling_bias/genomic_sampling/auspice/genseq00.json'\n",
    "nwkpath = '/Users/naarankin/research/CZB/sampling_bias/genomic_sampling/ground/results/tree.nwk'"
   ]
  },
  {
   "cell_type": "code",
   "execution_count": 235,
   "id": "8c8aca8d-ef89-41c5-9baa-906f84fe355c",
   "metadata": {},
   "outputs": [],
   "source": [
    "f = open(genpath,)\n",
    "data = json.load(f)\n",
    "\n"
   ]
  },
  {
   "cell_type": "code",
   "execution_count": null,
   "id": "8aa406e0-15d6-4c0e-aa8e-9fd278de8816",
   "metadata": {},
   "outputs": [],
   "source": [
    "# Extract tree edges from the dict\n",
    "edges = []\n",
    "\n",
    "\n",
    "get_edges(data)\n",
    "\n",
    "# Dump edge list in Graphviz DOT format\n",
    "print('strict digraph tree {')\n",
    "for row in edges:\n",
    "    print('    {0} -> {1};'.format(*row))\n",
    "print('}')"
   ]
  },
  {
   "cell_type": "code",
   "execution_count": 282,
   "id": "71120d0b-587a-4e0d-abc1-010d7c8e08d7",
   "metadata": {},
   "outputs": [
    {
     "data": {
      "image/png": "[encoded data removed]",
      "text/plain": [
       "<Figure size 432x288 with 1 Axes>"
      ]
     },
     "metadata": {
      "needs_background": "light"
     },
     "output_type": "display_data"
    }
   ],
   "source": [
    "trex = Phylo.read(nwkpath, \"newick\")\n",
    "Phylo.draw(trex)"
   ]
  },
  {
   "cell_type": "code",
   "execution_count": null,
   "id": "edac8bcf-7c63-4d0b-9541-611bc6060cb6",
   "metadata": {},
   "outputs": [],
   "source": [
    "trees = Phylo.parse(nwkpath, 'newick')\n",
    "for tree in trees:\n",
    "    print(tree)\n"
   ]
  },
  {
   "cell_type": "code",
   "execution_count": 323,
   "id": "dee95a88-a1e8-4cb1-a191-416e7979dddb",
   "metadata": {},
   "outputs": [],
   "source": [
    "clade, matr = to_adjacency_matrix(tree)"
   ]
  },
  {
   "cell_type": "code",
   "execution_count": null,
   "id": "d41c251e-f568-487f-b32d-817a9540af2d",
   "metadata": {},
   "outputs": [],
   "source": []
  },
  {
   "cell_type": "code",
   "execution_count": 324,
   "id": "16779cb1-75b4-4abe-a5b4-2e6f298a0b61",
   "metadata": {},
   "outputs": [
    {
     "data": {
      "text/plain": [
       "(173, 11)"
      ]
     },
     "execution_count": 324,
     "metadata": {},
     "output_type": "execute_result"
    }
   ],
   "source": [
    "gnm.shape"
   ]
  },
  {
   "cell_type": "code",
   "execution_count": null,
   "id": "dccfe0d8-3ab7-4067-b602-61239049805c",
   "metadata": {},
   "outputs": [],
   "source": [
    "for item in clade:\n",
    "    print(item, '\\t')"
   ]
  },
  {
   "cell_type": "code",
   "execution_count": 326,
   "id": "74221dce-d9d3-4caf-9c83-83641278db89",
   "metadata": {},
   "outputs": [
    {
     "data": {
      "image/png": "[encoded data removed]",
      "text/plain": [
       "<Figure size 432x288 with 1 Axes>"
      ]
     },
     "metadata": {
      "needs_background": "light"
     },
     "output_type": "display_data"
    }
   ],
   "source": [
    "plt.imshow(matr, cmap='hot', interpolation='nearest')\n",
    "plt.show()"
   ]
  },
  {
   "cell_type": "markdown",
   "id": "083cc1d0-cbac-4555-8114-07a4f4b4ba57",
   "metadata": {},
   "source": []
  },
  {
   "cell_type": "code",
   "execution_count": null,
   "id": "1b1cbdbd-ced2-4763-9e00-d89ee6ff501e",
   "metadata": {},
   "outputs": [],
   "source": []
  }
 ],
 "metadata": {
  "kernelspec": {
   "display_name": "Python 3",
   "language": "python",
   "name": "python3"
  },
  "language_info": {
   "codemirror_mode": {
    "name": "ipython",
    "version": 3
   },
   "file_extension": ".py",
   "mimetype": "text/x-python",
   "name": "python",
   "nbconvert_exporter": "python",
   "pygments_lexer": "ipython3",
   "version": "3.8.8"
  }
 },
 "nbformat": 4,
 "nbformat_minor": 5
}
