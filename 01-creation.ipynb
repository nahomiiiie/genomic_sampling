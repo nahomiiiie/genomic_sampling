{
 "cells": [
  {
   "cell_type": "markdown",
   "id": "ff2c7c8b-348b-466a-b6ca-a7a199d7b9c5",
   "metadata": {},
   "source": [
    "# 01-Creation\n",
    "\n",
    "Things to do:\n",
    "1. Initialize root case\n",
    "    1. take in FASTA file from directory\n",
    "    2. save FASTA sequence as array of characters\n",
    "    3. intitialize community, date\n",
    "2. Create descendent communities\n",
    "    1. Set number of people in each communitiy\n",
    "    2. look at SIR rates  - when infected \n",
    "        1. infecting x in A - Poisson\n",
    "        2. infection x in B - Poisson\n",
    "        3. recovering and leaving R - Gaussian? IDK\n",
    "        4. select person from each community randomly based on rate\n",
    "    3. At infection, look at mutation formula and pass onto reciever\n",
    "    \n",
    "TODO:\n",
    " *  figure out community size x data structure - prob dictionary\n",
    " *  how to pick community?\n",
    " *  function to actually mutate sequence\n",
    "    "
   ]
  },
  {
   "cell_type": "markdown",
   "id": "5e5eabf0-2e89-4ce0-ac2c-baa23cf10363",
   "metadata": {},
   "source": [
    "# 0. Setup"
   ]
  },
  {
   "cell_type": "code",
   "execution_count": 2,
   "id": "076e7487-bfc2-46c8-82d6-a6f3efa112b8",
   "metadata": {},
   "outputs": [],
   "source": [
    "import numpy as np\n",
    "import scipy.stats as stats\n",
    "import scipy.special as ssp\n",
    "import matplotlib as plt\n",
    "import pandas as pd\n",
    "import random\n",
    "import datetime\n",
    "\n",
    "from Bio import SeqIO\n"
   ]
  },
  {
   "cell_type": "code",
   "execution_count": 70,
   "id": "0d99b127-4c48-456e-b1a6-c44eee9828cd",
   "metadata": {},
   "outputs": [
    {
     "data": {
      "text/plain": [
       "32"
      ]
     },
     "execution_count": 70,
     "metadata": {},
     "output_type": "execute_result"
    }
   ],
   "source": [
    "np.random.binomial(99,.25)"
   ]
  },
  {
   "cell_type": "code",
   "execution_count": 4,
   "id": "dc2f1d99-474d-4f74-9fa7-8ee7b1cc31a2",
   "metadata": {},
   "outputs": [],
   "source": [
    "base = SeqIO.to_dict(SeqIO.parse('data/reference.fasta', 'fasta'))\n",
    "ref= base['base_case']\n",
    "refseq = np.array(ref)"
   ]
  },
  {
   "cell_type": "code",
   "execution_count": 5,
   "id": "b25dac09-5105-4d28-94c4-73de1f3942b8",
   "metadata": {},
   "outputs": [],
   "source": [
    "#determine infection rates for \n",
    "    #inter group\n",
    "    # across group\n",
    "#recovery"
   ]
  },
  {
   "cell_type": "code",
   "execution_count": 92,
   "id": "f71c1f73-94f9-49f3-93bd-0be094640424",
   "metadata": {},
   "outputs": [
    {
     "data": {
      "text/plain": [
       "0"
      ]
     },
     "execution_count": 92,
     "metadata": {},
     "output_type": "execute_result"
    }
   ],
   "source": [
    "np.random.poisson(.419)"
   ]
  },
  {
   "cell_type": "code",
   "execution_count": 93,
   "id": "35548fa1-79e4-48b8-bd54-8bc2a3ccc308",
   "metadata": {},
   "outputs": [],
   "source": [
    "from functions import agent_mut_num"
   ]
  },
  {
   "cell_type": "markdown",
   "id": "200f5617-d7be-4ea2-a3b6-b4a0100c5508",
   "metadata": {},
   "source": [
    "# 1. Initializing Cases/Agents"
   ]
  },
  {
   "cell_type": "markdown",
   "id": "4361a254-eef0-4677-be43-70147895226a",
   "metadata": {},
   "source": [
    "### 1.1 Community Stat\n",
    "    start initalize all communities and starting state of susceptible"
   ]
  },
  {
   "cell_type": "code",
   "execution_count": 94,
   "id": "c45814ed-6d83-491e-b420-5218b162509a",
   "metadata": {},
   "outputs": [],
   "source": [
    "char = ['accession','community','state','infection_date','index_ID','descendants']\n",
    "agents = pd.DataFrame(columns=char, index=range(100))"
   ]
  },
  {
   "cell_type": "code",
   "execution_count": 64,
   "id": "0303740d-d043-4b7e-8260-1ad3d44770b7",
   "metadata": {},
   "outputs": [],
   "source": [
    "agents['state'] = 'S' \n",
    "    #initiialize all as Susceptible\n",
    "agents['community'] = np.random.binomial(1,0.5,100) \n",
    "    #random 50/50 to be in community A vs B. multinomial if more communitis\n",
    "agents['community'] = [ chr(x+65) for x in agents.community]\n",
    "    #convert numerical binomial to char.\n",
    "    \n",
    "#don't need to save sequence here, save to dict w key as accession"
   ]
  },
  {
   "cell_type": "code",
   "execution_count": 65,
   "id": "0d89c811-04ee-488a-95ef-b36711149a78",
   "metadata": {},
   "outputs": [
    {
     "data": {
      "text/html": [
       "<div>\n",
       "<style scoped>\n",
       "    .dataframe tbody tr th:only-of-type {\n",
       "        vertical-align: middle;\n",
       "    }\n",
       "\n",
       "    .dataframe tbody tr th {\n",
       "        vertical-align: top;\n",
       "    }\n",
       "\n",
       "    .dataframe thead th {\n",
       "        text-align: right;\n",
       "    }\n",
       "</style>\n",
       "<table border=\"1\" class=\"dataframe\">\n",
       "  <thead>\n",
       "    <tr style=\"text-align: right;\">\n",
       "      <th></th>\n",
       "      <th>accession</th>\n",
       "      <th>community</th>\n",
       "      <th>state</th>\n",
       "      <th>infection_date</th>\n",
       "      <th>index_ID</th>\n",
       "      <th>descendants</th>\n",
       "    </tr>\n",
       "  </thead>\n",
       "  <tbody>\n",
       "    <tr>\n",
       "      <th>0</th>\n",
       "      <td>NaN</td>\n",
       "      <td>A</td>\n",
       "      <td>S</td>\n",
       "      <td>NaN</td>\n",
       "      <td>NaN</td>\n",
       "      <td>NaN</td>\n",
       "    </tr>\n",
       "    <tr>\n",
       "      <th>1</th>\n",
       "      <td>NaN</td>\n",
       "      <td>B</td>\n",
       "      <td>S</td>\n",
       "      <td>NaN</td>\n",
       "      <td>NaN</td>\n",
       "      <td>NaN</td>\n",
       "    </tr>\n",
       "    <tr>\n",
       "      <th>2</th>\n",
       "      <td>NaN</td>\n",
       "      <td>A</td>\n",
       "      <td>S</td>\n",
       "      <td>NaN</td>\n",
       "      <td>NaN</td>\n",
       "      <td>NaN</td>\n",
       "    </tr>\n",
       "    <tr>\n",
       "      <th>3</th>\n",
       "      <td>NaN</td>\n",
       "      <td>B</td>\n",
       "      <td>S</td>\n",
       "      <td>NaN</td>\n",
       "      <td>NaN</td>\n",
       "      <td>NaN</td>\n",
       "    </tr>\n",
       "    <tr>\n",
       "      <th>4</th>\n",
       "      <td>NaN</td>\n",
       "      <td>A</td>\n",
       "      <td>S</td>\n",
       "      <td>NaN</td>\n",
       "      <td>NaN</td>\n",
       "      <td>NaN</td>\n",
       "    </tr>\n",
       "    <tr>\n",
       "      <th>...</th>\n",
       "      <td>...</td>\n",
       "      <td>...</td>\n",
       "      <td>...</td>\n",
       "      <td>...</td>\n",
       "      <td>...</td>\n",
       "      <td>...</td>\n",
       "    </tr>\n",
       "    <tr>\n",
       "      <th>95</th>\n",
       "      <td>NaN</td>\n",
       "      <td>A</td>\n",
       "      <td>S</td>\n",
       "      <td>NaN</td>\n",
       "      <td>NaN</td>\n",
       "      <td>NaN</td>\n",
       "    </tr>\n",
       "    <tr>\n",
       "      <th>96</th>\n",
       "      <td>NaN</td>\n",
       "      <td>B</td>\n",
       "      <td>S</td>\n",
       "      <td>NaN</td>\n",
       "      <td>NaN</td>\n",
       "      <td>NaN</td>\n",
       "    </tr>\n",
       "    <tr>\n",
       "      <th>97</th>\n",
       "      <td>NaN</td>\n",
       "      <td>A</td>\n",
       "      <td>S</td>\n",
       "      <td>NaN</td>\n",
       "      <td>NaN</td>\n",
       "      <td>NaN</td>\n",
       "    </tr>\n",
       "    <tr>\n",
       "      <th>98</th>\n",
       "      <td>NaN</td>\n",
       "      <td>A</td>\n",
       "      <td>S</td>\n",
       "      <td>NaN</td>\n",
       "      <td>NaN</td>\n",
       "      <td>NaN</td>\n",
       "    </tr>\n",
       "    <tr>\n",
       "      <th>99</th>\n",
       "      <td>NaN</td>\n",
       "      <td>B</td>\n",
       "      <td>S</td>\n",
       "      <td>NaN</td>\n",
       "      <td>NaN</td>\n",
       "      <td>NaN</td>\n",
       "    </tr>\n",
       "  </tbody>\n",
       "</table>\n",
       "<p>100 rows × 6 columns</p>\n",
       "</div>"
      ],
      "text/plain": [
       "   accession community state infection_date index_ID descendants\n",
       "0        NaN         A     S            NaN      NaN         NaN\n",
       "1        NaN         B     S            NaN      NaN         NaN\n",
       "2        NaN         A     S            NaN      NaN         NaN\n",
       "3        NaN         B     S            NaN      NaN         NaN\n",
       "4        NaN         A     S            NaN      NaN         NaN\n",
       "..       ...       ...   ...            ...      ...         ...\n",
       "95       NaN         A     S            NaN      NaN         NaN\n",
       "96       NaN         B     S            NaN      NaN         NaN\n",
       "97       NaN         A     S            NaN      NaN         NaN\n",
       "98       NaN         A     S            NaN      NaN         NaN\n",
       "99       NaN         B     S            NaN      NaN         NaN\n",
       "\n",
       "[100 rows x 6 columns]"
      ]
     },
     "execution_count": 65,
     "metadata": {},
     "output_type": "execute_result"
    }
   ],
   "source": [
    "agents"
   ]
  },
  {
   "cell_type": "code",
   "execution_count": 66,
   "id": "2b0f05ad-449f-484f-9ed3-ece975a7fcef",
   "metadata": {},
   "outputs": [],
   "source": [
    "allseq = {}"
   ]
  },
  {
   "cell_type": "markdown",
   "id": "7ef27ba3-35a6-4853-a79f-03082f083d6a",
   "metadata": {},
   "source": [
    "### 1.2 Initial I"
   ]
  },
  {
   "cell_type": "code",
   "execution_count": 67,
   "id": "4473c179-4c68-4f31-8d48-185326b14cec",
   "metadata": {},
   "outputs": [
    {
     "data": {
      "text/html": [
       "<div>\n",
       "<style scoped>\n",
       "    .dataframe tbody tr th:only-of-type {\n",
       "        vertical-align: middle;\n",
       "    }\n",
       "\n",
       "    .dataframe tbody tr th {\n",
       "        vertical-align: top;\n",
       "    }\n",
       "\n",
       "    .dataframe thead th {\n",
       "        text-align: right;\n",
       "    }\n",
       "</style>\n",
       "<table border=\"1\" class=\"dataframe\">\n",
       "  <thead>\n",
       "    <tr style=\"text-align: right;\">\n",
       "      <th></th>\n",
       "      <th>accession</th>\n",
       "      <th>community</th>\n",
       "      <th>state</th>\n",
       "      <th>infection_date</th>\n",
       "      <th>index_ID</th>\n",
       "      <th>descendants</th>\n",
       "    </tr>\n",
       "  </thead>\n",
       "  <tbody>\n",
       "    <tr>\n",
       "      <th>0</th>\n",
       "      <td>1234</td>\n",
       "      <td>A</td>\n",
       "      <td>I</td>\n",
       "      <td>2020-03-01</td>\n",
       "      <td>NaN</td>\n",
       "      <td>NaN</td>\n",
       "    </tr>\n",
       "    <tr>\n",
       "      <th>1</th>\n",
       "      <td>NaN</td>\n",
       "      <td>B</td>\n",
       "      <td>S</td>\n",
       "      <td>NaN</td>\n",
       "      <td>NaN</td>\n",
       "      <td>NaN</td>\n",
       "    </tr>\n",
       "    <tr>\n",
       "      <th>2</th>\n",
       "      <td>NaN</td>\n",
       "      <td>A</td>\n",
       "      <td>S</td>\n",
       "      <td>NaN</td>\n",
       "      <td>NaN</td>\n",
       "      <td>NaN</td>\n",
       "    </tr>\n",
       "    <tr>\n",
       "      <th>3</th>\n",
       "      <td>NaN</td>\n",
       "      <td>B</td>\n",
       "      <td>S</td>\n",
       "      <td>NaN</td>\n",
       "      <td>NaN</td>\n",
       "      <td>NaN</td>\n",
       "    </tr>\n",
       "    <tr>\n",
       "      <th>4</th>\n",
       "      <td>NaN</td>\n",
       "      <td>A</td>\n",
       "      <td>S</td>\n",
       "      <td>NaN</td>\n",
       "      <td>NaN</td>\n",
       "      <td>NaN</td>\n",
       "    </tr>\n",
       "    <tr>\n",
       "      <th>...</th>\n",
       "      <td>...</td>\n",
       "      <td>...</td>\n",
       "      <td>...</td>\n",
       "      <td>...</td>\n",
       "      <td>...</td>\n",
       "      <td>...</td>\n",
       "    </tr>\n",
       "    <tr>\n",
       "      <th>95</th>\n",
       "      <td>NaN</td>\n",
       "      <td>A</td>\n",
       "      <td>S</td>\n",
       "      <td>NaN</td>\n",
       "      <td>NaN</td>\n",
       "      <td>NaN</td>\n",
       "    </tr>\n",
       "    <tr>\n",
       "      <th>96</th>\n",
       "      <td>NaN</td>\n",
       "      <td>B</td>\n",
       "      <td>S</td>\n",
       "      <td>NaN</td>\n",
       "      <td>NaN</td>\n",
       "      <td>NaN</td>\n",
       "    </tr>\n",
       "    <tr>\n",
       "      <th>97</th>\n",
       "      <td>NaN</td>\n",
       "      <td>A</td>\n",
       "      <td>S</td>\n",
       "      <td>NaN</td>\n",
       "      <td>NaN</td>\n",
       "      <td>NaN</td>\n",
       "    </tr>\n",
       "    <tr>\n",
       "      <th>98</th>\n",
       "      <td>NaN</td>\n",
       "      <td>A</td>\n",
       "      <td>S</td>\n",
       "      <td>NaN</td>\n",
       "      <td>NaN</td>\n",
       "      <td>NaN</td>\n",
       "    </tr>\n",
       "    <tr>\n",
       "      <th>99</th>\n",
       "      <td>NaN</td>\n",
       "      <td>B</td>\n",
       "      <td>S</td>\n",
       "      <td>NaN</td>\n",
       "      <td>NaN</td>\n",
       "      <td>NaN</td>\n",
       "    </tr>\n",
       "  </tbody>\n",
       "</table>\n",
       "<p>100 rows × 6 columns</p>\n",
       "</div>"
      ],
      "text/plain": [
       "   accession community state infection_date index_ID descendants\n",
       "0       1234         A     I     2020-03-01      NaN         NaN\n",
       "1        NaN         B     S            NaN      NaN         NaN\n",
       "2        NaN         A     S            NaN      NaN         NaN\n",
       "3        NaN         B     S            NaN      NaN         NaN\n",
       "4        NaN         A     S            NaN      NaN         NaN\n",
       "..       ...       ...   ...            ...      ...         ...\n",
       "95       NaN         A     S            NaN      NaN         NaN\n",
       "96       NaN         B     S            NaN      NaN         NaN\n",
       "97       NaN         A     S            NaN      NaN         NaN\n",
       "98       NaN         A     S            NaN      NaN         NaN\n",
       "99       NaN         B     S            NaN      NaN         NaN\n",
       "\n",
       "[100 rows x 6 columns]"
      ]
     },
     "execution_count": 67,
     "metadata": {},
     "output_type": "execute_result"
    }
   ],
   "source": [
    "agents.at[0, 'accession'] = int(1234)\n",
    "agents.at[0, 'state'] = 'I'\n",
    "agents.at[0, 'infection_date'] = datetime.date.fromisoformat('2020-03-01')\n",
    "allseq[agents.iloc[0].accession] = refseq \n",
    "agents"
   ]
  },
  {
   "cell_type": "code",
   "execution_count": 171,
   "id": "a8d964bb-5cfa-4289-9326-b62b6389bc99",
   "metadata": {},
   "outputs": [
    {
     "data": {
      "text/plain": [
       "dict_keys([1234])"
      ]
     },
     "execution_count": 171,
     "metadata": {},
     "output_type": "execute_result"
    }
   ],
   "source": [
    "allseq.keys()"
   ]
  },
  {
   "cell_type": "code",
   "execution_count": 128,
   "id": "500dec4b-447b-407f-8dd2-265daf6724b8",
   "metadata": {},
   "outputs": [
    {
     "data": {
      "text/plain": [
       "\u001b[0;31mType:\u001b[0m        module\n",
       "\u001b[0;31mString form:\u001b[0m <module 'random' from '/opt/anaconda3/lib/python3.8/random.py'>\n",
       "\u001b[0;31mFile:\u001b[0m        /opt/anaconda3/lib/python3.8/random.py\n",
       "\u001b[0;31mDocstring:\u001b[0m  \n",
       "Random variable generators.\n",
       "\n",
       "    integers\n",
       "    --------\n",
       "           uniform within range\n",
       "\n",
       "    sequences\n",
       "    ---------\n",
       "           pick random element\n",
       "           pick random sample\n",
       "           pick weighted random sample\n",
       "           generate random permutation\n",
       "\n",
       "    distributions on the real line:\n",
       "    ------------------------------\n",
       "           uniform\n",
       "           triangular\n",
       "           normal (Gaussian)\n",
       "           lognormal\n",
       "           negative exponential\n",
       "           gamma\n",
       "           beta\n",
       "           pareto\n",
       "           Weibull\n",
       "\n",
       "    distributions on the circle (angles 0 to 2pi)\n",
       "    ---------------------------------------------\n",
       "           circular uniform\n",
       "           von Mises\n",
       "\n",
       "General notes on the underlying Mersenne Twister core generator:\n",
       "\n",
       "* The period is 2**19937-1.\n",
       "* It is one of the most extensively tested generators in existence.\n",
       "* The random() method is implemented in C, executes in a single Python step,\n",
       "  and is, therefore, threadsafe.\n"
      ]
     },
     "metadata": {},
     "output_type": "display_data"
    }
   ],
   "source": [
    "random?"
   ]
  },
  {
   "cell_type": "code",
   "execution_count": 207,
   "id": "eafa23f9-47ec-4724-90a8-309e0b606316",
   "metadata": {},
   "outputs": [
    {
     "data": {
      "text/plain": [
       "array([ 0,  2,  3,  4,  6,  7,  8,  9, 10, 11, 12, 13, 14, 16, 18, 19])"
      ]
     },
     "execution_count": 207,
     "metadata": {},
     "output_type": "execute_result"
    }
   ],
   "source": [
    "#mylist = np.arange(0,20)\n",
    "np.delete(mylist,random.choice(mylist))\n",
    "mylist = np.delete(mylist,random.choice(mylist))\n",
    "mylist"
   ]
  },
  {
   "cell_type": "code",
   "execution_count": null,
   "id": "cecfaa5f-362f-482c-ae47-fa21c16dd3eb",
   "metadata": {},
   "outputs": [],
   "source": []
  },
  {
   "cell_type": "code",
   "execution_count": null,
   "id": "d4c8468c-f825-4b73-8315-2c185ad02f6d",
   "metadata": {},
   "outputs": [],
   "source": []
  }
 ],
 "metadata": {
  "kernelspec": {
   "display_name": "Python 3",
   "language": "python",
   "name": "python3"
  },
  "language_info": {
   "codemirror_mode": {
    "name": "ipython",
    "version": 3
   },
   "file_extension": ".py",
   "mimetype": "text/x-python",
   "name": "python",
   "nbconvert_exporter": "python",
   "pygments_lexer": "ipython3",
   "version": "3.8.8"
  }
 },
 "nbformat": 4,
 "nbformat_minor": 5
}
