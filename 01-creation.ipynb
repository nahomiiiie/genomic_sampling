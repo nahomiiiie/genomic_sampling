{
 "cells": [
  {
   "cell_type": "markdown",
   "id": "ff2c7c8b-348b-466a-b6ca-a7a199d7b9c5",
   "metadata": {},
   "source": [
    "# 01-Creation\n",
    "\n",
    "Things to do:\n",
    "1. Initialize root case\n",
    "    1. take in FASTA file from directory\n",
    "    2. save FASTA sequence as array of characters\n",
    "    3. intitialize community, date\n",
    "2. Create descendent communities\n",
    "    1. Set number of people in each communitiy\n",
    "    2. look at SIR rates  - when infected \n",
    "        1. infecting x in A - Poisson\n",
    "        2. infection x in B - Poisson\n",
    "        3. recovering and leaving R - Gaussian? IDK\n",
    "        4. select person from each community randomly based on rate\n",
    "    3. At infection, look at mutation formula and pass onto reciever\n",
    "    \n",
    "TODO:\n",
    " *  figure out community size x data structure - prob dictionary\n",
    " *  how to pick community?\n",
    " *  function to actually mutate sequence\n",
    "    "
   ]
  },
  {
   "cell_type": "markdown",
   "id": "5e5eabf0-2e89-4ce0-ac2c-baa23cf10363",
   "metadata": {},
   "source": [
    "# 0. Setup"
   ]
  },
  {
   "cell_type": "code",
   "execution_count": 1,
   "id": "076e7487-bfc2-46c8-82d6-a6f3efa112b8",
   "metadata": {},
   "outputs": [],
   "source": [
    "import numpy as np\n",
    "import scipy.stats as stats\n",
    "import scipy.special as ssp\n",
    "import matplotlib.pyplot as plt\n",
    "import pandas as pd\n",
    "import random\n",
    "import datetime\n",
    "import seaborn as sns\n",
    "\n",
    "from Bio import SeqIO\n"
   ]
  },
  {
   "cell_type": "code",
   "execution_count": 2,
   "id": "0d99b127-4c48-456e-b1a6-c44eee9828cd",
   "metadata": {},
   "outputs": [
    {
     "data": {
      "text/plain": [
       "30"
      ]
     },
     "execution_count": 2,
     "metadata": {},
     "output_type": "execute_result"
    }
   ],
   "source": [
    "np.random.binomial(99,.25)"
   ]
  },
  {
   "cell_type": "markdown",
   "id": "9b681241-d681-46e5-84fa-7289f37d8b4d",
   "metadata": {},
   "source": [
    "## 0.1 Functions"
   ]
  },
  {
   "cell_type": "code",
   "execution_count": 3,
   "id": "43101e42-a59e-41d8-b170-172458f1a626",
   "metadata": {},
   "outputs": [],
   "source": [
    "#from functions import num_infected\n",
    "def num_infected(rate, Sus_I):\n",
    "#inner beta, intra beta, arrays of indices for inside and outside group\n",
    "#returns: arrays of index numbers for those selected\n",
    "    I_inf = []\n",
    "\n",
    "    \n",
    "    num_in = int(np.random.poisson(rate))\n",
    "    #print('num in: ' + str(num_in))\n",
    "    #print('num out: ' + str(num_out))\n",
    "    \n",
    "    for i in range(num_in):\n",
    "        if len(Sus_I) == 0:\n",
    "            break\n",
    "        I_inf.append(random.choice(Sus_I))\n",
    "    return I_inf\n",
    "                     \n"
   ]
  },
  {
   "cell_type": "code",
   "execution_count": 25,
   "id": "7d233afc-cb9d-425a-a3fd-ab41a62a28ea",
   "metadata": {},
   "outputs": [],
   "source": [
    "#==============================================================================\n",
    "# mutation https://www.nature.com/articles/s41467-020-19818-2 - clock rate\n",
    "#==============================================================================\n",
    "\n",
    "def agent_mut_num(rate=0.419):\n",
    "#adds mutationfor every 3 transmissions\n",
    "#returns: number of mutations\n",
    "    mymut = np.random.poisson(rate)\n",
    "    return mymut\n",
    "\n",
    "\n",
    "def spot_mutation(num, seq):\n",
    "#one mutation for every 2-3 transmissions\n",
    "#returns: new sequence\n",
    "    swap = random.sample(range(len(seq)), num)\n",
    "    seq1=seq.copy()\n",
    "    for i in swap:\n",
    "        conversion = ['A', 'C', 'T', 'G']\n",
    "        spot = seq1[i]\n",
    "        conversion.remove(spot)\n",
    "        seq1[i] = random.choice(conversion)\n",
    "    return seq1"
   ]
  },
  {
   "cell_type": "code",
   "execution_count": 5,
   "id": "120ee173-b39d-4e04-b828-f4162466a326",
   "metadata": {},
   "outputs": [],
   "source": [
    "def spot_mutation_int(num, seq):\n",
    "#one mutation for every 2-3 transmissions\n",
    "#returns: new sequence\n",
    "    swap = random.sample(range(len(seq)), num)\n",
    "    seq1=seq.copy()\n",
    "    for i in swap:\n",
    "        print(i)\n",
    "        conversion = [0, 1, 2, 3]\n",
    "        spot = seq1[i]\n",
    "        conversion.remove(spot)\n",
    "        seq1[i] = random.choice(conversion)\n",
    "    return seq1"
   ]
  },
  {
   "cell_type": "code",
   "execution_count": 6,
   "id": "28aa59e9-d159-4aec-be29-4604a1e4b41f",
   "metadata": {},
   "outputs": [],
   "source": [
    "w = [1,1,1,2,2,3,0,0,0,0,3,2,1,3,3,3,1]\n",
    "v = w.copy()"
   ]
  },
  {
   "cell_type": "code",
   "execution_count": 7,
   "id": "5b225d14-8853-4db1-9551-e2e79b55eb96",
   "metadata": {},
   "outputs": [
    {
     "name": "stdout",
     "output_type": "stream",
     "text": [
      "7\n"
     ]
    },
    {
     "data": {
      "text/plain": [
       "False"
      ]
     },
     "execution_count": 7,
     "metadata": {},
     "output_type": "execute_result"
    }
   ],
   "source": [
    "v= spot_mutation_int(agent_mut_num(2),w)\n",
    "np.array_equal(v,w)"
   ]
  },
  {
   "cell_type": "code",
   "execution_count": 8,
   "id": "55d5840b-5fbe-4123-aceb-ad68cb944621",
   "metadata": {},
   "outputs": [
    {
     "data": {
      "text/plain": [
       "False"
      ]
     },
     "execution_count": 8,
     "metadata": {},
     "output_type": "execute_result"
    }
   ],
   "source": [
    "np.array_equal(v,w)"
   ]
  },
  {
   "cell_type": "code",
   "execution_count": 9,
   "id": "cbdfa6fd-aab4-4aa1-b424-fb0dad83c854",
   "metadata": {},
   "outputs": [
    {
     "data": {
      "text/plain": [
       "19"
      ]
     },
     "execution_count": 9,
     "metadata": {},
     "output_type": "execute_result"
    }
   ],
   "source": [
    "agent_mut_num(30)"
   ]
  },
  {
   "cell_type": "code",
   "execution_count": 10,
   "id": "edfba006-8840-4201-9c27-2ad7313689ab",
   "metadata": {},
   "outputs": [],
   "source": [
    "#==============================================================================\n",
    "# recovery \n",
    "#==============================================================================\n",
    "\n",
    "def recovery_odds(k=1,theta=10):\n",
    "#gamma functoin - time until next event\n",
    "                     #k is number of events (one)\n",
    "                     #theta is avg num days to infection (10)\n",
    "#returns: time in days until recovery. save and then check if infection day is higher than that\n",
    "    day = round(np.random.gamma(k, theta, 1)[0])\n",
    "    return day"
   ]
  },
  {
   "cell_type": "code",
   "execution_count": 11,
   "id": "dc2f1d99-474d-4f74-9fa7-8ee7b1cc31a2",
   "metadata": {},
   "outputs": [],
   "source": [
    "base = SeqIO.to_dict(SeqIO.parse('data/reference.fasta', 'fasta'))\n",
    "ref= base['base_case']\n",
    "refseq = np.array(ref)"
   ]
  },
  {
   "cell_type": "code",
   "execution_count": 12,
   "id": "cdc92241-3c4d-40f3-9280-84642cbf0853",
   "metadata": {},
   "outputs": [],
   "source": [
    "refseq2 = []\n",
    "dik={}\n",
    "dik['A'] = 0\n",
    "dik['C'] = 1\n",
    "dik['T'] = 2\n",
    "dik['G'] = 3\n",
    "for a in refseq:\n",
    "    refseq2.append(dik[a])"
   ]
  },
  {
   "cell_type": "code",
   "execution_count": 13,
   "id": "988cbca3-eb4c-4381-9db8-4ad8db5b3dcc",
   "metadata": {},
   "outputs": [],
   "source": [
    "refseq2 = np.array(refseq2).T"
   ]
  },
  {
   "cell_type": "markdown",
   "id": "e2d59cb0-f88d-41d3-9208-474e11af4631",
   "metadata": {},
   "source": [
    "## 0.2 Time Steps\n",
    "* chosing to run for 31 days\n",
    "* [equation](https://cse.cs.ucsb.edu/sites/default/files/publications/NewTau052.pdf)  for determining Tau: IGNORING ME - ASK IN GROUP MEETING"
   ]
  },
  {
   "cell_type": "code",
   "execution_count": 14,
   "id": "bfc012e5-b89d-4296-8ac1-447c0f077a0d",
   "metadata": {},
   "outputs": [],
   "source": [
    "times = np.arange(0,31)\n"
   ]
  },
  {
   "cell_type": "markdown",
   "id": "200f5617-d7be-4ea2-a3b6-b4a0100c5508",
   "metadata": {},
   "source": [
    "# 1. Initializing Cases/Agents"
   ]
  },
  {
   "cell_type": "code",
   "execution_count": 104,
   "id": "e7a1c678-5c54-4c80-9854-da96723f5f1e",
   "metadata": {},
   "outputs": [],
   "source": [
    "allseq = {}"
   ]
  },
  {
   "cell_type": "markdown",
   "id": "4361a254-eef0-4677-be43-70147895226a",
   "metadata": {},
   "source": [
    "### 1.1 Community Stat\n",
    "    start initalize all communities and starting state of susceptible"
   ]
  },
  {
   "cell_type": "code",
   "execution_count": 105,
   "id": "9113b17c-70cd-4c9d-a3a0-09e9e92105aa",
   "metadata": {},
   "outputs": [],
   "source": [
    "char = ['accession','community','state','infection_date','index_ID','descendants', 'recovery']\n",
    "agents = pd.DataFrame(columns=char, index=range(400))\n",
    "\n",
    "agents['state'] = 'S'\n",
    "    #initiialize all as Susceptible - 'S'\n",
    "agents['community'] = np.random.binomial(1,0.5,400) \n",
    "    #random 50/50 to be in community A vs B. multinomial if more communitis\n",
    "#agents['community'] = [ chr(x+65) for x in agents.community]\n",
    "    #convert numerical binomial to char. 0 - A, 1- B...///////////\n",
    "agents['descendants'] = [[]] * agents.shape[0]\n",
    "    \n",
    "#don't need to save sequence here, save to dict w key as accession"
   ]
  },
  {
   "cell_type": "markdown",
   "id": "7ef27ba3-35a6-4853-a79f-03082f083d6a",
   "metadata": {},
   "source": [
    "### 1.2 Initial I"
   ]
  },
  {
   "cell_type": "code",
   "execution_count": 108,
   "id": "4473c179-4c68-4f31-8d48-185326b14cec",
   "metadata": {},
   "outputs": [
    {
     "data": {
      "text/html": [
       "<div>\n",
       "<style scoped>\n",
       "    .dataframe tbody tr th:only-of-type {\n",
       "        vertical-align: middle;\n",
       "    }\n",
       "\n",
       "    .dataframe tbody tr th {\n",
       "        vertical-align: top;\n",
       "    }\n",
       "\n",
       "    .dataframe thead th {\n",
       "        text-align: right;\n",
       "    }\n",
       "</style>\n",
       "<table border=\"1\" class=\"dataframe\">\n",
       "  <thead>\n",
       "    <tr style=\"text-align: right;\">\n",
       "      <th></th>\n",
       "      <th>accession</th>\n",
       "      <th>community</th>\n",
       "      <th>state</th>\n",
       "      <th>infection_date</th>\n",
       "      <th>index_ID</th>\n",
       "      <th>descendants</th>\n",
       "      <th>recovery</th>\n",
       "    </tr>\n",
       "  </thead>\n",
       "  <tbody>\n",
       "    <tr>\n",
       "      <th>0</th>\n",
       "      <td>1000</td>\n",
       "      <td>0</td>\n",
       "      <td>I</td>\n",
       "      <td>2020-03-01</td>\n",
       "      <td>NaN</td>\n",
       "      <td>[]</td>\n",
       "      <td>2020-03-12</td>\n",
       "    </tr>\n",
       "    <tr>\n",
       "      <th>1</th>\n",
       "      <td>NaN</td>\n",
       "      <td>1</td>\n",
       "      <td>S</td>\n",
       "      <td>NaN</td>\n",
       "      <td>NaN</td>\n",
       "      <td>[]</td>\n",
       "      <td>NaN</td>\n",
       "    </tr>\n",
       "    <tr>\n",
       "      <th>2</th>\n",
       "      <td>NaN</td>\n",
       "      <td>0</td>\n",
       "      <td>S</td>\n",
       "      <td>NaN</td>\n",
       "      <td>NaN</td>\n",
       "      <td>[]</td>\n",
       "      <td>NaN</td>\n",
       "    </tr>\n",
       "    <tr>\n",
       "      <th>3</th>\n",
       "      <td>NaN</td>\n",
       "      <td>0</td>\n",
       "      <td>S</td>\n",
       "      <td>NaN</td>\n",
       "      <td>NaN</td>\n",
       "      <td>[]</td>\n",
       "      <td>NaN</td>\n",
       "    </tr>\n",
       "    <tr>\n",
       "      <th>4</th>\n",
       "      <td>NaN</td>\n",
       "      <td>0</td>\n",
       "      <td>S</td>\n",
       "      <td>NaN</td>\n",
       "      <td>NaN</td>\n",
       "      <td>[]</td>\n",
       "      <td>NaN</td>\n",
       "    </tr>\n",
       "    <tr>\n",
       "      <th>...</th>\n",
       "      <td>...</td>\n",
       "      <td>...</td>\n",
       "      <td>...</td>\n",
       "      <td>...</td>\n",
       "      <td>...</td>\n",
       "      <td>...</td>\n",
       "      <td>...</td>\n",
       "    </tr>\n",
       "    <tr>\n",
       "      <th>395</th>\n",
       "      <td>NaN</td>\n",
       "      <td>1</td>\n",
       "      <td>S</td>\n",
       "      <td>NaN</td>\n",
       "      <td>NaN</td>\n",
       "      <td>[]</td>\n",
       "      <td>NaN</td>\n",
       "    </tr>\n",
       "    <tr>\n",
       "      <th>396</th>\n",
       "      <td>NaN</td>\n",
       "      <td>0</td>\n",
       "      <td>S</td>\n",
       "      <td>NaN</td>\n",
       "      <td>NaN</td>\n",
       "      <td>[]</td>\n",
       "      <td>NaN</td>\n",
       "    </tr>\n",
       "    <tr>\n",
       "      <th>397</th>\n",
       "      <td>NaN</td>\n",
       "      <td>0</td>\n",
       "      <td>S</td>\n",
       "      <td>NaN</td>\n",
       "      <td>NaN</td>\n",
       "      <td>[]</td>\n",
       "      <td>NaN</td>\n",
       "    </tr>\n",
       "    <tr>\n",
       "      <th>398</th>\n",
       "      <td>NaN</td>\n",
       "      <td>0</td>\n",
       "      <td>S</td>\n",
       "      <td>NaN</td>\n",
       "      <td>NaN</td>\n",
       "      <td>[]</td>\n",
       "      <td>NaN</td>\n",
       "    </tr>\n",
       "    <tr>\n",
       "      <th>399</th>\n",
       "      <td>NaN</td>\n",
       "      <td>0</td>\n",
       "      <td>S</td>\n",
       "      <td>NaN</td>\n",
       "      <td>NaN</td>\n",
       "      <td>[]</td>\n",
       "      <td>NaN</td>\n",
       "    </tr>\n",
       "  </tbody>\n",
       "</table>\n",
       "<p>400 rows × 7 columns</p>\n",
       "</div>"
      ],
      "text/plain": [
       "    accession  community state infection_date index_ID descendants    recovery\n",
       "0        1000          0     I     2020-03-01      NaN          []  2020-03-12\n",
       "1         NaN          1     S            NaN      NaN          []         NaN\n",
       "2         NaN          0     S            NaN      NaN          []         NaN\n",
       "3         NaN          0     S            NaN      NaN          []         NaN\n",
       "4         NaN          0     S            NaN      NaN          []         NaN\n",
       "..        ...        ...   ...            ...      ...         ...         ...\n",
       "395       NaN          1     S            NaN      NaN          []         NaN\n",
       "396       NaN          0     S            NaN      NaN          []         NaN\n",
       "397       NaN          0     S            NaN      NaN          []         NaN\n",
       "398       NaN          0     S            NaN      NaN          []         NaN\n",
       "399       NaN          0     S            NaN      NaN          []         NaN\n",
       "\n",
       "[400 rows x 7 columns]"
      ]
     },
     "execution_count": 108,
     "metadata": {},
     "output_type": "execute_result"
    }
   ],
   "source": [
    "agents.at[0, 'accession'] = int(1000)\n",
    "agents.at[0, 'state'] = 'I'\n",
    "agents.at[0, 'infection_date'] = datetime.date.fromisoformat('2020-03-01')\n",
    "k =  round(np.random.exponential(10))\n",
    "agents.at[0,'recovery'] = datetime.date.fromisoformat('2020-03-01') + datetime.timedelta(days=k)\n",
    "allseq[1000] = refseq\n",
    "agents\n"
   ]
  },
  {
   "cell_type": "code",
   "execution_count": 109,
   "id": "3a0e22cc-56e9-4b6a-9872-e35dfec575ee",
   "metadata": {},
   "outputs": [
    {
     "data": {
      "text/plain": [
       "{1000: array(['A', 'T', 'T', ..., 'A', 'A', 'A'], dtype='<U1')}"
      ]
     },
     "execution_count": 109,
     "metadata": {},
     "output_type": "execute_result"
    }
   ],
   "source": [
    "allseq"
   ]
  },
  {
   "cell_type": "markdown",
   "id": "24eb7882-bff6-4dba-8b89-0ff3f5e749c1",
   "metadata": {},
   "source": [
    "### 1.3 Infection"
   ]
  },
  {
   "cell_type": "code",
   "execution_count": 110,
   "id": "8aeae647-13ce-404c-a492-56d122174f2b",
   "metadata": {},
   "outputs": [
    {
     "name": "stdout",
     "output_type": "stream",
     "text": [
      "today 0\n",
      "today 1\n",
      "today 2\n",
      "today 3\n",
      "today 4\n",
      "today 5\n",
      "today 6\n",
      "today 7\n",
      "today 8\n",
      "today 9\n",
      "today 10\n",
      "today 11\n",
      "today 12\n",
      "today 13\n",
      "today 14\n",
      "today 15\n",
      "today 16\n",
      "today 17\n",
      "today 18\n",
      "today 19\n",
      "today 20\n",
      "today 21\n",
      "today 22\n",
      "today 23\n",
      "today 24\n",
      "today 25\n",
      "today 26\n",
      "today 27\n",
      "today 28\n",
      "today 29\n",
      "today 30\n"
     ]
    }
   ],
   "source": [
    "for day in times:\n",
    "    step = int(day)\n",
    "    hoy = datetime.date.fromisoformat('2020-03-01') + datetime.timedelta(days=step)\n",
    "    sus = agents[agents.state==\"S\"]\n",
    "    inf = agents[agents.state==\"I\"]\n",
    "\n",
    "    for ii in inf.T:\n",
    "        #print(ii)\n",
    "        if agents.iloc[ii].recovery == hoy:\n",
    "            agents.at[ii, 'state'] = 'R'\n",
    "            break\n",
    "        com = agents.iloc[ii].community\n",
    "        ins = num_infected(0.3, sus[sus.community==com].index)\n",
    "        for i in ins:\n",
    "            ID =  random.randint(1,9999)\n",
    "            indID = agents.iloc[ii].accession\n",
    "            day_sick = round(np.random.exponential(10))\n",
    "            agents.at[i, 'accession'] = ID\n",
    "            agents.at[i, 'state'] = \"I\"\n",
    "            agents.at[i, 'infection_date'] = hoy\n",
    "            agents.at[i, 'index_ID'] = indID\n",
    "            agents.at[i, 'recovery'] = hoy + datetime.timedelta(days=day_sick)\n",
    "            #agents.at[ii, 'descendants'] = np.append(i) #this is logic is so wrong skskkssk fix\n",
    "            allseq[ID] = spot_mutation(agent_mut_num(day_sick*.081), allseq[indID])\n",
    "            #day_sick*.081\n",
    "            \n",
    "            \n",
    "        outs = num_infected(0.15, sus[sus.community!=com].index)\n",
    "        for o in outs:\n",
    "            ID =  random.randint(1,9999)\n",
    "            indID = agents.iloc[ii].accession\n",
    "            day_sick = round(np.random.exponential(10))\n",
    "            agents.at[o, 'accession'] = ID\n",
    "            agents.at[o, 'state'] = \"I\"\n",
    "            agents.at[o, 'infection_date'] = hoy\n",
    "            agents.at[o, 'index_ID'] = indID\n",
    "            agents.at[o, 'recovery'] = hoy + datetime.timedelta(days=day_sick)\n",
    "            #agents.at[ii, 'descendants'] = np.append(o) #this is logic is so wrong skskkssk fix\n",
    "            #day_sick*.081\n",
    "            allseq[ID] = spot_mutation(agent_mut_num(day_sick*.081), allseq[indID])\n",
    "        #print(ins)\n",
    "        #print(outs)\n",
    "    print(\"today \" + str(day))\n",
    "    \n",
    "    \n"
   ]
  },
  {
   "cell_type": "code",
   "execution_count": 111,
   "id": "253b4b8b-563e-40c1-97e4-48e53f715ce0",
   "metadata": {},
   "outputs": [],
   "source": [
    "strains = []\n",
    "i = 22670\n",
    "for a in agents.index:\n",
    "    strains.append(stra.format(num=i))\n",
    "    i+=1\n",
    "agents['strains']=strains\n",
    "agents['region'] = ['North America'] * len(agents.index)\n",
    "agents['country'] = ['USA'] * len(agents.index)"
   ]
  },
  {
   "cell_type": "code",
   "execution_count": null,
   "id": "254fbde1-82e8-4040-a874-4b504fb374ba",
   "metadata": {},
   "outputs": [],
   "source": []
  },
  {
   "cell_type": "markdown",
   "id": "65288196-3f7f-4f0d-9e7d-293925f51634",
   "metadata": {},
   "source": [
    "# 2. Summary Info"
   ]
  },
  {
   "cell_type": "code",
   "execution_count": 199,
   "id": "0061e697-afde-465c-b3a5-6e4812a8534e",
   "metadata": {},
   "outputs": [
    {
     "data": {
      "text/html": [
       "<div>\n",
       "<style scoped>\n",
       "    .dataframe tbody tr th:only-of-type {\n",
       "        vertical-align: middle;\n",
       "    }\n",
       "\n",
       "    .dataframe tbody tr th {\n",
       "        vertical-align: top;\n",
       "    }\n",
       "\n",
       "    .dataframe thead th {\n",
       "        text-align: right;\n",
       "    }\n",
       "</style>\n",
       "<table border=\"1\" class=\"dataframe\">\n",
       "  <thead>\n",
       "    <tr style=\"text-align: right;\">\n",
       "      <th></th>\n",
       "      <th>accession</th>\n",
       "      <th>community</th>\n",
       "      <th>state</th>\n",
       "      <th>infection_date</th>\n",
       "      <th>index_ID</th>\n",
       "      <th>descendants</th>\n",
       "      <th>recovery</th>\n",
       "      <th>strains</th>\n",
       "      <th>region</th>\n",
       "      <th>country</th>\n",
       "    </tr>\n",
       "  </thead>\n",
       "  <tbody>\n",
       "    <tr>\n",
       "      <th>0</th>\n",
       "      <td>1000</td>\n",
       "      <td>0</td>\n",
       "      <td>R</td>\n",
       "      <td>2020-03-01</td>\n",
       "      <td>NaN</td>\n",
       "      <td>[]</td>\n",
       "      <td>2020-03-12</td>\n",
       "      <td>G22670</td>\n",
       "      <td>North America</td>\n",
       "      <td>USA</td>\n",
       "    </tr>\n",
       "    <tr>\n",
       "      <th>1</th>\n",
       "      <td>NaN</td>\n",
       "      <td>1</td>\n",
       "      <td>S</td>\n",
       "      <td>NaN</td>\n",
       "      <td>NaN</td>\n",
       "      <td>[]</td>\n",
       "      <td>NaN</td>\n",
       "      <td>G22671</td>\n",
       "      <td>North America</td>\n",
       "      <td>USA</td>\n",
       "    </tr>\n",
       "    <tr>\n",
       "      <th>2</th>\n",
       "      <td>NaN</td>\n",
       "      <td>0</td>\n",
       "      <td>S</td>\n",
       "      <td>NaN</td>\n",
       "      <td>NaN</td>\n",
       "      <td>[]</td>\n",
       "      <td>NaN</td>\n",
       "      <td>G22672</td>\n",
       "      <td>North America</td>\n",
       "      <td>USA</td>\n",
       "    </tr>\n",
       "    <tr>\n",
       "      <th>3</th>\n",
       "      <td>5031</td>\n",
       "      <td>0</td>\n",
       "      <td>I</td>\n",
       "      <td>2020-03-26</td>\n",
       "      <td>4453</td>\n",
       "      <td>[]</td>\n",
       "      <td>2020-04-11</td>\n",
       "      <td>G22673</td>\n",
       "      <td>North America</td>\n",
       "      <td>USA</td>\n",
       "    </tr>\n",
       "    <tr>\n",
       "      <th>4</th>\n",
       "      <td>NaN</td>\n",
       "      <td>0</td>\n",
       "      <td>S</td>\n",
       "      <td>NaN</td>\n",
       "      <td>NaN</td>\n",
       "      <td>[]</td>\n",
       "      <td>NaN</td>\n",
       "      <td>G22674</td>\n",
       "      <td>North America</td>\n",
       "      <td>USA</td>\n",
       "    </tr>\n",
       "    <tr>\n",
       "      <th>...</th>\n",
       "      <td>...</td>\n",
       "      <td>...</td>\n",
       "      <td>...</td>\n",
       "      <td>...</td>\n",
       "      <td>...</td>\n",
       "      <td>...</td>\n",
       "      <td>...</td>\n",
       "      <td>...</td>\n",
       "      <td>...</td>\n",
       "      <td>...</td>\n",
       "    </tr>\n",
       "    <tr>\n",
       "      <th>395</th>\n",
       "      <td>NaN</td>\n",
       "      <td>1</td>\n",
       "      <td>S</td>\n",
       "      <td>NaN</td>\n",
       "      <td>NaN</td>\n",
       "      <td>[]</td>\n",
       "      <td>NaN</td>\n",
       "      <td>G23065</td>\n",
       "      <td>North America</td>\n",
       "      <td>USA</td>\n",
       "    </tr>\n",
       "    <tr>\n",
       "      <th>396</th>\n",
       "      <td>NaN</td>\n",
       "      <td>0</td>\n",
       "      <td>S</td>\n",
       "      <td>NaN</td>\n",
       "      <td>NaN</td>\n",
       "      <td>[]</td>\n",
       "      <td>NaN</td>\n",
       "      <td>G23066</td>\n",
       "      <td>North America</td>\n",
       "      <td>USA</td>\n",
       "    </tr>\n",
       "    <tr>\n",
       "      <th>397</th>\n",
       "      <td>NaN</td>\n",
       "      <td>0</td>\n",
       "      <td>S</td>\n",
       "      <td>NaN</td>\n",
       "      <td>NaN</td>\n",
       "      <td>[]</td>\n",
       "      <td>NaN</td>\n",
       "      <td>G23067</td>\n",
       "      <td>North America</td>\n",
       "      <td>USA</td>\n",
       "    </tr>\n",
       "    <tr>\n",
       "      <th>398</th>\n",
       "      <td>9866</td>\n",
       "      <td>0</td>\n",
       "      <td>I</td>\n",
       "      <td>2020-03-31</td>\n",
       "      <td>5031</td>\n",
       "      <td>[]</td>\n",
       "      <td>2020-04-06</td>\n",
       "      <td>G23068</td>\n",
       "      <td>North America</td>\n",
       "      <td>USA</td>\n",
       "    </tr>\n",
       "    <tr>\n",
       "      <th>399</th>\n",
       "      <td>NaN</td>\n",
       "      <td>0</td>\n",
       "      <td>S</td>\n",
       "      <td>NaN</td>\n",
       "      <td>NaN</td>\n",
       "      <td>[]</td>\n",
       "      <td>NaN</td>\n",
       "      <td>G23069</td>\n",
       "      <td>North America</td>\n",
       "      <td>USA</td>\n",
       "    </tr>\n",
       "  </tbody>\n",
       "</table>\n",
       "<p>400 rows × 10 columns</p>\n",
       "</div>"
      ],
      "text/plain": [
       "    accession  community state infection_date index_ID descendants  \\\n",
       "0        1000          0     R     2020-03-01      NaN          []   \n",
       "1         NaN          1     S            NaN      NaN          []   \n",
       "2         NaN          0     S            NaN      NaN          []   \n",
       "3        5031          0     I     2020-03-26     4453          []   \n",
       "4         NaN          0     S            NaN      NaN          []   \n",
       "..        ...        ...   ...            ...      ...         ...   \n",
       "395       NaN          1     S            NaN      NaN          []   \n",
       "396       NaN          0     S            NaN      NaN          []   \n",
       "397       NaN          0     S            NaN      NaN          []   \n",
       "398      9866          0     I     2020-03-31     5031          []   \n",
       "399       NaN          0     S            NaN      NaN          []   \n",
       "\n",
       "       recovery strains         region country  \n",
       "0    2020-03-12  G22670  North America     USA  \n",
       "1           NaN  G22671  North America     USA  \n",
       "2           NaN  G22672  North America     USA  \n",
       "3    2020-04-11  G22673  North America     USA  \n",
       "4           NaN  G22674  North America     USA  \n",
       "..          ...     ...            ...     ...  \n",
       "395         NaN  G23065  North America     USA  \n",
       "396         NaN  G23066  North America     USA  \n",
       "397         NaN  G23067  North America     USA  \n",
       "398  2020-04-06  G23068  North America     USA  \n",
       "399         NaN  G23069  North America     USA  \n",
       "\n",
       "[400 rows x 10 columns]"
      ]
     },
     "execution_count": 199,
     "metadata": {},
     "output_type": "execute_result"
    }
   ],
   "source": [
    "agents"
   ]
  },
  {
   "cell_type": "code",
   "execution_count": null,
   "id": "9e55d5d6-9788-404d-adfc-16e8a5ca7fe7",
   "metadata": {},
   "outputs": [],
   "source": []
  },
  {
   "cell_type": "code",
   "execution_count": 200,
   "id": "b5f34129-3d6a-47b7-ba5e-1dac83edc523",
   "metadata": {},
   "outputs": [
    {
     "data": {
      "image/png": "[encoded data removed]",
      "text/plain": [
       "<Figure size 432x288 with 1 Axes>"
      ]
     },
     "metadata": {
      "needs_background": "light"
     },
     "output_type": "display_data"
    }
   ],
   "source": [
    "agents.index_ID.plot.hist(bins=20, rwidth=0.9,\n",
    "                   color='#607c8e')\n",
    "plt.ylabel=('Frequency')\n",
    "plt.xlabel=('Infector')"
   ]
  },
  {
   "cell_type": "code",
   "execution_count": 201,
   "id": "73112a16-b958-43bc-838b-c10135ef8755",
   "metadata": {},
   "outputs": [],
   "source": [
    "tot=0\n",
    "for a in allseq:\n",
    "    for j in allseq:\n",
    "        if np.array_equal(allseq[a], allseq[j]):\n",
    "            tot+=1\n"
   ]
  },
  {
   "cell_type": "code",
   "execution_count": 202,
   "id": "e231c6cc-75a0-494f-a57f-c3cb374d1076",
   "metadata": {},
   "outputs": [
    {
     "data": {
      "text/plain": [
       "473"
      ]
     },
     "execution_count": 202,
     "metadata": {},
     "output_type": "execute_result"
    }
   ],
   "source": [
    "tot"
   ]
  },
  {
   "cell_type": "code",
   "execution_count": 203,
   "id": "db905944-2b70-47a1-aab4-bb8c76f431ef",
   "metadata": {},
   "outputs": [
    {
     "data": {
      "text/plain": [
       "103"
      ]
     },
     "execution_count": 203,
     "metadata": {},
     "output_type": "execute_result"
    }
   ],
   "source": [
    "len(allseq)"
   ]
  },
  {
   "cell_type": "code",
   "execution_count": 204,
   "id": "772bd439-58fa-41f6-8d7c-2cd521b04bd3",
   "metadata": {},
   "outputs": [
    {
     "data": {
      "text/plain": [
       "0.0900437845040929"
      ]
     },
     "execution_count": 204,
     "metadata": {},
     "output_type": "execute_result"
    }
   ],
   "source": [
    "tot/(103*102/2)"
   ]
  },
  {
   "cell_type": "code",
   "execution_count": null,
   "id": "a478be52-1172-4d92-9a2d-2ad90eae68e3",
   "metadata": {},
   "outputs": [],
   "source": []
  },
  {
   "cell_type": "code",
   "execution_count": 205,
   "id": "f47fefb7-3c3f-49cc-bcc8-35fa44bc28fc",
   "metadata": {},
   "outputs": [
    {
     "data": {
      "text/html": [
       "<div>\n",
       "<style scoped>\n",
       "    .dataframe tbody tr th:only-of-type {\n",
       "        vertical-align: middle;\n",
       "    }\n",
       "\n",
       "    .dataframe tbody tr th {\n",
       "        vertical-align: top;\n",
       "    }\n",
       "\n",
       "    .dataframe thead th {\n",
       "        text-align: right;\n",
       "    }\n",
       "</style>\n",
       "<table border=\"1\" class=\"dataframe\">\n",
       "  <thead>\n",
       "    <tr style=\"text-align: right;\">\n",
       "      <th></th>\n",
       "      <th>accession</th>\n",
       "      <th>community</th>\n",
       "      <th>state</th>\n",
       "      <th>infection_date</th>\n",
       "      <th>index_ID</th>\n",
       "      <th>descendants</th>\n",
       "      <th>recovery</th>\n",
       "      <th>strains</th>\n",
       "      <th>region</th>\n",
       "      <th>country</th>\n",
       "    </tr>\n",
       "  </thead>\n",
       "  <tbody>\n",
       "    <tr>\n",
       "      <th>0</th>\n",
       "      <td>1000</td>\n",
       "      <td>0</td>\n",
       "      <td>R</td>\n",
       "      <td>2020-03-01</td>\n",
       "      <td>NaN</td>\n",
       "      <td>[]</td>\n",
       "      <td>2020-03-12</td>\n",
       "      <td>G22670</td>\n",
       "      <td>North America</td>\n",
       "      <td>USA</td>\n",
       "    </tr>\n",
       "    <tr>\n",
       "      <th>1</th>\n",
       "      <td>NaN</td>\n",
       "      <td>1</td>\n",
       "      <td>S</td>\n",
       "      <td>NaN</td>\n",
       "      <td>NaN</td>\n",
       "      <td>[]</td>\n",
       "      <td>NaN</td>\n",
       "      <td>G22671</td>\n",
       "      <td>North America</td>\n",
       "      <td>USA</td>\n",
       "    </tr>\n",
       "    <tr>\n",
       "      <th>2</th>\n",
       "      <td>NaN</td>\n",
       "      <td>0</td>\n",
       "      <td>S</td>\n",
       "      <td>NaN</td>\n",
       "      <td>NaN</td>\n",
       "      <td>[]</td>\n",
       "      <td>NaN</td>\n",
       "      <td>G22672</td>\n",
       "      <td>North America</td>\n",
       "      <td>USA</td>\n",
       "    </tr>\n",
       "    <tr>\n",
       "      <th>3</th>\n",
       "      <td>5031</td>\n",
       "      <td>0</td>\n",
       "      <td>I</td>\n",
       "      <td>2020-03-26</td>\n",
       "      <td>4453</td>\n",
       "      <td>[]</td>\n",
       "      <td>2020-04-11</td>\n",
       "      <td>G22673</td>\n",
       "      <td>North America</td>\n",
       "      <td>USA</td>\n",
       "    </tr>\n",
       "    <tr>\n",
       "      <th>4</th>\n",
       "      <td>NaN</td>\n",
       "      <td>0</td>\n",
       "      <td>S</td>\n",
       "      <td>NaN</td>\n",
       "      <td>NaN</td>\n",
       "      <td>[]</td>\n",
       "      <td>NaN</td>\n",
       "      <td>G22674</td>\n",
       "      <td>North America</td>\n",
       "      <td>USA</td>\n",
       "    </tr>\n",
       "    <tr>\n",
       "      <th>...</th>\n",
       "      <td>...</td>\n",
       "      <td>...</td>\n",
       "      <td>...</td>\n",
       "      <td>...</td>\n",
       "      <td>...</td>\n",
       "      <td>...</td>\n",
       "      <td>...</td>\n",
       "      <td>...</td>\n",
       "      <td>...</td>\n",
       "      <td>...</td>\n",
       "    </tr>\n",
       "    <tr>\n",
       "      <th>395</th>\n",
       "      <td>NaN</td>\n",
       "      <td>1</td>\n",
       "      <td>S</td>\n",
       "      <td>NaN</td>\n",
       "      <td>NaN</td>\n",
       "      <td>[]</td>\n",
       "      <td>NaN</td>\n",
       "      <td>G23065</td>\n",
       "      <td>North America</td>\n",
       "      <td>USA</td>\n",
       "    </tr>\n",
       "    <tr>\n",
       "      <th>396</th>\n",
       "      <td>NaN</td>\n",
       "      <td>0</td>\n",
       "      <td>S</td>\n",
       "      <td>NaN</td>\n",
       "      <td>NaN</td>\n",
       "      <td>[]</td>\n",
       "      <td>NaN</td>\n",
       "      <td>G23066</td>\n",
       "      <td>North America</td>\n",
       "      <td>USA</td>\n",
       "    </tr>\n",
       "    <tr>\n",
       "      <th>397</th>\n",
       "      <td>NaN</td>\n",
       "      <td>0</td>\n",
       "      <td>S</td>\n",
       "      <td>NaN</td>\n",
       "      <td>NaN</td>\n",
       "      <td>[]</td>\n",
       "      <td>NaN</td>\n",
       "      <td>G23067</td>\n",
       "      <td>North America</td>\n",
       "      <td>USA</td>\n",
       "    </tr>\n",
       "    <tr>\n",
       "      <th>398</th>\n",
       "      <td>9866</td>\n",
       "      <td>0</td>\n",
       "      <td>I</td>\n",
       "      <td>2020-03-31</td>\n",
       "      <td>5031</td>\n",
       "      <td>[]</td>\n",
       "      <td>2020-04-06</td>\n",
       "      <td>G23068</td>\n",
       "      <td>North America</td>\n",
       "      <td>USA</td>\n",
       "    </tr>\n",
       "    <tr>\n",
       "      <th>399</th>\n",
       "      <td>NaN</td>\n",
       "      <td>0</td>\n",
       "      <td>S</td>\n",
       "      <td>NaN</td>\n",
       "      <td>NaN</td>\n",
       "      <td>[]</td>\n",
       "      <td>NaN</td>\n",
       "      <td>G23069</td>\n",
       "      <td>North America</td>\n",
       "      <td>USA</td>\n",
       "    </tr>\n",
       "  </tbody>\n",
       "</table>\n",
       "<p>400 rows × 10 columns</p>\n",
       "</div>"
      ],
      "text/plain": [
       "    accession  community state infection_date index_ID descendants  \\\n",
       "0        1000          0     R     2020-03-01      NaN          []   \n",
       "1         NaN          1     S            NaN      NaN          []   \n",
       "2         NaN          0     S            NaN      NaN          []   \n",
       "3        5031          0     I     2020-03-26     4453          []   \n",
       "4         NaN          0     S            NaN      NaN          []   \n",
       "..        ...        ...   ...            ...      ...         ...   \n",
       "395       NaN          1     S            NaN      NaN          []   \n",
       "396       NaN          0     S            NaN      NaN          []   \n",
       "397       NaN          0     S            NaN      NaN          []   \n",
       "398      9866          0     I     2020-03-31     5031          []   \n",
       "399       NaN          0     S            NaN      NaN          []   \n",
       "\n",
       "       recovery strains         region country  \n",
       "0    2020-03-12  G22670  North America     USA  \n",
       "1           NaN  G22671  North America     USA  \n",
       "2           NaN  G22672  North America     USA  \n",
       "3    2020-04-11  G22673  North America     USA  \n",
       "4           NaN  G22674  North America     USA  \n",
       "..          ...     ...            ...     ...  \n",
       "395         NaN  G23065  North America     USA  \n",
       "396         NaN  G23066  North America     USA  \n",
       "397         NaN  G23067  North America     USA  \n",
       "398  2020-04-06  G23068  North America     USA  \n",
       "399         NaN  G23069  North America     USA  \n",
       "\n",
       "[400 rows x 10 columns]"
      ]
     },
     "execution_count": 205,
     "metadata": {},
     "output_type": "execute_result"
    }
   ],
   "source": [
    "agents"
   ]
  },
  {
   "cell_type": "code",
   "execution_count": null,
   "id": "dbdb386d-71c2-45b5-abb7-6c22c4a51ba7",
   "metadata": {},
   "outputs": [],
   "source": []
  },
  {
   "cell_type": "markdown",
   "id": "64dd5ed9-4488-4cf7-8ca7-2d7b82f9190e",
   "metadata": {},
   "source": [
    "* list of places\n",
    "    * create actual edges in NextStrain\n",
    "* separate list of two communities\n",
    "    * random  selection of agents in each community - based on parameters for each comm\n",
    "        * sequenicng frequency in comm A\n",
    "        * ratio btwn teh 2 - >,<1\n",
    "    * decrease by x - .5, .25, etc\n",
    "* still provide initial sequence - youngest count as root in random selection\n",
    "* see how many of correctly directed edges are present in constructed tree\n",
    "    * function of the two parameters - % correct\n",
    "    \n",
    "TODO:\n",
    "    - script to automate creation of fasta x metadata file (400-1k agents)?\n",
    "    - creation and running of snakemake\n",
    "    - function to determine ground truth - list of directed ages?\n",
    "    - in/out of nextstrain\n",
    "    - feed all to see how initially accurate nextstrain is"
   ]
  },
  {
   "cell_type": "code",
   "execution_count": 206,
   "id": "d57653cc-a532-41fc-aa6d-f4c2144e4abe",
   "metadata": {},
   "outputs": [
    {
     "data": {
      "text/plain": [
       "{'base_case': SeqRecord(seq=Seq('ATTAAAGGTTTATACCTTCCCAGGTAACAAACCAACCAACTTTCGATCTCTTGT...AAA'), id='base_case', name='base_case', description='base_case', dbxrefs=[])}"
      ]
     },
     "execution_count": 206,
     "metadata": {},
     "output_type": "execute_result"
    }
   ],
   "source": [
    "base"
   ]
  },
  {
   "cell_type": "markdown",
   "id": "80c93c99-3fff-44cd-9f9f-c0d5e55fa157",
   "metadata": {},
   "source": [
    "# 3. Exporting"
   ]
  },
  {
   "cell_type": "markdown",
   "id": "3fd58c41-bf38-4c6a-8f30-f741198b651f",
   "metadata": {},
   "source": [
    "### 3.1 Demographic Info"
   ]
  },
  {
   "cell_type": "code",
   "execution_count": 210,
   "id": "495db28c-52d7-45ab-bb94-0181259a0376",
   "metadata": {},
   "outputs": [],
   "source": [
    "gnm = agents[agents.state != 'S']"
   ]
  },
  {
   "cell_type": "code",
   "execution_count": 213,
   "id": "a8d927d9-7036-4446-a725-9843d129373c",
   "metadata": {},
   "outputs": [
    {
     "data": {
      "text/html": [
       "<div>\n",
       "<style scoped>\n",
       "    .dataframe tbody tr th:only-of-type {\n",
       "        vertical-align: middle;\n",
       "    }\n",
       "\n",
       "    .dataframe tbody tr th {\n",
       "        vertical-align: top;\n",
       "    }\n",
       "\n",
       "    .dataframe thead th {\n",
       "        text-align: right;\n",
       "    }\n",
       "</style>\n",
       "<table border=\"1\" class=\"dataframe\">\n",
       "  <thead>\n",
       "    <tr style=\"text-align: right;\">\n",
       "      <th></th>\n",
       "      <th>accession</th>\n",
       "      <th>community</th>\n",
       "      <th>state</th>\n",
       "      <th>infection_date</th>\n",
       "      <th>index_ID</th>\n",
       "      <th>descendants</th>\n",
       "      <th>recovery</th>\n",
       "      <th>strains</th>\n",
       "      <th>region</th>\n",
       "      <th>country</th>\n",
       "      <th>local</th>\n",
       "    </tr>\n",
       "  </thead>\n",
       "  <tbody>\n",
       "    <tr>\n",
       "      <th>0</th>\n",
       "      <td>1000</td>\n",
       "      <td>0</td>\n",
       "      <td>R</td>\n",
       "      <td>2020-03-01</td>\n",
       "      <td>NaN</td>\n",
       "      <td>[]</td>\n",
       "      <td>2020-03-12</td>\n",
       "      <td>G22670</td>\n",
       "      <td>North America</td>\n",
       "      <td>USA</td>\n",
       "      <td>community A</td>\n",
       "    </tr>\n",
       "    <tr>\n",
       "      <th>3</th>\n",
       "      <td>5031</td>\n",
       "      <td>0</td>\n",
       "      <td>I</td>\n",
       "      <td>2020-03-26</td>\n",
       "      <td>4453</td>\n",
       "      <td>[]</td>\n",
       "      <td>2020-04-11</td>\n",
       "      <td>G22673</td>\n",
       "      <td>North America</td>\n",
       "      <td>USA</td>\n",
       "      <td>community A</td>\n",
       "    </tr>\n",
       "    <tr>\n",
       "      <th>10</th>\n",
       "      <td>9857</td>\n",
       "      <td>1</td>\n",
       "      <td>I</td>\n",
       "      <td>2020-03-19</td>\n",
       "      <td>9962</td>\n",
       "      <td>[]</td>\n",
       "      <td>2020-04-02</td>\n",
       "      <td>G22680</td>\n",
       "      <td>North America</td>\n",
       "      <td>USA</td>\n",
       "      <td>community B</td>\n",
       "    </tr>\n",
       "    <tr>\n",
       "      <th>14</th>\n",
       "      <td>6658</td>\n",
       "      <td>1</td>\n",
       "      <td>I</td>\n",
       "      <td>2020-03-29</td>\n",
       "      <td>7814</td>\n",
       "      <td>[]</td>\n",
       "      <td>2020-04-03</td>\n",
       "      <td>G22684</td>\n",
       "      <td>North America</td>\n",
       "      <td>USA</td>\n",
       "      <td>community B</td>\n",
       "    </tr>\n",
       "    <tr>\n",
       "      <th>20</th>\n",
       "      <td>3492</td>\n",
       "      <td>0</td>\n",
       "      <td>R</td>\n",
       "      <td>2020-03-07</td>\n",
       "      <td>1000</td>\n",
       "      <td>[]</td>\n",
       "      <td>2020-03-14</td>\n",
       "      <td>G22690</td>\n",
       "      <td>North America</td>\n",
       "      <td>USA</td>\n",
       "      <td>community A</td>\n",
       "    </tr>\n",
       "    <tr>\n",
       "      <th>...</th>\n",
       "      <td>...</td>\n",
       "      <td>...</td>\n",
       "      <td>...</td>\n",
       "      <td>...</td>\n",
       "      <td>...</td>\n",
       "      <td>...</td>\n",
       "      <td>...</td>\n",
       "      <td>...</td>\n",
       "      <td>...</td>\n",
       "      <td>...</td>\n",
       "      <td>...</td>\n",
       "    </tr>\n",
       "    <tr>\n",
       "      <th>384</th>\n",
       "      <td>1704</td>\n",
       "      <td>0</td>\n",
       "      <td>I</td>\n",
       "      <td>2020-03-25</td>\n",
       "      <td>703</td>\n",
       "      <td>[]</td>\n",
       "      <td>2020-04-04</td>\n",
       "      <td>G23054</td>\n",
       "      <td>North America</td>\n",
       "      <td>USA</td>\n",
       "      <td>community A</td>\n",
       "    </tr>\n",
       "    <tr>\n",
       "      <th>387</th>\n",
       "      <td>7770</td>\n",
       "      <td>1</td>\n",
       "      <td>I</td>\n",
       "      <td>2020-03-24</td>\n",
       "      <td>9857</td>\n",
       "      <td>[]</td>\n",
       "      <td>2020-04-04</td>\n",
       "      <td>G23057</td>\n",
       "      <td>North America</td>\n",
       "      <td>USA</td>\n",
       "      <td>community B</td>\n",
       "    </tr>\n",
       "    <tr>\n",
       "      <th>388</th>\n",
       "      <td>7540</td>\n",
       "      <td>1</td>\n",
       "      <td>I</td>\n",
       "      <td>2020-03-19</td>\n",
       "      <td>4224</td>\n",
       "      <td>[]</td>\n",
       "      <td>2020-03-29</td>\n",
       "      <td>G23058</td>\n",
       "      <td>North America</td>\n",
       "      <td>USA</td>\n",
       "      <td>community B</td>\n",
       "    </tr>\n",
       "    <tr>\n",
       "      <th>391</th>\n",
       "      <td>4186</td>\n",
       "      <td>0</td>\n",
       "      <td>I</td>\n",
       "      <td>2020-03-26</td>\n",
       "      <td>1537</td>\n",
       "      <td>[]</td>\n",
       "      <td>2020-04-11</td>\n",
       "      <td>G23061</td>\n",
       "      <td>North America</td>\n",
       "      <td>USA</td>\n",
       "      <td>community A</td>\n",
       "    </tr>\n",
       "    <tr>\n",
       "      <th>398</th>\n",
       "      <td>9866</td>\n",
       "      <td>0</td>\n",
       "      <td>I</td>\n",
       "      <td>2020-03-31</td>\n",
       "      <td>5031</td>\n",
       "      <td>[]</td>\n",
       "      <td>2020-04-06</td>\n",
       "      <td>G23068</td>\n",
       "      <td>North America</td>\n",
       "      <td>USA</td>\n",
       "      <td>community A</td>\n",
       "    </tr>\n",
       "  </tbody>\n",
       "</table>\n",
       "<p>102 rows × 11 columns</p>\n",
       "</div>"
      ],
      "text/plain": [
       "    accession  community state infection_date index_ID descendants  \\\n",
       "0        1000          0     R     2020-03-01      NaN          []   \n",
       "3        5031          0     I     2020-03-26     4453          []   \n",
       "10       9857          1     I     2020-03-19     9962          []   \n",
       "14       6658          1     I     2020-03-29     7814          []   \n",
       "20       3492          0     R     2020-03-07     1000          []   \n",
       "..        ...        ...   ...            ...      ...         ...   \n",
       "384      1704          0     I     2020-03-25      703          []   \n",
       "387      7770          1     I     2020-03-24     9857          []   \n",
       "388      7540          1     I     2020-03-19     4224          []   \n",
       "391      4186          0     I     2020-03-26     1537          []   \n",
       "398      9866          0     I     2020-03-31     5031          []   \n",
       "\n",
       "       recovery strains         region country        local  \n",
       "0    2020-03-12  G22670  North America     USA  community A  \n",
       "3    2020-04-11  G22673  North America     USA  community A  \n",
       "10   2020-04-02  G22680  North America     USA  community B  \n",
       "14   2020-04-03  G22684  North America     USA  community B  \n",
       "20   2020-03-14  G22690  North America     USA  community A  \n",
       "..          ...     ...            ...     ...          ...  \n",
       "384  2020-04-04  G23054  North America     USA  community A  \n",
       "387  2020-04-04  G23057  North America     USA  community B  \n",
       "388  2020-03-29  G23058  North America     USA  community B  \n",
       "391  2020-04-11  G23061  North America     USA  community A  \n",
       "398  2020-04-06  G23068  North America     USA  community A  \n",
       "\n",
       "[102 rows x 11 columns]"
      ]
     },
     "execution_count": 213,
     "metadata": {},
     "output_type": "execute_result"
    }
   ],
   "source": [
    "gnm"
   ]
  },
  {
   "cell_type": "code",
   "execution_count": 212,
   "id": "f3c73def-396f-48bc-8739-74050daa3ec5",
   "metadata": {},
   "outputs": [
    {
     "name": "stderr",
     "output_type": "stream",
     "text": [
      "<ipython-input-212-b4ff5db87d92>:7: SettingWithCopyWarning: \n",
      "A value is trying to be set on a copy of a slice from a DataFrame.\n",
      "Try using .loc[row_indexer,col_indexer] = value instead\n",
      "\n",
      "See the caveats in the documentation: https://pandas.pydata.org/pandas-docs/stable/user_guide/indexing.html#returning-a-view-versus-a-copy\n",
      "  gnm['local'] = location\n"
     ]
    }
   ],
   "source": [
    "location = []\n",
    "conv = {}\n",
    "conv[0]='community A'\n",
    "conv[1] ='community B'\n",
    "for i in gnm.community:\n",
    "    location.append(conv[i])\n",
    "gnm['local'] = location"
   ]
  },
  {
   "cell_type": "code",
   "execution_count": 214,
   "id": "2671918b-63aa-430b-9366-1a15829a89bd",
   "metadata": {},
   "outputs": [],
   "source": [
    "gnm.to_csv('background.tsv', sep='\\t', \n",
    "              columns=['strains', 'accession','infection_date','region','country','local'],\n",
    "             index=False)\n"
   ]
  },
  {
   "cell_type": "code",
   "execution_count": 198,
   "id": "2ca34b43-3f6a-4392-b5f8-3401d2bd1989",
   "metadata": {},
   "outputs": [
    {
     "data": {
      "text/plain": [
       "dict_keys([1000, 3094, 2397, 3492, 4287, 6300, 9962, 2676, 4224, 2192, 6220, 7457, 3655, 8315, 1899, 9857, 5012, 4453, 7540, 8670, 8400, 4731, 9115, 6955, 4551, 5602, 9622, 1692, 1537, 8040, 3467, 9484, 4892, 703, 4985, 792, 9470, 7373, 1209, 7770, 1603, 7927, 3614, 8467, 2904, 3428, 5050, 1663, 407, 458, 6989, 1704, 5623, 3553, 332, 7814, 8648, 8175, 1595, 8047, 4757, 5031, 9677, 4186, 7639, 3661, 8104, 3329, 1123, 2603, 5790, 3005, 6658, 9096, 8517, 7124, 2702, 2898, 923, 7388, 3933, 9683, 7094, 7784, 517, 4531, 7034, 5235, 9499, 3669, 8369, 6700, 4881, 7930, 9516, 7951, 9866, 3947, 7086, 9801, 7735, 3006, 7338])"
      ]
     },
     "execution_count": 198,
     "metadata": {},
     "output_type": "execute_result"
    }
   ],
   "source": [
    "allseq.keys()"
   ]
  },
  {
   "cell_type": "code",
   "execution_count": null,
   "id": "88d277cf-e8e2-4d0f-9091-623a3f9260d3",
   "metadata": {},
   "outputs": [],
   "source": []
  },
  {
   "cell_type": "markdown",
   "id": "675f5f61-9759-41c3-acb1-ee75d7d13021",
   "metadata": {},
   "source": [
    "gnm.accession"
   ]
  },
  {
   "cell_type": "code",
   "execution_count": 176,
   "id": "26295f63-ed17-4e65-a69d-7bcab6bdaa5c",
   "metadata": {},
   "outputs": [],
   "source": [
    "gnm2 = gnm.reset_index()\n"
   ]
  },
  {
   "cell_type": "markdown",
   "id": "93398ed4-b6d9-4d18-902f-f70618f13b69",
   "metadata": {},
   "source": [
    "### 3.2 FASTA File"
   ]
  },
  {
   "cell_type": "code",
   "execution_count": 180,
   "id": "87250b49-e3f2-45a9-9139-fdddafa26ad8",
   "metadata": {},
   "outputs": [],
   "source": [
    "ofile = open(\"allseqs.txt\", \"w\")\n",
    "\n",
    "for i in gnm2.index:\n",
    "    me = gnm.iloc[i]\n",
    "    ofile.write(\">\" + me.strains + \"\\n\" +''.join(allseq[me.accession]) + \"\\n\")\n",
    "\n",
    "    #do not forget to close it\n",
    "\n",
    "ofile.close()"
   ]
  },
  {
   "cell_type": "code",
   "execution_count": 167,
   "id": "f56e02e4-e94b-4d80-aec9-e7c5d85d780f",
   "metadata": {},
   "outputs": [
    {
     "name": "stdout",
     "output_type": "stream",
     "text": [
      "True\n"
     ]
    }
   ],
   "source": [
    "print(i in gnm.index)"
   ]
  },
  {
   "cell_type": "code",
   "execution_count": 175,
   "id": "f98116da-f639-4bb1-9b0a-62dad8b4554e",
   "metadata": {},
   "outputs": [
    {
     "ename": "ValueError",
     "evalue": "DataFrame constructor not properly called!",
     "output_type": "error",
     "traceback": [
      "\u001b[0;31m---------------------------------------------------------------------------\u001b[0m",
      "\u001b[0;31mValueError\u001b[0m                                Traceback (most recent call last)",
      "\u001b[0;32m<ipython-input-175-04888fb691a7>\u001b[0m in \u001b[0;36m<module>\u001b[0;34m\u001b[0m\n\u001b[0;32m----> 1\u001b[0;31m \u001b[0mpd\u001b[0m\u001b[0;34m.\u001b[0m\u001b[0mDataFrame\u001b[0m\u001b[0;34m(\u001b[0m\u001b[0mgnm2\u001b[0m\u001b[0;34m)\u001b[0m\u001b[0;34m\u001b[0m\u001b[0;34m\u001b[0m\u001b[0m\n\u001b[0m",
      "\u001b[0;32m/opt/anaconda3/lib/python3.8/site-packages/pandas/core/frame.py\u001b[0m in \u001b[0;36m__init__\u001b[0;34m(self, data, index, columns, dtype, copy)\u001b[0m\n\u001b[1;32m    588\u001b[0m         \u001b[0;32melse\u001b[0m\u001b[0;34m:\u001b[0m\u001b[0;34m\u001b[0m\u001b[0;34m\u001b[0m\u001b[0m\n\u001b[1;32m    589\u001b[0m             \u001b[0;32mif\u001b[0m \u001b[0mindex\u001b[0m \u001b[0;32mis\u001b[0m \u001b[0;32mNone\u001b[0m \u001b[0;32mor\u001b[0m \u001b[0mcolumns\u001b[0m \u001b[0;32mis\u001b[0m \u001b[0;32mNone\u001b[0m\u001b[0;34m:\u001b[0m\u001b[0;34m\u001b[0m\u001b[0;34m\u001b[0m\u001b[0m\n\u001b[0;32m--> 590\u001b[0;31m                 \u001b[0;32mraise\u001b[0m \u001b[0mValueError\u001b[0m\u001b[0;34m(\u001b[0m\u001b[0;34m\"DataFrame constructor not properly called!\"\u001b[0m\u001b[0;34m)\u001b[0m\u001b[0;34m\u001b[0m\u001b[0;34m\u001b[0m\u001b[0m\n\u001b[0m\u001b[1;32m    591\u001b[0m \u001b[0;34m\u001b[0m\u001b[0m\n\u001b[1;32m    592\u001b[0m             \u001b[0;32mif\u001b[0m \u001b[0;32mnot\u001b[0m \u001b[0mdtype\u001b[0m\u001b[0;34m:\u001b[0m\u001b[0;34m\u001b[0m\u001b[0;34m\u001b[0m\u001b[0m\n",
      "\u001b[0;31mValueError\u001b[0m: DataFrame constructor not properly called!"
     ]
    }
   ],
   "source": []
  },
  {
   "cell_type": "code",
   "execution_count": 179,
   "id": "290a618b-264f-4805-9915-79132a913543",
   "metadata": {},
   "outputs": [
    {
     "data": {
      "text/plain": [
       "index                        48\n",
       "accession                  6700\n",
       "community                     0\n",
       "state                         I\n",
       "infection_date       2020-03-30\n",
       "index_ID                    923\n",
       "descendants                  []\n",
       "recovery             2020-04-01\n",
       "strains                  G22718\n",
       "region            North America\n",
       "country                     USA\n",
       "Name: 10, dtype: object"
      ]
     },
     "execution_count": 179,
     "metadata": {},
     "output_type": "execute_result"
    }
   ],
   "source": [
    "gnm2.iloc[10]"
   ]
  },
  {
   "cell_type": "code",
   "execution_count": null,
   "id": "79df9140-93bc-45fa-ac67-81ba6213620f",
   "metadata": {},
   "outputs": [],
   "source": []
  }
 ],
 "metadata": {
  "kernelspec": {
   "display_name": "Python 3",
   "language": "python",
   "name": "python3"
  },
  "language_info": {
   "codemirror_mode": {
    "name": "ipython",
    "version": 3
   },
   "file_extension": ".py",
   "mimetype": "text/x-python",
   "name": "python",
   "nbconvert_exporter": "python",
   "pygments_lexer": "ipython3",
   "version": "3.8.8"
  }
 },
 "nbformat": 4,
 "nbformat_minor": 5
}
