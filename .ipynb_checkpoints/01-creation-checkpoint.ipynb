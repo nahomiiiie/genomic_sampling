{
 "cells": [
  {
   "cell_type": "markdown",
   "id": "ff2c7c8b-348b-466a-b6ca-a7a199d7b9c5",
   "metadata": {},
   "source": [
    "# 01-Creation\n",
    "\n",
    "Things to do:\n",
    "1. Initialize root case\n",
    "    1. take in FASTA file from directory\n",
    "    2. save FASTA sequence as array of characters\n",
    "    3. intitialize community, date\n",
    "2. Create descendent communities\n",
    "    1. Set number of people in each communitiy\n",
    "    2. look at SIR rates  - when infected \n",
    "        1. infecting x in A - Poisson\n",
    "        2. infection x in B - Poisson\n",
    "        3. recovering and leaving R - Gaussian? IDK\n",
    "        4. select person from each community randomly based on rate\n",
    "    3. At infection, look at mutation formula and pass onto reciever\n",
    "    \n",
    "TODO:\n",
    " *  figure out community size x data structure - prob dictionary\n",
    " *  how to pick community?\n",
    " *  function to actually mutate sequence\n",
    "    "
   ]
  },
  {
   "cell_type": "markdown",
   "id": "5e5eabf0-2e89-4ce0-ac2c-baa23cf10363",
   "metadata": {},
   "source": [
    "# 0. Setup"
   ]
  },
  {
   "cell_type": "code",
   "execution_count": 84,
   "id": "076e7487-bfc2-46c8-82d6-a6f3efa112b8",
   "metadata": {},
   "outputs": [],
   "source": [
    "import numpy as np\n",
    "import scipy.stats as stats\n",
    "import scipy.special as ssp\n",
    "import matplotlib as plt\n",
    "import pandas as pd\n",
    "import random\n",
    "import datetime\n",
    "\n",
    "from Bio import SeqIO\n"
   ]
  },
  {
   "cell_type": "code",
   "execution_count": 85,
   "id": "0d99b127-4c48-456e-b1a6-c44eee9828cd",
   "metadata": {},
   "outputs": [
    {
     "data": {
      "text/plain": [
       "15"
      ]
     },
     "execution_count": 85,
     "metadata": {},
     "output_type": "execute_result"
    }
   ],
   "source": [
    "np.random.binomial(99,.25)"
   ]
  },
  {
   "cell_type": "markdown",
   "id": "9b681241-d681-46e5-84fa-7289f37d8b4d",
   "metadata": {},
   "source": [
    "## 0.1 Functions"
   ]
  },
  {
   "cell_type": "code",
   "execution_count": 244,
   "id": "7d233afc-cb9d-425a-a3fd-ab41a62a28ea",
   "metadata": {},
   "outputs": [],
   "source": [
    "#==============================================================================\n",
    "# mutation https://www.nature.com/articles/s41467-020-19818-2 - clock rate\n",
    "#==============================================================================\n",
    "\n",
    "def agent_mut_num(rate=0.419):\n",
    "#adds mutationfor every 3 transmissions\n",
    "#returns: number of mutations\n",
    "    mymut = np.random.poisson(rate)\n",
    "    return mymut\n",
    "\n",
    "\n",
    "def spot_mutation(num, seq):\n",
    "#one mutation for every 2-3 transmissions\n",
    "#returns: new sequence\n",
    "    conversion = ['A', 'C', 'T', 'G']\n",
    "    swap = random.sample(range(len(s)), 3)\n",
    "    for i in swap:\n",
    "        spot = seq[i]\n",
    "        smaller = conversion[conversion != spot]\n",
    "        seq[i] = random.choice(smaller)\n",
    "    return seq"
   ]
  },
  {
   "cell_type": "code",
   "execution_count": 237,
   "id": "28aa59e9-d159-4aec-be29-4604a1e4b41f",
   "metadata": {},
   "outputs": [],
   "source": [
    "s =allseq[1000]"
   ]
  },
  {
   "cell_type": "code",
   "execution_count": 242,
   "id": "cbdfa6fd-aab4-4aa1-b424-fb0dad83c854",
   "metadata": {},
   "outputs": [
    {
     "data": {
      "text/plain": [
       "[13443, 27239, 11159]"
      ]
     },
     "execution_count": 242,
     "metadata": {},
     "output_type": "execute_result"
    }
   ],
   "source": [
    "random.sample(range(len(s)), 3)"
   ]
  },
  {
   "cell_type": "code",
   "execution_count": 177,
   "id": "edfba006-8840-4201-9c27-2ad7313689ab",
   "metadata": {},
   "outputs": [],
   "source": [
    "#==============================================================================\n",
    "# recovery \n",
    "#==============================================================================\n",
    "\n",
    "def recovery_odds(k=1,theta=10):\n",
    "#gamma functoin - time until next event\n",
    "                     #k is number of events (one)\n",
    "                     #theta is avg num days to infection (10)\n",
    "#returns: time in days until recovery. save and then check if infection day is higher than that\n",
    "    day = round(np.random.gamma(k, theta, 1)[0])\n",
    "    return day"
   ]
  },
  {
   "cell_type": "code",
   "execution_count": 211,
   "id": "43101e42-a59e-41d8-b170-172458f1a626",
   "metadata": {},
   "outputs": [],
   "source": [
    "#from functions import num_infected\n",
    "def num_infected(rate, Sus_I):\n",
    "#inner beta, intra beta, arrays of indices for inside and outside group\n",
    "#returns: arrays of index numbers for those selected\n",
    "    I_inf = []\n",
    "    \n",
    "    num_in = int(np.random.poisson(rate))\n",
    "    #print('num in: ' + str(num_in))\n",
    "    #print('num out: ' + str(num_out))\n",
    "    \n",
    "    for i in range(num_in):\n",
    "        I_inf.append(random.choice(Sus_I))\n",
    "    return I_inf\n",
    "                     \n"
   ]
  },
  {
   "cell_type": "code",
   "execution_count": 86,
   "id": "dc2f1d99-474d-4f74-9fa7-8ee7b1cc31a2",
   "metadata": {},
   "outputs": [],
   "source": [
    "base = SeqIO.to_dict(SeqIO.parse('data/reference.fasta', 'fasta'))\n",
    "ref= base['base_case']\n",
    "refseq = np.array(ref)"
   ]
  },
  {
   "cell_type": "markdown",
   "id": "e2d59cb0-f88d-41d3-9208-474e11af4631",
   "metadata": {},
   "source": [
    "## 0.2 Time Steps\n",
    "* chosing to run for 31 days\n",
    "* [equation](https://cse.cs.ucsb.edu/sites/default/files/publications/NewTau052.pdf)  for determining Tau: IGNORING ME - ASK IN GROUP MEETING"
   ]
  },
  {
   "cell_type": "code",
   "execution_count": 157,
   "id": "bfc012e5-b89d-4296-8ac1-447c0f077a0d",
   "metadata": {},
   "outputs": [],
   "source": [
    "times = np.arange(0,31)\n"
   ]
  },
  {
   "cell_type": "code",
   "execution_count": 217,
   "id": "e7a1c678-5c54-4c80-9854-da96723f5f1e",
   "metadata": {},
   "outputs": [],
   "source": [
    "allseq = {}"
   ]
  },
  {
   "cell_type": "markdown",
   "id": "200f5617-d7be-4ea2-a3b6-b4a0100c5508",
   "metadata": {},
   "source": [
    "# 1. Initializing Cases/Agents"
   ]
  },
  {
   "cell_type": "markdown",
   "id": "4361a254-eef0-4677-be43-70147895226a",
   "metadata": {},
   "source": [
    "### 1.1 Community Stat\n",
    "    start initalize all communities and starting state of susceptible"
   ]
  },
  {
   "cell_type": "code",
   "execution_count": 221,
   "id": "9113b17c-70cd-4c9d-a3a0-09e9e92105aa",
   "metadata": {},
   "outputs": [],
   "source": [
    "char = ['accession','community','state','infection_date','index_ID','descendants', 'recovery']\n",
    "agents = pd.DataFrame(columns=char, index=range(100))\n",
    "\n",
    "agents['state'] = 'S'\n",
    "    #initiialize all as Susceptible - 'S'\n",
    "agents['community'] = np.random.binomial(1,0.5,100) \n",
    "    #random 50/50 to be in community A vs B. multinomial if more communitis\n",
    "#agents['community'] = [ chr(x+65) for x in agents.community]\n",
    "    #convert numerical binomial to char. 0 - A, 1- B...///////////\n",
    "agents['descendants'] = [[]] * agents.shape[0]\n",
    "    \n",
    "#don't need to save sequence here, save to dict w key as accession"
   ]
  },
  {
   "cell_type": "code",
   "execution_count": 222,
   "id": "0d89c811-04ee-488a-95ef-b36711149a78",
   "metadata": {},
   "outputs": [
    {
     "data": {
      "text/html": [
       "<div>\n",
       "<style scoped>\n",
       "    .dataframe tbody tr th:only-of-type {\n",
       "        vertical-align: middle;\n",
       "    }\n",
       "\n",
       "    .dataframe tbody tr th {\n",
       "        vertical-align: top;\n",
       "    }\n",
       "\n",
       "    .dataframe thead th {\n",
       "        text-align: right;\n",
       "    }\n",
       "</style>\n",
       "<table border=\"1\" class=\"dataframe\">\n",
       "  <thead>\n",
       "    <tr style=\"text-align: right;\">\n",
       "      <th></th>\n",
       "      <th>accession</th>\n",
       "      <th>community</th>\n",
       "      <th>state</th>\n",
       "      <th>infection_date</th>\n",
       "      <th>index_ID</th>\n",
       "      <th>descendants</th>\n",
       "      <th>recovery</th>\n",
       "    </tr>\n",
       "  </thead>\n",
       "  <tbody>\n",
       "    <tr>\n",
       "      <th>0</th>\n",
       "      <td>NaN</td>\n",
       "      <td>0</td>\n",
       "      <td>S</td>\n",
       "      <td>NaN</td>\n",
       "      <td>NaN</td>\n",
       "      <td>[]</td>\n",
       "      <td>NaN</td>\n",
       "    </tr>\n",
       "    <tr>\n",
       "      <th>1</th>\n",
       "      <td>NaN</td>\n",
       "      <td>1</td>\n",
       "      <td>S</td>\n",
       "      <td>NaN</td>\n",
       "      <td>NaN</td>\n",
       "      <td>[]</td>\n",
       "      <td>NaN</td>\n",
       "    </tr>\n",
       "    <tr>\n",
       "      <th>2</th>\n",
       "      <td>NaN</td>\n",
       "      <td>1</td>\n",
       "      <td>S</td>\n",
       "      <td>NaN</td>\n",
       "      <td>NaN</td>\n",
       "      <td>[]</td>\n",
       "      <td>NaN</td>\n",
       "    </tr>\n",
       "    <tr>\n",
       "      <th>3</th>\n",
       "      <td>NaN</td>\n",
       "      <td>0</td>\n",
       "      <td>S</td>\n",
       "      <td>NaN</td>\n",
       "      <td>NaN</td>\n",
       "      <td>[]</td>\n",
       "      <td>NaN</td>\n",
       "    </tr>\n",
       "    <tr>\n",
       "      <th>4</th>\n",
       "      <td>NaN</td>\n",
       "      <td>0</td>\n",
       "      <td>S</td>\n",
       "      <td>NaN</td>\n",
       "      <td>NaN</td>\n",
       "      <td>[]</td>\n",
       "      <td>NaN</td>\n",
       "    </tr>\n",
       "    <tr>\n",
       "      <th>...</th>\n",
       "      <td>...</td>\n",
       "      <td>...</td>\n",
       "      <td>...</td>\n",
       "      <td>...</td>\n",
       "      <td>...</td>\n",
       "      <td>...</td>\n",
       "      <td>...</td>\n",
       "    </tr>\n",
       "    <tr>\n",
       "      <th>95</th>\n",
       "      <td>NaN</td>\n",
       "      <td>1</td>\n",
       "      <td>S</td>\n",
       "      <td>NaN</td>\n",
       "      <td>NaN</td>\n",
       "      <td>[]</td>\n",
       "      <td>NaN</td>\n",
       "    </tr>\n",
       "    <tr>\n",
       "      <th>96</th>\n",
       "      <td>NaN</td>\n",
       "      <td>1</td>\n",
       "      <td>S</td>\n",
       "      <td>NaN</td>\n",
       "      <td>NaN</td>\n",
       "      <td>[]</td>\n",
       "      <td>NaN</td>\n",
       "    </tr>\n",
       "    <tr>\n",
       "      <th>97</th>\n",
       "      <td>NaN</td>\n",
       "      <td>0</td>\n",
       "      <td>S</td>\n",
       "      <td>NaN</td>\n",
       "      <td>NaN</td>\n",
       "      <td>[]</td>\n",
       "      <td>NaN</td>\n",
       "    </tr>\n",
       "    <tr>\n",
       "      <th>98</th>\n",
       "      <td>NaN</td>\n",
       "      <td>1</td>\n",
       "      <td>S</td>\n",
       "      <td>NaN</td>\n",
       "      <td>NaN</td>\n",
       "      <td>[]</td>\n",
       "      <td>NaN</td>\n",
       "    </tr>\n",
       "    <tr>\n",
       "      <th>99</th>\n",
       "      <td>NaN</td>\n",
       "      <td>1</td>\n",
       "      <td>S</td>\n",
       "      <td>NaN</td>\n",
       "      <td>NaN</td>\n",
       "      <td>[]</td>\n",
       "      <td>NaN</td>\n",
       "    </tr>\n",
       "  </tbody>\n",
       "</table>\n",
       "<p>100 rows × 7 columns</p>\n",
       "</div>"
      ],
      "text/plain": [
       "   accession  community state infection_date index_ID descendants recovery\n",
       "0        NaN          0     S            NaN      NaN          []      NaN\n",
       "1        NaN          1     S            NaN      NaN          []      NaN\n",
       "2        NaN          1     S            NaN      NaN          []      NaN\n",
       "3        NaN          0     S            NaN      NaN          []      NaN\n",
       "4        NaN          0     S            NaN      NaN          []      NaN\n",
       "..       ...        ...   ...            ...      ...         ...      ...\n",
       "95       NaN          1     S            NaN      NaN          []      NaN\n",
       "96       NaN          1     S            NaN      NaN          []      NaN\n",
       "97       NaN          0     S            NaN      NaN          []      NaN\n",
       "98       NaN          1     S            NaN      NaN          []      NaN\n",
       "99       NaN          1     S            NaN      NaN          []      NaN\n",
       "\n",
       "[100 rows x 7 columns]"
      ]
     },
     "execution_count": 222,
     "metadata": {},
     "output_type": "execute_result"
    }
   ],
   "source": [
    "agents"
   ]
  },
  {
   "cell_type": "markdown",
   "id": "7ef27ba3-35a6-4853-a79f-03082f083d6a",
   "metadata": {},
   "source": [
    "### 1.2 Initial I"
   ]
  },
  {
   "cell_type": "code",
   "execution_count": 223,
   "id": "4473c179-4c68-4f31-8d48-185326b14cec",
   "metadata": {},
   "outputs": [
    {
     "data": {
      "text/html": [
       "<div>\n",
       "<style scoped>\n",
       "    .dataframe tbody tr th:only-of-type {\n",
       "        vertical-align: middle;\n",
       "    }\n",
       "\n",
       "    .dataframe tbody tr th {\n",
       "        vertical-align: top;\n",
       "    }\n",
       "\n",
       "    .dataframe thead th {\n",
       "        text-align: right;\n",
       "    }\n",
       "</style>\n",
       "<table border=\"1\" class=\"dataframe\">\n",
       "  <thead>\n",
       "    <tr style=\"text-align: right;\">\n",
       "      <th></th>\n",
       "      <th>accession</th>\n",
       "      <th>community</th>\n",
       "      <th>state</th>\n",
       "      <th>infection_date</th>\n",
       "      <th>index_ID</th>\n",
       "      <th>descendants</th>\n",
       "      <th>recovery</th>\n",
       "    </tr>\n",
       "  </thead>\n",
       "  <tbody>\n",
       "    <tr>\n",
       "      <th>0</th>\n",
       "      <td>1000</td>\n",
       "      <td>0</td>\n",
       "      <td>I</td>\n",
       "      <td>2020-03-01</td>\n",
       "      <td>NaN</td>\n",
       "      <td>[]</td>\n",
       "      <td>2020-03-09</td>\n",
       "    </tr>\n",
       "    <tr>\n",
       "      <th>1</th>\n",
       "      <td>NaN</td>\n",
       "      <td>1</td>\n",
       "      <td>S</td>\n",
       "      <td>NaN</td>\n",
       "      <td>NaN</td>\n",
       "      <td>[]</td>\n",
       "      <td>NaN</td>\n",
       "    </tr>\n",
       "    <tr>\n",
       "      <th>2</th>\n",
       "      <td>NaN</td>\n",
       "      <td>1</td>\n",
       "      <td>S</td>\n",
       "      <td>NaN</td>\n",
       "      <td>NaN</td>\n",
       "      <td>[]</td>\n",
       "      <td>NaN</td>\n",
       "    </tr>\n",
       "    <tr>\n",
       "      <th>3</th>\n",
       "      <td>NaN</td>\n",
       "      <td>0</td>\n",
       "      <td>S</td>\n",
       "      <td>NaN</td>\n",
       "      <td>NaN</td>\n",
       "      <td>[]</td>\n",
       "      <td>NaN</td>\n",
       "    </tr>\n",
       "    <tr>\n",
       "      <th>4</th>\n",
       "      <td>NaN</td>\n",
       "      <td>0</td>\n",
       "      <td>S</td>\n",
       "      <td>NaN</td>\n",
       "      <td>NaN</td>\n",
       "      <td>[]</td>\n",
       "      <td>NaN</td>\n",
       "    </tr>\n",
       "    <tr>\n",
       "      <th>...</th>\n",
       "      <td>...</td>\n",
       "      <td>...</td>\n",
       "      <td>...</td>\n",
       "      <td>...</td>\n",
       "      <td>...</td>\n",
       "      <td>...</td>\n",
       "      <td>...</td>\n",
       "    </tr>\n",
       "    <tr>\n",
       "      <th>95</th>\n",
       "      <td>NaN</td>\n",
       "      <td>1</td>\n",
       "      <td>S</td>\n",
       "      <td>NaN</td>\n",
       "      <td>NaN</td>\n",
       "      <td>[]</td>\n",
       "      <td>NaN</td>\n",
       "    </tr>\n",
       "    <tr>\n",
       "      <th>96</th>\n",
       "      <td>NaN</td>\n",
       "      <td>1</td>\n",
       "      <td>S</td>\n",
       "      <td>NaN</td>\n",
       "      <td>NaN</td>\n",
       "      <td>[]</td>\n",
       "      <td>NaN</td>\n",
       "    </tr>\n",
       "    <tr>\n",
       "      <th>97</th>\n",
       "      <td>NaN</td>\n",
       "      <td>0</td>\n",
       "      <td>S</td>\n",
       "      <td>NaN</td>\n",
       "      <td>NaN</td>\n",
       "      <td>[]</td>\n",
       "      <td>NaN</td>\n",
       "    </tr>\n",
       "    <tr>\n",
       "      <th>98</th>\n",
       "      <td>NaN</td>\n",
       "      <td>1</td>\n",
       "      <td>S</td>\n",
       "      <td>NaN</td>\n",
       "      <td>NaN</td>\n",
       "      <td>[]</td>\n",
       "      <td>NaN</td>\n",
       "    </tr>\n",
       "    <tr>\n",
       "      <th>99</th>\n",
       "      <td>NaN</td>\n",
       "      <td>1</td>\n",
       "      <td>S</td>\n",
       "      <td>NaN</td>\n",
       "      <td>NaN</td>\n",
       "      <td>[]</td>\n",
       "      <td>NaN</td>\n",
       "    </tr>\n",
       "  </tbody>\n",
       "</table>\n",
       "<p>100 rows × 7 columns</p>\n",
       "</div>"
      ],
      "text/plain": [
       "   accession  community state infection_date index_ID descendants    recovery\n",
       "0       1000          0     I     2020-03-01      NaN          []  2020-03-09\n",
       "1        NaN          1     S            NaN      NaN          []         NaN\n",
       "2        NaN          1     S            NaN      NaN          []         NaN\n",
       "3        NaN          0     S            NaN      NaN          []         NaN\n",
       "4        NaN          0     S            NaN      NaN          []         NaN\n",
       "..       ...        ...   ...            ...      ...         ...         ...\n",
       "95       NaN          1     S            NaN      NaN          []         NaN\n",
       "96       NaN          1     S            NaN      NaN          []         NaN\n",
       "97       NaN          0     S            NaN      NaN          []         NaN\n",
       "98       NaN          1     S            NaN      NaN          []         NaN\n",
       "99       NaN          1     S            NaN      NaN          []         NaN\n",
       "\n",
       "[100 rows x 7 columns]"
      ]
     },
     "execution_count": 223,
     "metadata": {},
     "output_type": "execute_result"
    }
   ],
   "source": [
    "agents.at[0, 'accession'] = int(1000)\n",
    "agents.at[0, 'state'] = 'I'\n",
    "agents.at[0, 'infection_date'] = datetime.date.fromisoformat('2020-03-01')\n",
    "k =  round(np.random.exponential(10))\n",
    "agents.at[0,'recovery'] = datetime.date.fromisoformat('2020-03-01') + datetime.timedelta(days=k)\n",
    "allseq[agents.iloc[0].accession] = refseq \n",
    "agents\n"
   ]
  },
  {
   "cell_type": "markdown",
   "id": "24eb7882-bff6-4dba-8b89-0ff3f5e749c1",
   "metadata": {},
   "source": [
    "### 1.3 Infection"
   ]
  },
  {
   "cell_type": "code",
   "execution_count": null,
   "id": "8aeae647-13ce-404c-a492-56d122174f2b",
   "metadata": {},
   "outputs": [],
   "source": [
    "k=1\n",
    "for day in times[0:5]:\n",
    "    step = int(day)\n",
    "    hoy = datetime.date.fromisoformat('2020-03-01') + datetime.timedelta(days=step)\n",
    "    sus = agents[agents.state==\"S\"]\n",
    "    inf = agents[agents.state==\"I\"]\n",
    "    \n",
    "    for ii in inf.T:\n",
    "        print(ii)\n",
    "        if agents.iloc[ii].recovery == hoy:\n",
    "            agents.at[ii, 'state'] = 'R'\n",
    "            break\n",
    "        com = agents.iloc[ii].community\n",
    "        ins = num_infected(0.3, sus[sus.community==com].index)\n",
    "        for i in ins:\n",
    "            #i = random.choice(sus[sus.community==com].index)\n",
    "            ID =  1000 + k\n",
    "            indID = agents.iloc[ii].accession\n",
    "            agents.at[i, 'accession'] = ID\n",
    "            agents.at[i, 'state'] = \"I\"\n",
    "            agents.at[i, 'infection_date'] = hoy\n",
    "            agents.at[i, 'index_ID'] = indID\n",
    "            agents.at[i, 'recovery'] = hoy + datetime.timedelta(days=round(np.random.exponential(10)))\n",
    "            k+=1\n",
    "            #agents.at[ii, 'descendants'] = np.append(i) #this is logic is so wrong skskkssk fix\n",
    "            n = agent_mut_num()\n",
    "            myseq = spot_mutation(1/3, )\n",
    "            \n",
    "            \n",
    "        outs = num_infected(0.15, sus[sus.community!=com].index)\n",
    "        for o in outs:\n",
    "            #o = random.choice(sus[sus.community==com].index)\n",
    "            agents.at[o, 'accession'] = 1000 + k\n",
    "            agents.at[o, 'state'] = \"I\"\n",
    "            agents.at[o, 'infection_date'] = hoy\n",
    "            agents.at[o, 'index_ID'] = agent.accession\n",
    "            agents.at[o, 'recovery'] = hoy + datetime.timedelta(days=round(np.random.exponential(10)))\n",
    "            k+=1\n",
    "            #agents.at[ii, 'descendants'] = np.append(o) #this is logic is so wrong skskkssk fix\n",
    "        print(ins)\n",
    "        print(outs)\n",
    "    print(\"today\" + str(day))\n",
    "    \n",
    "    \n"
   ]
  },
  {
   "cell_type": "code",
   "execution_count": 233,
   "id": "46bd6d33-e9b3-4ba7-830d-234a160166e5",
   "metadata": {},
   "outputs": [
    {
     "data": {
      "text/plain": [
       "{1000: array(['A', 'T', 'T', ..., 'A', 'A', 'A'], dtype='<U1')}"
      ]
     },
     "execution_count": 233,
     "metadata": {},
     "output_type": "execute_result"
    }
   ],
   "source": [
    "allseq"
   ]
  },
  {
   "cell_type": "code",
   "execution_count": 229,
   "id": "b5f34129-3d6a-47b7-ba5e-1dac83edc523",
   "metadata": {},
   "outputs": [
    {
     "data": {
      "text/plain": [
       "92"
      ]
     },
     "execution_count": 229,
     "metadata": {},
     "output_type": "execute_result"
    }
   ],
   "source": [
    "ii"
   ]
  },
  {
   "cell_type": "code",
   "execution_count": 149,
   "id": "740b79d4-1d5b-45ed-9468-5d8240119fb0",
   "metadata": {},
   "outputs": [
    {
     "ename": "TypeError",
     "evalue": "'module' object is not callable",
     "output_type": "error",
     "traceback": [
      "\u001b[0;31m---------------------------------------------------------------------------\u001b[0m",
      "\u001b[0;31mTypeError\u001b[0m                                 Traceback (most recent call last)",
      "\u001b[0;32m<ipython-input-149-384f65d2efbd>\u001b[0m in \u001b[0;36m<module>\u001b[0;34m\u001b[0m\n\u001b[0;32m----> 1\u001b[0;31m \u001b[0mrandom\u001b[0m\u001b[0;34m(\u001b[0m\u001b[0;36m999\u001b[0m\u001b[0;34m)\u001b[0m\u001b[0;34m\u001b[0m\u001b[0;34m\u001b[0m\u001b[0m\n\u001b[0m",
      "\u001b[0;31mTypeError\u001b[0m: 'module' object is not callable"
     ]
    }
   ],
   "source": []
  },
  {
   "cell_type": "code",
   "execution_count": null,
   "id": "73112a16-b958-43bc-838b-c10135ef8755",
   "metadata": {},
   "outputs": [],
   "source": []
  }
 ],
 "metadata": {
  "kernelspec": {
   "display_name": "Python 3",
   "language": "python",
   "name": "python3"
  },
  "language_info": {
   "codemirror_mode": {
    "name": "ipython",
    "version": 3
   },
   "file_extension": ".py",
   "mimetype": "text/x-python",
   "name": "python",
   "nbconvert_exporter": "python",
   "pygments_lexer": "ipython3",
   "version": "3.8.8"
  }
 },
 "nbformat": 4,
 "nbformat_minor": 5
}
