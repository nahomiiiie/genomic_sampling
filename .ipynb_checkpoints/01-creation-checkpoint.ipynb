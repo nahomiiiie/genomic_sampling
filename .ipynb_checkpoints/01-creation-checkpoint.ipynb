{
 "cells": [
  {
   "cell_type": "markdown",
   "id": "ff2c7c8b-348b-466a-b6ca-a7a199d7b9c5",
   "metadata": {},
   "source": [
    "# 01-Creation\n",
    "\n",
    "Things to do:\n",
    "1. Initialize root case\n",
    "    1. take in FASTA file from directory\n",
    "    2. save FASTA sequence as array of characters\n",
    "    3. intitialize community, date\n",
    "2. Create descendent communities\n",
    "    1. Set number of people in each communitiy\n",
    "    2. look at SIR rates  - when infected \n",
    "        1. infecting x in A - Poisson\n",
    "        2. infection x in B - Poisson\n",
    "        3. recovering and leaving R - Gaussian? IDK\n",
    "        4. select person from each community randomly based on rate\n",
    "    3. At infection, look at mutation formula and pass onto reciever\n",
    "    \n",
    "TODO:\n",
    " *  figure out community size x data structure - prob dictionary\n",
    " *  how to pick community?\n",
    " *  function to actually mutate sequence\n",
    "    "
   ]
  },
  {
   "cell_type": "markdown",
   "id": "5e5eabf0-2e89-4ce0-ac2c-baa23cf10363",
   "metadata": {},
   "source": [
    "# 0. Setup"
   ]
  },
  {
   "cell_type": "code",
   "execution_count": 1,
   "id": "076e7487-bfc2-46c8-82d6-a6f3efa112b8",
   "metadata": {},
   "outputs": [],
   "source": [
    "import numpy as np\n",
    "import scipy.stats as stats\n",
    "import scipy.special as ssp\n",
    "import matplotlib.pyplot as plt\n",
    "import pandas as pd\n",
    "import random\n",
    "import datetime\n",
    "import seaborn as sns\n",
    "\n",
    "from Bio import SeqIO\n"
   ]
  },
  {
   "cell_type": "code",
   "execution_count": 2,
   "id": "0d99b127-4c48-456e-b1a6-c44eee9828cd",
   "metadata": {},
   "outputs": [
    {
     "data": {
      "text/plain": [
       "30"
      ]
     },
     "execution_count": 2,
     "metadata": {},
     "output_type": "execute_result"
    }
   ],
   "source": [
    "np.random.binomial(99,.25)"
   ]
  },
  {
   "cell_type": "markdown",
   "id": "9b681241-d681-46e5-84fa-7289f37d8b4d",
   "metadata": {},
   "source": [
    "## 0.1 Functions"
   ]
  },
  {
   "cell_type": "code",
   "execution_count": 3,
   "id": "43101e42-a59e-41d8-b170-172458f1a626",
   "metadata": {},
   "outputs": [],
   "source": [
    "#from functions import num_infected\n",
    "def num_infected(rate, Sus_I):\n",
    "#inner beta, intra beta, arrays of indices for inside and outside group\n",
    "#returns: arrays of index numbers for those selected\n",
    "    I_inf = []\n",
    "\n",
    "    \n",
    "    num_in = int(np.random.poisson(rate))\n",
    "    #print('num in: ' + str(num_in))\n",
    "    #print('num out: ' + str(num_out))\n",
    "    \n",
    "    for i in range(num_in):\n",
    "        if len(Sus_I) == 0:\n",
    "            break\n",
    "        I_inf.append(random.choice(Sus_I))\n",
    "    return I_inf\n",
    "                     \n"
   ]
  },
  {
   "cell_type": "code",
   "execution_count": 25,
   "id": "7d233afc-cb9d-425a-a3fd-ab41a62a28ea",
   "metadata": {},
   "outputs": [],
   "source": [
    "#==============================================================================\n",
    "# mutation https://www.nature.com/articles/s41467-020-19818-2 - clock rate\n",
    "#==============================================================================\n",
    "\n",
    "def agent_mut_num(rate=0.419):\n",
    "#adds mutationfor every 3 transmissions\n",
    "#returns: number of mutations\n",
    "    mymut = np.random.poisson(rate)\n",
    "    return mymut\n",
    "\n",
    "\n",
    "def spot_mutation(num, seq):\n",
    "#one mutation for every 2-3 transmissions\n",
    "#returns: new sequence\n",
    "    swap = random.sample(range(len(seq)), num)\n",
    "    seq1=seq.copy()\n",
    "    for i in swap:\n",
    "        conversion = ['A', 'C', 'T', 'G']\n",
    "        spot = seq1[i]\n",
    "        conversion.remove(spot)\n",
    "        seq1[i] = random.choice(conversion)\n",
    "    return seq1"
   ]
  },
  {
   "cell_type": "code",
   "execution_count": 5,
   "id": "120ee173-b39d-4e04-b828-f4162466a326",
   "metadata": {},
   "outputs": [],
   "source": [
    "def spot_mutation_int(num, seq):\n",
    "#one mutation for every 2-3 transmissions\n",
    "#returns: new sequence\n",
    "    swap = random.sample(range(len(seq)), num)\n",
    "    seq1=seq.copy()\n",
    "    for i in swap:\n",
    "        print(i)\n",
    "        conversion = [0, 1, 2, 3]\n",
    "        spot = seq1[i]\n",
    "        conversion.remove(spot)\n",
    "        seq1[i] = random.choice(conversion)\n",
    "    return seq1"
   ]
  },
  {
   "cell_type": "code",
   "execution_count": 6,
   "id": "28aa59e9-d159-4aec-be29-4604a1e4b41f",
   "metadata": {},
   "outputs": [],
   "source": [
    "w = [1,1,1,2,2,3,0,0,0,0,3,2,1,3,3,3,1]\n",
    "v = w.copy()"
   ]
  },
  {
   "cell_type": "code",
   "execution_count": 7,
   "id": "5b225d14-8853-4db1-9551-e2e79b55eb96",
   "metadata": {},
   "outputs": [
    {
     "name": "stdout",
     "output_type": "stream",
     "text": [
      "7\n"
     ]
    },
    {
     "data": {
      "text/plain": [
       "False"
      ]
     },
     "execution_count": 7,
     "metadata": {},
     "output_type": "execute_result"
    }
   ],
   "source": [
    "v= spot_mutation_int(agent_mut_num(2),w)\n",
    "np.array_equal(v,w)"
   ]
  },
  {
   "cell_type": "code",
   "execution_count": 8,
   "id": "55d5840b-5fbe-4123-aceb-ad68cb944621",
   "metadata": {},
   "outputs": [
    {
     "data": {
      "text/plain": [
       "False"
      ]
     },
     "execution_count": 8,
     "metadata": {},
     "output_type": "execute_result"
    }
   ],
   "source": [
    "np.array_equal(v,w)"
   ]
  },
  {
   "cell_type": "code",
   "execution_count": 9,
   "id": "cbdfa6fd-aab4-4aa1-b424-fb0dad83c854",
   "metadata": {},
   "outputs": [
    {
     "data": {
      "text/plain": [
       "19"
      ]
     },
     "execution_count": 9,
     "metadata": {},
     "output_type": "execute_result"
    }
   ],
   "source": [
    "agent_mut_num(30)"
   ]
  },
  {
   "cell_type": "code",
   "execution_count": 10,
   "id": "edfba006-8840-4201-9c27-2ad7313689ab",
   "metadata": {},
   "outputs": [],
   "source": [
    "#==============================================================================\n",
    "# recovery \n",
    "#==============================================================================\n",
    "\n",
    "def recovery_odds(k=1,theta=10):\n",
    "#gamma functoin - time until next event\n",
    "                     #k is number of events (one)\n",
    "                     #theta is avg num days to infection (10)\n",
    "#returns: time in days until recovery. save and then check if infection day is higher than that\n",
    "    day = round(np.random.gamma(k, theta, 1)[0])\n",
    "    return day"
   ]
  },
  {
   "cell_type": "code",
   "execution_count": 11,
   "id": "dc2f1d99-474d-4f74-9fa7-8ee7b1cc31a2",
   "metadata": {},
   "outputs": [],
   "source": [
    "base = SeqIO.to_dict(SeqIO.parse('data/reference.fasta', 'fasta'))\n",
    "ref= base['base_case']\n",
    "refseq = np.array(ref)"
   ]
  },
  {
   "cell_type": "code",
   "execution_count": 12,
   "id": "cdc92241-3c4d-40f3-9280-84642cbf0853",
   "metadata": {},
   "outputs": [],
   "source": [
    "refseq2 = []\n",
    "dik={}\n",
    "dik['A'] = 0\n",
    "dik['C'] = 1\n",
    "dik['T'] = 2\n",
    "dik['G'] = 3\n",
    "for a in refseq:\n",
    "    refseq2.append(dik[a])"
   ]
  },
  {
   "cell_type": "code",
   "execution_count": 13,
   "id": "988cbca3-eb4c-4381-9db8-4ad8db5b3dcc",
   "metadata": {},
   "outputs": [],
   "source": [
    "refseq2 = np.array(refseq2).T"
   ]
  },
  {
   "cell_type": "markdown",
   "id": "e2d59cb0-f88d-41d3-9208-474e11af4631",
   "metadata": {},
   "source": [
    "## 0.2 Time Steps\n",
    "* chosing to run for 31 days\n",
    "* [equation](https://cse.cs.ucsb.edu/sites/default/files/publications/NewTau052.pdf)  for determining Tau: IGNORING ME - ASK IN GROUP MEETING"
   ]
  },
  {
   "cell_type": "code",
   "execution_count": 14,
   "id": "bfc012e5-b89d-4296-8ac1-447c0f077a0d",
   "metadata": {},
   "outputs": [],
   "source": [
    "times = np.arange(0,31)\n"
   ]
  },
  {
   "cell_type": "markdown",
   "id": "200f5617-d7be-4ea2-a3b6-b4a0100c5508",
   "metadata": {},
   "source": [
    "# 1. Initializing Cases/Agents"
   ]
  },
  {
   "cell_type": "code",
   "execution_count": 26,
   "id": "e7a1c678-5c54-4c80-9854-da96723f5f1e",
   "metadata": {},
   "outputs": [],
   "source": [
    "allseq = {}"
   ]
  },
  {
   "cell_type": "markdown",
   "id": "4361a254-eef0-4677-be43-70147895226a",
   "metadata": {},
   "source": [
    "### 1.1 Community Stat\n",
    "    start initalize all communities and starting state of susceptible"
   ]
  },
  {
   "cell_type": "code",
   "execution_count": 27,
   "id": "9113b17c-70cd-4c9d-a3a0-09e9e92105aa",
   "metadata": {},
   "outputs": [],
   "source": [
    "char = ['accession','community','state','infection_date','index_ID','descendants', 'recovery']\n",
    "agents = pd.DataFrame(columns=char, index=range(100))\n",
    "\n",
    "agents['state'] = 'S'\n",
    "    #initiialize all as Susceptible - 'S'\n",
    "agents['community'] = np.random.binomial(1,0.5,100) \n",
    "    #random 50/50 to be in community A vs B. multinomial if more communitis\n",
    "#agents['community'] = [ chr(x+65) for x in agents.community]\n",
    "    #convert numerical binomial to char. 0 - A, 1- B...///////////\n",
    "agents['descendants'] = [[]] * agents.shape[0]\n",
    "    \n",
    "#don't need to save sequence here, save to dict w key as accession"
   ]
  },
  {
   "cell_type": "markdown",
   "id": "7ef27ba3-35a6-4853-a79f-03082f083d6a",
   "metadata": {},
   "source": [
    "### 1.2 Initial I"
   ]
  },
  {
   "cell_type": "code",
   "execution_count": 31,
   "id": "4473c179-4c68-4f31-8d48-185326b14cec",
   "metadata": {},
   "outputs": [
    {
     "data": {
      "text/html": [
       "<div>\n",
       "<style scoped>\n",
       "    .dataframe tbody tr th:only-of-type {\n",
       "        vertical-align: middle;\n",
       "    }\n",
       "\n",
       "    .dataframe tbody tr th {\n",
       "        vertical-align: top;\n",
       "    }\n",
       "\n",
       "    .dataframe thead th {\n",
       "        text-align: right;\n",
       "    }\n",
       "</style>\n",
       "<table border=\"1\" class=\"dataframe\">\n",
       "  <thead>\n",
       "    <tr style=\"text-align: right;\">\n",
       "      <th></th>\n",
       "      <th>accession</th>\n",
       "      <th>community</th>\n",
       "      <th>state</th>\n",
       "      <th>infection_date</th>\n",
       "      <th>index_ID</th>\n",
       "      <th>descendants</th>\n",
       "      <th>recovery</th>\n",
       "    </tr>\n",
       "  </thead>\n",
       "  <tbody>\n",
       "    <tr>\n",
       "      <th>0</th>\n",
       "      <td>1000</td>\n",
       "      <td>1</td>\n",
       "      <td>I</td>\n",
       "      <td>2020-03-01</td>\n",
       "      <td>NaN</td>\n",
       "      <td>[]</td>\n",
       "      <td>2020-03-09</td>\n",
       "    </tr>\n",
       "    <tr>\n",
       "      <th>1</th>\n",
       "      <td>NaN</td>\n",
       "      <td>1</td>\n",
       "      <td>S</td>\n",
       "      <td>NaN</td>\n",
       "      <td>NaN</td>\n",
       "      <td>[]</td>\n",
       "      <td>NaN</td>\n",
       "    </tr>\n",
       "    <tr>\n",
       "      <th>2</th>\n",
       "      <td>NaN</td>\n",
       "      <td>1</td>\n",
       "      <td>S</td>\n",
       "      <td>NaN</td>\n",
       "      <td>NaN</td>\n",
       "      <td>[]</td>\n",
       "      <td>NaN</td>\n",
       "    </tr>\n",
       "    <tr>\n",
       "      <th>3</th>\n",
       "      <td>NaN</td>\n",
       "      <td>1</td>\n",
       "      <td>S</td>\n",
       "      <td>NaN</td>\n",
       "      <td>NaN</td>\n",
       "      <td>[]</td>\n",
       "      <td>NaN</td>\n",
       "    </tr>\n",
       "    <tr>\n",
       "      <th>4</th>\n",
       "      <td>NaN</td>\n",
       "      <td>0</td>\n",
       "      <td>S</td>\n",
       "      <td>NaN</td>\n",
       "      <td>NaN</td>\n",
       "      <td>[]</td>\n",
       "      <td>NaN</td>\n",
       "    </tr>\n",
       "    <tr>\n",
       "      <th>...</th>\n",
       "      <td>...</td>\n",
       "      <td>...</td>\n",
       "      <td>...</td>\n",
       "      <td>...</td>\n",
       "      <td>...</td>\n",
       "      <td>...</td>\n",
       "      <td>...</td>\n",
       "    </tr>\n",
       "    <tr>\n",
       "      <th>95</th>\n",
       "      <td>NaN</td>\n",
       "      <td>0</td>\n",
       "      <td>S</td>\n",
       "      <td>NaN</td>\n",
       "      <td>NaN</td>\n",
       "      <td>[]</td>\n",
       "      <td>NaN</td>\n",
       "    </tr>\n",
       "    <tr>\n",
       "      <th>96</th>\n",
       "      <td>NaN</td>\n",
       "      <td>0</td>\n",
       "      <td>S</td>\n",
       "      <td>NaN</td>\n",
       "      <td>NaN</td>\n",
       "      <td>[]</td>\n",
       "      <td>NaN</td>\n",
       "    </tr>\n",
       "    <tr>\n",
       "      <th>97</th>\n",
       "      <td>NaN</td>\n",
       "      <td>0</td>\n",
       "      <td>S</td>\n",
       "      <td>NaN</td>\n",
       "      <td>NaN</td>\n",
       "      <td>[]</td>\n",
       "      <td>NaN</td>\n",
       "    </tr>\n",
       "    <tr>\n",
       "      <th>98</th>\n",
       "      <td>NaN</td>\n",
       "      <td>0</td>\n",
       "      <td>S</td>\n",
       "      <td>NaN</td>\n",
       "      <td>NaN</td>\n",
       "      <td>[]</td>\n",
       "      <td>NaN</td>\n",
       "    </tr>\n",
       "    <tr>\n",
       "      <th>99</th>\n",
       "      <td>NaN</td>\n",
       "      <td>0</td>\n",
       "      <td>S</td>\n",
       "      <td>NaN</td>\n",
       "      <td>NaN</td>\n",
       "      <td>[]</td>\n",
       "      <td>NaN</td>\n",
       "    </tr>\n",
       "  </tbody>\n",
       "</table>\n",
       "<p>100 rows × 7 columns</p>\n",
       "</div>"
      ],
      "text/plain": [
       "   accession  community state infection_date index_ID descendants    recovery\n",
       "0       1000          1     I     2020-03-01      NaN          []  2020-03-09\n",
       "1        NaN          1     S            NaN      NaN          []         NaN\n",
       "2        NaN          1     S            NaN      NaN          []         NaN\n",
       "3        NaN          1     S            NaN      NaN          []         NaN\n",
       "4        NaN          0     S            NaN      NaN          []         NaN\n",
       "..       ...        ...   ...            ...      ...         ...         ...\n",
       "95       NaN          0     S            NaN      NaN          []         NaN\n",
       "96       NaN          0     S            NaN      NaN          []         NaN\n",
       "97       NaN          0     S            NaN      NaN          []         NaN\n",
       "98       NaN          0     S            NaN      NaN          []         NaN\n",
       "99       NaN          0     S            NaN      NaN          []         NaN\n",
       "\n",
       "[100 rows x 7 columns]"
      ]
     },
     "execution_count": 31,
     "metadata": {},
     "output_type": "execute_result"
    }
   ],
   "source": [
    "agents.at[0, 'accession'] = int(1000)\n",
    "agents.at[0, 'state'] = 'I'\n",
    "agents.at[0, 'infection_date'] = datetime.date.fromisoformat('2020-03-01')\n",
    "k =  round(np.random.exponential(10))\n",
    "agents.at[0,'recovery'] = datetime.date.fromisoformat('2020-03-01') + datetime.timedelta(days=k)\n",
    "allseq[1000] = refseq\n",
    "agents\n"
   ]
  },
  {
   "cell_type": "code",
   "execution_count": 32,
   "id": "3a0e22cc-56e9-4b6a-9872-e35dfec575ee",
   "metadata": {},
   "outputs": [
    {
     "data": {
      "text/plain": [
       "{1000: array(['A', 'T', 'T', ..., 'A', 'A', 'A'], dtype='<U1')}"
      ]
     },
     "execution_count": 32,
     "metadata": {},
     "output_type": "execute_result"
    }
   ],
   "source": [
    "allseq"
   ]
  },
  {
   "cell_type": "markdown",
   "id": "24eb7882-bff6-4dba-8b89-0ff3f5e749c1",
   "metadata": {},
   "source": [
    "### 1.3 Infection"
   ]
  },
  {
   "cell_type": "code",
   "execution_count": null,
   "id": "8aeae647-13ce-404c-a492-56d122174f2b",
   "metadata": {},
   "outputs": [],
   "source": [
    "for day in times:\n",
    "    step = int(day)\n",
    "    hoy = datetime.date.fromisoformat('2020-03-01') + datetime.timedelta(days=step)\n",
    "    sus = agents[agents.state==\"S\"]\n",
    "    inf = agents[agents.state==\"I\"]\n",
    "\n",
    "    for ii in inf.T:\n",
    "        print(ii)\n",
    "        if agents.iloc[ii].recovery == hoy:\n",
    "            agents.at[ii, 'state'] = 'R'\n",
    "            break\n",
    "        com = agents.iloc[ii].community\n",
    "        ins = num_infected(0.3, sus[sus.community==com].index)\n",
    "        for i in ins:\n",
    "            ID =  random.randint(1,9999)\n",
    "            indID = agents.iloc[ii].accession\n",
    "            day_sick = round(np.random.exponential(10))\n",
    "            agents.at[i, 'accession'] = ID\n",
    "            agents.at[i, 'state'] = \"I\"\n",
    "            agents.at[i, 'infection_date'] = hoy\n",
    "            agents.at[i, 'index_ID'] = indID\n",
    "            agents.at[i, 'recovery'] = hoy + datetime.timedelta(days=day_sick)\n",
    "            #agents.at[ii, 'descendants'] = np.append(i) #this is logic is so wrong skskkssk fix\n",
    "            allseq[ID] = spot_mutation(agent_mut_num(day_sick*.081), allseq[indID])\n",
    "            #day_sick*.081\n",
    "            \n",
    "            \n",
    "        outs = num_infected(0.15, sus[sus.community!=com].index)\n",
    "        for o in outs:\n",
    "            ID =  random.randint(1,9999)\n",
    "            indID = agents.iloc[ii].accession\n",
    "            day_sick = round(np.random.exponential(10))\n",
    "            agents.at[o, 'accession'] = ID\n",
    "            agents.at[o, 'state'] = \"I\"\n",
    "            agents.at[o, 'infection_date'] = hoy\n",
    "            agents.at[o, 'index_ID'] = indID\n",
    "            agents.at[o, 'recovery'] = hoy + datetime.timedelta(days=day_sick)\n",
    "            #agents.at[ii, 'descendants'] = np.append(o) #this is logic is so wrong skskkssk fix\n",
    "            #day_sick*.081\n",
    "            allseq[ID] = spot_mutation(agent_mut_num(day_sick*.081), allseq[indID])\n",
    "        #print(ins)\n",
    "        #print(outs)\n",
    "    print(\"today \" + str(day))\n",
    "    \n",
    "    \n"
   ]
  },
  {
   "cell_type": "code",
   "execution_count": null,
   "id": "254fbde1-82e8-4040-a874-4b504fb374ba",
   "metadata": {},
   "outputs": [],
   "source": []
  },
  {
   "cell_type": "markdown",
   "id": "65288196-3f7f-4f0d-9e7d-293925f51634",
   "metadata": {},
   "source": [
    "# 2. Summary Info"
   ]
  },
  {
   "cell_type": "code",
   "execution_count": 50,
   "id": "0061e697-afde-465c-b3a5-6e4812a8534e",
   "metadata": {},
   "outputs": [
    {
     "data": {
      "text/html": [
       "<div>\n",
       "<style scoped>\n",
       "    .dataframe tbody tr th:only-of-type {\n",
       "        vertical-align: middle;\n",
       "    }\n",
       "\n",
       "    .dataframe tbody tr th {\n",
       "        vertical-align: top;\n",
       "    }\n",
       "\n",
       "    .dataframe thead th {\n",
       "        text-align: right;\n",
       "    }\n",
       "</style>\n",
       "<table border=\"1\" class=\"dataframe\">\n",
       "  <thead>\n",
       "    <tr style=\"text-align: right;\">\n",
       "      <th></th>\n",
       "      <th>accession</th>\n",
       "      <th>community</th>\n",
       "      <th>state</th>\n",
       "      <th>infection_date</th>\n",
       "      <th>index_ID</th>\n",
       "      <th>descendants</th>\n",
       "      <th>recovery</th>\n",
       "    </tr>\n",
       "  </thead>\n",
       "  <tbody>\n",
       "    <tr>\n",
       "      <th>0</th>\n",
       "      <td>1000</td>\n",
       "      <td>1</td>\n",
       "      <td>R</td>\n",
       "      <td>2020-03-01</td>\n",
       "      <td>NaN</td>\n",
       "      <td>[]</td>\n",
       "      <td>2020-03-09</td>\n",
       "    </tr>\n",
       "    <tr>\n",
       "      <th>1</th>\n",
       "      <td>9385</td>\n",
       "      <td>1</td>\n",
       "      <td>R</td>\n",
       "      <td>2020-03-08</td>\n",
       "      <td>1000</td>\n",
       "      <td>[]</td>\n",
       "      <td>2020-03-11</td>\n",
       "    </tr>\n",
       "    <tr>\n",
       "      <th>2</th>\n",
       "      <td>4976</td>\n",
       "      <td>1</td>\n",
       "      <td>R</td>\n",
       "      <td>2020-03-20</td>\n",
       "      <td>6152</td>\n",
       "      <td>[]</td>\n",
       "      <td>2020-03-26</td>\n",
       "    </tr>\n",
       "    <tr>\n",
       "      <th>3</th>\n",
       "      <td>9048</td>\n",
       "      <td>1</td>\n",
       "      <td>R</td>\n",
       "      <td>2020-03-03</td>\n",
       "      <td>1000</td>\n",
       "      <td>[]</td>\n",
       "      <td>2020-03-10</td>\n",
       "    </tr>\n",
       "    <tr>\n",
       "      <th>4</th>\n",
       "      <td>1766</td>\n",
       "      <td>0</td>\n",
       "      <td>I</td>\n",
       "      <td>2020-03-15</td>\n",
       "      <td>7557</td>\n",
       "      <td>[]</td>\n",
       "      <td>2020-03-15</td>\n",
       "    </tr>\n",
       "    <tr>\n",
       "      <th>...</th>\n",
       "      <td>...</td>\n",
       "      <td>...</td>\n",
       "      <td>...</td>\n",
       "      <td>...</td>\n",
       "      <td>...</td>\n",
       "      <td>...</td>\n",
       "      <td>...</td>\n",
       "    </tr>\n",
       "    <tr>\n",
       "      <th>95</th>\n",
       "      <td>NaN</td>\n",
       "      <td>0</td>\n",
       "      <td>S</td>\n",
       "      <td>NaN</td>\n",
       "      <td>NaN</td>\n",
       "      <td>[]</td>\n",
       "      <td>NaN</td>\n",
       "    </tr>\n",
       "    <tr>\n",
       "      <th>96</th>\n",
       "      <td>1937</td>\n",
       "      <td>0</td>\n",
       "      <td>I</td>\n",
       "      <td>2020-03-20</td>\n",
       "      <td>1901</td>\n",
       "      <td>[]</td>\n",
       "      <td>2020-03-21</td>\n",
       "    </tr>\n",
       "    <tr>\n",
       "      <th>97</th>\n",
       "      <td>NaN</td>\n",
       "      <td>0</td>\n",
       "      <td>S</td>\n",
       "      <td>NaN</td>\n",
       "      <td>NaN</td>\n",
       "      <td>[]</td>\n",
       "      <td>NaN</td>\n",
       "    </tr>\n",
       "    <tr>\n",
       "      <th>98</th>\n",
       "      <td>4006</td>\n",
       "      <td>0</td>\n",
       "      <td>R</td>\n",
       "      <td>2020-03-06</td>\n",
       "      <td>7940</td>\n",
       "      <td>[]</td>\n",
       "      <td>2020-03-13</td>\n",
       "    </tr>\n",
       "    <tr>\n",
       "      <th>99</th>\n",
       "      <td>7380</td>\n",
       "      <td>0</td>\n",
       "      <td>I</td>\n",
       "      <td>2020-03-12</td>\n",
       "      <td>8165</td>\n",
       "      <td>[]</td>\n",
       "      <td>2020-03-14</td>\n",
       "    </tr>\n",
       "  </tbody>\n",
       "</table>\n",
       "<p>100 rows × 7 columns</p>\n",
       "</div>"
      ],
      "text/plain": [
       "   accession  community state infection_date index_ID descendants    recovery\n",
       "0       1000          1     R     2020-03-01      NaN          []  2020-03-09\n",
       "1       9385          1     R     2020-03-08     1000          []  2020-03-11\n",
       "2       4976          1     R     2020-03-20     6152          []  2020-03-26\n",
       "3       9048          1     R     2020-03-03     1000          []  2020-03-10\n",
       "4       1766          0     I     2020-03-15     7557          []  2020-03-15\n",
       "..       ...        ...   ...            ...      ...         ...         ...\n",
       "95       NaN          0     S            NaN      NaN          []         NaN\n",
       "96      1937          0     I     2020-03-20     1901          []  2020-03-21\n",
       "97       NaN          0     S            NaN      NaN          []         NaN\n",
       "98      4006          0     R     2020-03-06     7940          []  2020-03-13\n",
       "99      7380          0     I     2020-03-12     8165          []  2020-03-14\n",
       "\n",
       "[100 rows x 7 columns]"
      ]
     },
     "execution_count": 50,
     "metadata": {},
     "output_type": "execute_result"
    }
   ],
   "source": [
    "agents"
   ]
  },
  {
   "cell_type": "code",
   "execution_count": 42,
   "id": "9e55d5d6-9788-404d-adfc-16e8a5ca7fe7",
   "metadata": {},
   "outputs": [
    {
     "data": {
      "text/plain": [
       "False"
      ]
     },
     "execution_count": 42,
     "metadata": {},
     "output_type": "execute_result"
    }
   ],
   "source": [
    "np.array_equal(allseq[1000],allseq[2582])"
   ]
  },
  {
   "cell_type": "code",
   "execution_count": null,
   "id": "b5f34129-3d6a-47b7-ba5e-1dac83edc523",
   "metadata": {},
   "outputs": [],
   "source": [
    "agents.index_ID.plot.hist(bins=20, rwidth=0.9,\n",
    "                   color='#607c8e')\n",
    "plt.ylabel=('Frequency')\n",
    "plt.xlabel=('Infector')"
   ]
  },
  {
   "cell_type": "code",
   "execution_count": 43,
   "id": "73112a16-b958-43bc-838b-c10135ef8755",
   "metadata": {},
   "outputs": [],
   "source": [
    "tot=0\n",
    "for a in allseq:\n",
    "    for j in allseq:\n",
    "        if np.array_equal(allseq[a], allseq[j]):\n",
    "            tot+=1\n"
   ]
  },
  {
   "cell_type": "code",
   "execution_count": 45,
   "id": "e231c6cc-75a0-494f-a57f-c3cb374d1076",
   "metadata": {},
   "outputs": [
    {
     "data": {
      "text/plain": [
       "387"
      ]
     },
     "execution_count": 45,
     "metadata": {},
     "output_type": "execute_result"
    }
   ],
   "source": [
    "tot"
   ]
  },
  {
   "cell_type": "code",
   "execution_count": 48,
   "id": "db905944-2b70-47a1-aab4-bb8c76f431ef",
   "metadata": {},
   "outputs": [
    {
     "data": {
      "text/plain": [
       "95"
      ]
     },
     "execution_count": 48,
     "metadata": {},
     "output_type": "execute_result"
    }
   ],
   "source": [
    "len(allseq)"
   ]
  },
  {
   "cell_type": "code",
   "execution_count": 49,
   "id": "772bd439-58fa-41f6-8d7c-2cd521b04bd3",
   "metadata": {},
   "outputs": [
    {
     "data": {
      "text/plain": [
       "4465.0"
      ]
     },
     "execution_count": 49,
     "metadata": {},
     "output_type": "execute_result"
    }
   ],
   "source": [
    "95*94/2"
   ]
  },
  {
   "cell_type": "code",
   "execution_count": 24,
   "id": "dbdb386d-71c2-45b5-abb7-6c22c4a51ba7",
   "metadata": {},
   "outputs": [
    {
     "data": {
      "text/plain": [
       "{1000: array(['A', 'T', 'T', ..., 'A', 'A', 'A'], dtype='<U1'),\n",
       " 9968: array(['A', 'T', 'T', ..., 'A', 'A', 'A'], dtype='<U1'),\n",
       " 9183: array(['A', 'T', 'T', ..., 'A', 'A', 'A'], dtype='<U1'),\n",
       " 489: array(['A', 'T', 'T', ..., 'A', 'A', 'A'], dtype='<U1'),\n",
       " 962: array(['A', 'T', 'T', ..., 'A', 'A', 'A'], dtype='<U1'),\n",
       " 569: array(['A', 'T', 'T', ..., 'A', 'A', 'A'], dtype='<U1'),\n",
       " 9244: array(['A', 'T', 'T', ..., 'A', 'A', 'A'], dtype='<U1'),\n",
       " 2567: array(['A', 'T', 'T', ..., 'A', 'A', 'A'], dtype='<U1'),\n",
       " 9031: array(['A', 'T', 'T', ..., 'A', 'A', 'A'], dtype='<U1'),\n",
       " 8761: array(['A', 'T', 'T', ..., 'A', 'A', 'A'], dtype='<U1'),\n",
       " 4375: array(['A', 'T', 'T', ..., 'A', 'A', 'A'], dtype='<U1'),\n",
       " 4782: array(['A', 'T', 'T', ..., 'A', 'A', 'A'], dtype='<U1'),\n",
       " 4202: array(['A', 'T', 'T', ..., 'A', 'A', 'A'], dtype='<U1'),\n",
       " 5897: array(['A', 'T', 'T', ..., 'A', 'A', 'A'], dtype='<U1'),\n",
       " 7451: array(['A', 'T', 'T', ..., 'A', 'A', 'A'], dtype='<U1'),\n",
       " 8388: array(['A', 'T', 'T', ..., 'A', 'A', 'A'], dtype='<U1'),\n",
       " 9895: array(['A', 'T', 'T', ..., 'A', 'A', 'A'], dtype='<U1'),\n",
       " 490: array(['A', 'T', 'T', ..., 'A', 'A', 'A'], dtype='<U1'),\n",
       " 1208: array(['A', 'T', 'T', ..., 'A', 'A', 'A'], dtype='<U1'),\n",
       " 7840: array(['A', 'T', 'T', ..., 'A', 'A', 'A'], dtype='<U1'),\n",
       " 7068: array(['A', 'T', 'T', ..., 'A', 'A', 'A'], dtype='<U1'),\n",
       " 790: array(['A', 'T', 'T', ..., 'A', 'A', 'A'], dtype='<U1'),\n",
       " 2431: array(['A', 'T', 'T', ..., 'A', 'A', 'A'], dtype='<U1'),\n",
       " 3240: array(['A', 'T', 'T', ..., 'A', 'A', 'A'], dtype='<U1'),\n",
       " 1378: array(['A', 'T', 'T', ..., 'A', 'A', 'A'], dtype='<U1'),\n",
       " 5603: array(['A', 'T', 'T', ..., 'A', 'A', 'A'], dtype='<U1'),\n",
       " 2574: array(['A', 'T', 'T', ..., 'A', 'A', 'A'], dtype='<U1'),\n",
       " 8518: array(['A', 'T', 'T', ..., 'A', 'A', 'A'], dtype='<U1'),\n",
       " 3348: array(['A', 'T', 'T', ..., 'A', 'A', 'A'], dtype='<U1'),\n",
       " 5703: array(['A', 'T', 'T', ..., 'A', 'A', 'A'], dtype='<U1'),\n",
       " 5534: array(['A', 'T', 'T', ..., 'A', 'A', 'A'], dtype='<U1'),\n",
       " 3804: array(['A', 'T', 'T', ..., 'A', 'A', 'A'], dtype='<U1'),\n",
       " 6003: array(['A', 'T', 'T', ..., 'A', 'A', 'A'], dtype='<U1'),\n",
       " 2665: array(['A', 'T', 'T', ..., 'A', 'A', 'A'], dtype='<U1'),\n",
       " 7254: array(['A', 'T', 'T', ..., 'A', 'A', 'A'], dtype='<U1'),\n",
       " 2352: array(['A', 'T', 'T', ..., 'A', 'A', 'A'], dtype='<U1'),\n",
       " 1971: array(['A', 'T', 'T', ..., 'A', 'A', 'A'], dtype='<U1'),\n",
       " 8553: array(['A', 'T', 'T', ..., 'A', 'A', 'A'], dtype='<U1'),\n",
       " 3918: array(['A', 'T', 'T', ..., 'A', 'A', 'A'], dtype='<U1'),\n",
       " 1397: array(['A', 'T', 'T', ..., 'A', 'A', 'A'], dtype='<U1'),\n",
       " 4154: array(['A', 'T', 'T', ..., 'A', 'A', 'A'], dtype='<U1'),\n",
       " 5713: array(['A', 'T', 'T', ..., 'A', 'A', 'A'], dtype='<U1'),\n",
       " 7887: array(['A', 'T', 'T', ..., 'A', 'A', 'A'], dtype='<U1'),\n",
       " 1188: array(['A', 'T', 'T', ..., 'A', 'A', 'A'], dtype='<U1'),\n",
       " 7370: array(['A', 'T', 'T', ..., 'A', 'A', 'A'], dtype='<U1'),\n",
       " 61: array(['A', 'T', 'T', ..., 'A', 'A', 'A'], dtype='<U1'),\n",
       " 6860: array(['A', 'T', 'T', ..., 'A', 'A', 'A'], dtype='<U1'),\n",
       " 1628: array(['A', 'T', 'T', ..., 'A', 'A', 'A'], dtype='<U1'),\n",
       " 9343: array(['A', 'T', 'T', ..., 'A', 'A', 'A'], dtype='<U1'),\n",
       " 7093: array(['A', 'T', 'T', ..., 'A', 'A', 'A'], dtype='<U1'),\n",
       " 7993: array(['A', 'T', 'T', ..., 'A', 'A', 'A'], dtype='<U1'),\n",
       " 1533: array(['A', 'T', 'T', ..., 'A', 'A', 'A'], dtype='<U1'),\n",
       " 9488: array(['A', 'T', 'T', ..., 'A', 'A', 'A'], dtype='<U1'),\n",
       " 3343: array(['A', 'T', 'T', ..., 'A', 'A', 'A'], dtype='<U1'),\n",
       " 4072: array(['A', 'T', 'T', ..., 'A', 'A', 'A'], dtype='<U1'),\n",
       " 6246: array(['A', 'T', 'T', ..., 'A', 'A', 'A'], dtype='<U1'),\n",
       " 2804: array(['A', 'T', 'T', ..., 'A', 'A', 'A'], dtype='<U1'),\n",
       " 163: array(['A', 'T', 'T', ..., 'A', 'A', 'A'], dtype='<U1'),\n",
       " 7523: array(['A', 'T', 'T', ..., 'A', 'A', 'A'], dtype='<U1'),\n",
       " 4774: array(['A', 'T', 'T', ..., 'A', 'A', 'A'], dtype='<U1'),\n",
       " 6018: array(['A', 'T', 'T', ..., 'A', 'A', 'A'], dtype='<U1'),\n",
       " 9213: array(['A', 'T', 'T', ..., 'A', 'A', 'A'], dtype='<U1'),\n",
       " 6416: array(['A', 'T', 'T', ..., 'A', 'A', 'A'], dtype='<U1'),\n",
       " 5729: array(['A', 'T', 'T', ..., 'A', 'A', 'A'], dtype='<U1'),\n",
       " 7168: array(['A', 'T', 'T', ..., 'A', 'A', 'A'], dtype='<U1'),\n",
       " 5721: array(['A', 'T', 'T', ..., 'A', 'A', 'A'], dtype='<U1'),\n",
       " 481: array(['A', 'T', 'T', ..., 'A', 'A', 'A'], dtype='<U1'),\n",
       " 8341: array(['A', 'T', 'T', ..., 'A', 'A', 'A'], dtype='<U1'),\n",
       " 3844: array(['A', 'T', 'T', ..., 'A', 'A', 'A'], dtype='<U1'),\n",
       " 4907: array(['A', 'T', 'T', ..., 'A', 'A', 'A'], dtype='<U1'),\n",
       " 3506: array(['A', 'T', 'T', ..., 'A', 'A', 'A'], dtype='<U1'),\n",
       " 6389: array(['A', 'T', 'T', ..., 'A', 'A', 'A'], dtype='<U1'),\n",
       " 7528: array(['A', 'T', 'T', ..., 'A', 'A', 'A'], dtype='<U1'),\n",
       " 825: array(['A', 'T', 'T', ..., 'A', 'A', 'A'], dtype='<U1'),\n",
       " 8394: array(['A', 'T', 'T', ..., 'A', 'A', 'A'], dtype='<U1'),\n",
       " 9516: array(['A', 'T', 'T', ..., 'A', 'A', 'A'], dtype='<U1'),\n",
       " 8765: array(['A', 'T', 'T', ..., 'A', 'A', 'A'], dtype='<U1'),\n",
       " 8428: array(['A', 'T', 'T', ..., 'A', 'A', 'A'], dtype='<U1'),\n",
       " 5025: array(['A', 'T', 'T', ..., 'A', 'A', 'A'], dtype='<U1'),\n",
       " 3194: array(['A', 'T', 'T', ..., 'A', 'A', 'A'], dtype='<U1'),\n",
       " 9708: array(['A', 'T', 'T', ..., 'A', 'A', 'A'], dtype='<U1'),\n",
       " 3745: array(['A', 'T', 'T', ..., 'A', 'A', 'A'], dtype='<U1'),\n",
       " 7170: array(['A', 'T', 'T', ..., 'A', 'A', 'A'], dtype='<U1'),\n",
       " 9544: array(['A', 'T', 'T', ..., 'A', 'A', 'A'], dtype='<U1'),\n",
       " 5065: array(['A', 'T', 'T', ..., 'A', 'A', 'A'], dtype='<U1'),\n",
       " 4212: array(['A', 'T', 'T', ..., 'A', 'A', 'A'], dtype='<U1'),\n",
       " 5450: array(['A', 'T', 'T', ..., 'A', 'A', 'A'], dtype='<U1'),\n",
       " 1170: array(['A', 'T', 'T', ..., 'A', 'A', 'A'], dtype='<U1'),\n",
       " 9784: array(['A', 'T', 'T', ..., 'A', 'A', 'A'], dtype='<U1'),\n",
       " 9631: array(['A', 'T', 'T', ..., 'A', 'A', 'A'], dtype='<U1'),\n",
       " 1703: array(['A', 'T', 'T', ..., 'A', 'A', 'A'], dtype='<U1'),\n",
       " 8046: array(['A', 'T', 'T', ..., 'A', 'A', 'A'], dtype='<U1'),\n",
       " 8351: array(['A', 'T', 'T', ..., 'A', 'A', 'A'], dtype='<U1'),\n",
       " 7757: array(['A', 'T', 'T', ..., 'A', 'A', 'A'], dtype='<U1'),\n",
       " 667: array(['A', 'T', 'T', ..., 'A', 'A', 'A'], dtype='<U1'),\n",
       " 1603: array(['A', 'T', 'T', ..., 'A', 'A', 'A'], dtype='<U1'),\n",
       " 2943: array(['A', 'T', 'T', ..., 'A', 'A', 'A'], dtype='<U1'),\n",
       " 6687: array(['A', 'T', 'T', ..., 'A', 'A', 'A'], dtype='<U1'),\n",
       " 6161: array(['A', 'T', 'T', ..., 'A', 'A', 'A'], dtype='<U1'),\n",
       " 2148: array(['A', 'T', 'T', ..., 'A', 'A', 'A'], dtype='<U1'),\n",
       " 7944: array(['A', 'T', 'T', ..., 'A', 'A', 'A'], dtype='<U1'),\n",
       " 9815: array(['A', 'T', 'T', ..., 'A', 'A', 'A'], dtype='<U1'),\n",
       " 6640: array(['A', 'T', 'T', ..., 'A', 'A', 'A'], dtype='<U1'),\n",
       " 5739: array(['A', 'T', 'T', ..., 'A', 'A', 'A'], dtype='<U1'),\n",
       " 8971: array(['A', 'T', 'T', ..., 'A', 'A', 'A'], dtype='<U1'),\n",
       " 9259: array(['A', 'T', 'T', ..., 'A', 'A', 'A'], dtype='<U1'),\n",
       " 2382: array(['A', 'T', 'T', ..., 'A', 'A', 'A'], dtype='<U1'),\n",
       " 3192: array(['A', 'T', 'T', ..., 'A', 'A', 'A'], dtype='<U1'),\n",
       " 6665: array(['A', 'T', 'T', ..., 'A', 'A', 'A'], dtype='<U1'),\n",
       " 1144: array(['A', 'T', 'T', ..., 'A', 'A', 'A'], dtype='<U1'),\n",
       " 9535: array(['A', 'T', 'T', ..., 'A', 'A', 'A'], dtype='<U1'),\n",
       " 3975: array(['A', 'T', 'T', ..., 'A', 'A', 'A'], dtype='<U1'),\n",
       " 6684: array(['A', 'T', 'T', ..., 'A', 'A', 'A'], dtype='<U1'),\n",
       " 949: array(['A', 'T', 'T', ..., 'A', 'A', 'A'], dtype='<U1'),\n",
       " 2420: array(['A', 'T', 'T', ..., 'A', 'A', 'A'], dtype='<U1'),\n",
       " 72: array(['A', 'T', 'T', ..., 'A', 'A', 'A'], dtype='<U1'),\n",
       " 3399: array(['A', 'T', 'T', ..., 'A', 'A', 'A'], dtype='<U1'),\n",
       " 7548: array(['A', 'T', 'T', ..., 'A', 'A', 'A'], dtype='<U1'),\n",
       " 9454: array(['A', 'T', 'T', ..., 'A', 'A', 'A'], dtype='<U1'),\n",
       " 5217: array(['A', 'T', 'T', ..., 'A', 'A', 'A'], dtype='<U1'),\n",
       " 3776: array(['A', 'T', 'T', ..., 'A', 'A', 'A'], dtype='<U1')}"
      ]
     },
     "execution_count": 24,
     "metadata": {},
     "output_type": "execute_result"
    }
   ],
   "source": [
    "allseq"
   ]
  },
  {
   "cell_type": "code",
   "execution_count": null,
   "id": "d82f8b43-3fa5-4e6a-aa12-81200137e159",
   "metadata": {},
   "outputs": [],
   "source": []
  }
 ],
 "metadata": {
  "kernelspec": {
   "display_name": "Python 3",
   "language": "python",
   "name": "python3"
  },
  "language_info": {
   "codemirror_mode": {
    "name": "ipython",
    "version": 3
   },
   "file_extension": ".py",
   "mimetype": "text/x-python",
   "name": "python",
   "nbconvert_exporter": "python",
   "pygments_lexer": "ipython3",
   "version": "3.8.8"
  }
 },
 "nbformat": 4,
 "nbformat_minor": 5
}
