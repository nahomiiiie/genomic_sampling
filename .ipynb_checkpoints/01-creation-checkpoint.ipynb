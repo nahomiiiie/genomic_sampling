{
 "cells": [
  {
   "cell_type": "markdown",
   "id": "ff2c7c8b-348b-466a-b6ca-a7a199d7b9c5",
   "metadata": {},
   "source": [
    "# 01-Creation\n",
    "\n",
    "Things to do:\n",
    "1. Initialize root case\n",
    "    1. take in FASTA file from directory\n",
    "    2. save FASTA sequence as array of characters\n",
    "    3. intitialize community, date\n",
    "2. Create descendent communities\n",
    "    1. Set number of people in each communitiy\n",
    "    2. look at SIR rates  - when infected \n",
    "        1. infecting x in A - Poisson\n",
    "        2. infection x in B - Poisson\n",
    "        3. recovering and leaving R - Gaussian? IDK\n",
    "        4. select person from each community randomly based on rate\n",
    "    3. At infection, look at mutation formula and pass onto reciever\n",
    "    \n",
    "TODO:\n",
    " *  figure out community size x data structure - prob dictionary\n",
    " *  how to pick community?\n",
    " *  \n",
    "    "
   ]
  },
  {
   "cell_type": "markdown",
   "id": "5e5eabf0-2e89-4ce0-ac2c-baa23cf10363",
   "metadata": {},
   "source": [
    "# 0. Setup"
   ]
  },
  {
   "cell_type": "code",
   "execution_count": 53,
   "id": "076e7487-bfc2-46c8-82d6-a6f3efa112b8",
   "metadata": {},
   "outputs": [],
   "source": [
    "import numpy as np\n",
    "import scipy.stats as stats\n",
    "import scipy.special as ssp\n",
    "import matplotlib as plt\n",
    "\n",
    "from Bio import SeqIO\n"
   ]
  },
  {
   "cell_type": "code",
   "execution_count": 35,
   "id": "dc2f1d99-474d-4f74-9fa7-8ee7b1cc31a2",
   "metadata": {},
   "outputs": [],
   "source": [
    "base = SeqIO.to_dict(SeqIO.parse('data/reference.fasta', 'fasta'))\n",
    "ref= base['base_case']\n",
    "refseq = np.array(ref)"
   ]
  },
  {
   "cell_type": "code",
   "execution_count": 40,
   "id": "a2a25c78-8f3b-4e1b-97f7-55be160259d8",
   "metadata": {},
   "outputs": [
    {
     "name": "stdout",
     "output_type": "stream",
     "text": [
      "A= 8954\n",
      "C= 5492\n",
      "T= 9594\n",
      "G= 5863\n"
     ]
    },
    {
     "data": {
      "text/plain": [
       "29903"
      ]
     },
     "execution_count": 40,
     "metadata": {},
     "output_type": "execute_result"
    }
   ],
   "source": [
    "A = 0\n",
    "C = 0\n",
    "T = 0\n",
    "G = 0\n",
    "for i in refseq:\n",
    "    if i == 'A':\n",
    "        A +=1\n",
    "    elif i == 'C':\n",
    "        C +=1\n",
    "    elif i == 'G':\n",
    "        G +=1\n",
    "    elif i =='T':\n",
    "        T +=1\n",
    "print(\"A= \" +str(A))\n",
    "print(\"C= \" +str(C))\n",
    "print(\"T= \"+ str(T))\n",
    "print(\"G= \" +str(G))\n",
    "A+T+C+G"
   ]
  },
  {
   "cell_type": "code",
   "execution_count": 46,
   "id": "d64faae6-0828-4255-be7d-9f136b405632",
   "metadata": {},
   "outputs": [
    {
     "data": {
      "text/plain": [
       "<scipy.stats._distn_infrastructure.rv_frozen at 0x7fc4eb7e31f0>"
      ]
     },
     "execution_count": 46,
     "metadata": {},
     "output_type": "execute_result"
    }
   ],
   "source": [
    "stats.poisson(0.5)\n"
   ]
  },
  {
   "cell_type": "markdown",
   "id": "c6319e8d-e5b9-4e65-9b79-c864b21b32ad",
   "metadata": {},
   "source": [
    "possion to clock rate - 0-2 mutations\n",
    "arndomdraw index to change number of mutations"
   ]
  },
  {
   "cell_type": "markdown",
   "id": "a1409b3f-fc5d-421d-a3ba-353c9836a1ed",
   "metadata": {},
   "source": [
    "# 1. Initializing Cases/Agents"
   ]
  },
  {
   "cell_type": "markdown",
   "id": "062b852c-3d8a-48bc-ab0b-e6e59b0a42ad",
   "metadata": {},
   "source": []
  }
 ],
 "metadata": {
  "kernelspec": {
   "display_name": "Python 3",
   "language": "python",
   "name": "python3"
  },
  "language_info": {
   "codemirror_mode": {
    "name": "ipython",
    "version": 3
   },
   "file_extension": ".py",
   "mimetype": "text/x-python",
   "name": "python",
   "nbconvert_exporter": "python",
   "pygments_lexer": "ipython3",
   "version": "3.8.8"
  }
 },
 "nbformat": 4,
 "nbformat_minor": 5
}
