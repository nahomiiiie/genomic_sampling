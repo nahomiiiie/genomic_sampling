{
 "cells": [
  {
   "cell_type": "markdown",
   "id": "708fa321-94c7-4cb3-a61a-b49463908c78",
   "metadata": {},
   "source": [
    "# INDEX\n",
    "<span style=\"color:gray;\">**Genomic Epidemiology-Based Sample Sizing**</span"
   ]
  },
  {
   "cell_type": "markdown",
   "id": "a53022a1-72a2-4c0d-84ff-729d25f81d80",
   "metadata": {},
   "source": [
    "In this folder, we will:\n",
    "\n",
    "* [functions](functions.py). In this section, we define the formulas for generating sequences, mutations, and ___ etc.\n",
    "* [01-creation](01-clustering.ipynb). In this notebook, we input the base FASTA file from NCBI for SARS-COV-2. We then create the communities and sequence of infection"
   ]
  },
  {
   "cell_type": "code",
   "execution_count": null,
   "id": "16809bec-d84e-43a5-bfa0-2df4294703cf",
   "metadata": {},
   "outputs": [],
   "source": []
  }
 ],
 "metadata": {
  "kernelspec": {
   "display_name": "Python 3",
   "language": "python",
   "name": "python3"
  },
  "language_info": {
   "codemirror_mode": {
    "name": "ipython",
    "version": 3
   },
   "file_extension": ".py",
   "mimetype": "text/x-python",
   "name": "python",
   "nbconvert_exporter": "python",
   "pygments_lexer": "ipython3",
   "version": "3.8.8"
  }
 },
 "nbformat": 4,
 "nbformat_minor": 5
}
